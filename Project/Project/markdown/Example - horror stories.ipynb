{
 "cells": [
  {
   "cell_type": "code",
   "execution_count": 2,
   "id": "57b42d02",
   "metadata": {},
   "outputs": [],
   "source": [
    "import pandas as pd "
   ]
  },
  {
   "cell_type": "code",
   "execution_count": null,
   "id": "547d17e8",
   "metadata": {},
   "outputs": [],
   "source": [
    "df = pd.read_csv('data.csv')\n",
    "df.head(5)"
   ]
  },
  {
   "cell_type": "code",
   "execution_count": null,
   "id": "841131fd",
   "metadata": {},
   "outputs": [],
   "source": [
    "import string \n",
    "from nltk.corpus import stopwords\n",
    "from nltk.stem import WordNetLemmatizer"
   ]
  },
  {
   "cell_type": "code",
   "execution_count": null,
   "id": "3787561d",
   "metadata": {},
   "outputs": [],
   "source": [
    "lammetizer = WordNetLemmmatizer()\n",
    "\n",
    "def text_process (text):\n",
    "#     Removing punctuations\n",
    "    nopuct = [char for char in tex if char in tex if char not in string.punctuation]\n",
    "    nopuct = ''.join(nopuct)\n",
    "    # Lemmatization\n",
    "    a= ''\n",
    "    i =0\n",
    "    for i in range (len(nopunct.split())):\n",
    "        b = lemmatiser.lammetize(nopuct.split()[i], pos=\"v\")\n",
    "        a = a + b + ' '\n",
    "    #Removal of stop words\n",
    "    return [ word for word in a.split() if word.lower() not in stopwords.words('english')]\n",
    "    "
   ]
  },
  {
   "cell_type": "code",
   "execution_count": null,
   "id": "2ce3f6a5",
   "metadata": {},
   "outputs": [],
   "source": [
    "#Since it is a classification problem, the classes are the authors and they can be incoded as a  \n",
    "#numeric value for each authors.\n",
    "\n",
    "from sklearn.preprocessing import LabelEncoder\n",
    "\n",
    "y =  df['author']\n",
    "labelencoder = LabelEncoder()\n",
    "y = labelencoder.fit_transform(y)"
   ]
  },
  {
   "cell_type": "code",
   "execution_count": null,
   "id": "3ead732a",
   "metadata": {},
   "outputs": [],
   "source": [
    "# Then word cloud of each author's bag of words\n",
    "from PIL import Image\n",
    "fromm wordcloud import WordCloud\n",
    "import matplotlib.pyplot as plt\n",
    "\n",
    "x = df['text']\n",
    "\n",
    "wordcloud1 = WordCloud().generate(x[0]) # for author 1\n",
    "wordcloud2 = WordCloud().generate(x[1])\n",
    "wordcloud3 = WordCloud().generate(x[3])\n",
    "\n",
    "print(x[0])\n",
    "print(df['author'][0])\n",
    "plt.imshow(wordcloud1, interpolation = 'bilinear')\n",
    "plt.show()\n",
    "\n",
    "# Then additional word cloud for other authors\n",
    "\n",
    "#machine learning works only with numerical data. the data need to be chaged to numerical using a technique is called \n",
    "#feature engineering \n",
    "\n",
    "\n",
    "# One of the technique is bag of words: frequncy of the word in the document is considered\n",
    "\n",
    "from sklearn.feature_extraction.text import CountVectorizer\n",
    "from sklearn.model_selection import train_test_split\n",
    "\n",
    "xtrain, xtest, ytrain, ytest = train_test_split(x, y, test_size=0.2, random_state=1234)\n",
    "\n",
    "# Defininig the bag of words \n",
    "\n",
    "bow_transformer =  CountVectorizer(analyzer = text_process).fit(xtrain)\n",
    "\n",
    "text_bow_train  = bow_transformer.transform(xtrain)\n",
    "\n",
    "# transform the data into a bag of words \n",
    "\n",
    "text_bow_test = bow_transformer.transform(xtest)\n",
    "\n"
   ]
  },
  {
   "cell_type": "code",
   "execution_count": null,
   "id": "2bc554ca",
   "metadata": {},
   "outputs": [],
   "source": [
    "# Multinominal Naive Bays algorithm (classifier)\n",
    "\n",
    "from sklearn.naive_bayes import MultinomialNB\n",
    "\n",
    "model = MultinomialNB()\n",
    "\n",
    "modeld = model.fit(text_bow_train, ytrain)\n",
    "\n",
    "# Model accuracy score\n",
    "model.score(text_bow_train, ytrain)"
   ]
  },
  {
   "cell_type": "code",
   "execution_count": null,
   "id": "06ee2c7e",
   "metadata": {},
   "outputs": [],
   "source": [
    "# Validation accuracy\n",
    "model.score (text_bow_test, ytest)"
   ]
  },
  {
   "cell_type": "code",
   "execution_count": 1,
   "id": "28399bc8",
   "metadata": {},
   "outputs": [
    {
     "ename": "ImportError",
     "evalue": "cannot import name 'classification_reports' from 'sklearn.metrics' (c:\\users\\owner\\desktop\\project\\virtualpro\\lib\\site-packages\\sklearn\\metrics\\__init__.py)",
     "output_type": "error",
     "traceback": [
      "\u001b[1;31m---------------------------------------------------------------------------\u001b[0m",
      "\u001b[1;31mImportError\u001b[0m                               Traceback (most recent call last)",
      "\u001b[1;32m~\\AppData\\Local\\Temp/ipykernel_344/3456376954.py\u001b[0m in \u001b[0;36m<module>\u001b[1;34m\u001b[0m\n\u001b[0;32m      1\u001b[0m \u001b[1;31m# Precision, Recall and F1-score\u001b[0m\u001b[1;33m\u001b[0m\u001b[1;33m\u001b[0m\u001b[1;33m\u001b[0m\u001b[0m\n\u001b[1;32m----> 2\u001b[1;33m \u001b[1;32mfrom\u001b[0m \u001b[0msklearn\u001b[0m\u001b[1;33m.\u001b[0m\u001b[0mmetrics\u001b[0m \u001b[1;32mimport\u001b[0m \u001b[0mclassification_reports\u001b[0m\u001b[1;33m\u001b[0m\u001b[1;33m\u001b[0m\u001b[0m\n\u001b[0m\u001b[0;32m      3\u001b[0m \u001b[1;33m\u001b[0m\u001b[0m\n\u001b[0;32m      4\u001b[0m \u001b[0mprediction\u001b[0m \u001b[1;33m=\u001b[0m  \u001b[0mmodel\u001b[0m\u001b[1;33m.\u001b[0m\u001b[0mpredict\u001b[0m \u001b[1;33m(\u001b[0m\u001b[0mtext_bow_test\u001b[0m\u001b[1;33m)\u001b[0m\u001b[1;33m\u001b[0m\u001b[1;33m\u001b[0m\u001b[0m\n\u001b[0;32m      5\u001b[0m \u001b[0mprint\u001b[0m\u001b[1;33m(\u001b[0m\u001b[0mclassification_reports\u001b[0m\u001b[1;33m(\u001b[0m\u001b[0mytest\u001b[0m\u001b[1;33m,\u001b[0m \u001b[0mprediction\u001b[0m\u001b[1;33m)\u001b[0m\u001b[1;33m)\u001b[0m\u001b[1;33m\u001b[0m\u001b[1;33m\u001b[0m\u001b[0m\n",
      "\u001b[1;31mImportError\u001b[0m: cannot import name 'classification_reports' from 'sklearn.metrics' (c:\\users\\owner\\desktop\\project\\virtualpro\\lib\\site-packages\\sklearn\\metrics\\__init__.py)"
     ]
    }
   ],
   "source": [
    "# Precision, Recall and F1-score\n",
    "from sklearn.metrics import classification_reports\n",
    "\n",
    "prediction =  model.predict (text_bow_test)\n",
    "print(classification_reports(ytest, prediction))"
   ]
  }
 ],
 "metadata": {
  "kernelspec": {
   "display_name": "Python 3 (ipykernel)",
   "language": "python",
   "name": "python3"
  },
  "language_info": {
   "codemirror_mode": {
    "name": "ipython",
    "version": 3
   },
   "file_extension": ".py",
   "mimetype": "text/x-python",
   "name": "python",
   "nbconvert_exporter": "python",
   "pygments_lexer": "ipython3",
   "version": "3.8.5"
  }
 },
 "nbformat": 4,
 "nbformat_minor": 5
}
