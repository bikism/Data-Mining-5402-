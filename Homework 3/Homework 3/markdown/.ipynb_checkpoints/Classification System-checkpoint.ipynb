{
 "cells": [
  {
   "cell_type": "markdown",
   "id": "2d4ffaaa",
   "metadata": {},
   "source": [
    "<table width = 400 align=\"left\" style = \"font-size:18px; float:  left\">\n",
    "    <tr>\n",
    "        <td>Name:</td>\n",
    "        <td>Bikis Muhammed</td>\n",
    "    </tr>\n",
    "    <tr>\n",
    "        <td>Email:</td>\n",
    "        <td>bmpb8@mst.edu</td>\n",
    "        </tr>\n",
    "    <tr>\n",
    "        <td>Course:</td>\n",
    "        <td>CS 5402</td>\n",
    "    </tr>\n",
    "    <tr>\n",
    "        <td>Assignment:</td>\n",
    "        <td>Classification System</td>\n",
    "    </tr>\n",
    "    <tr>\n",
    "        <td>Date:</td>\n",
    "        <td> 2021-07-08 </td>\n",
    "    </tr>\n",
    "   \n",
    "</table>\n",
    "\n",
    "<img src=\"../src-data/greylogo.png\" alt=\"logo\" style= \"width: 150px; float: right;\"/>"
   ]
  },
  {
   "cell_type": "code",
   "execution_count": 84,
   "id": "fc5081fc",
   "metadata": {
    "tags": []
   },
   "outputs": [
    {
     "data": {
      "text/html": [
       "<style>\n",
       ".output {\n",
       "    flex-direction: row;\n",
       "}\n",
       "</style>"
      ],
      "text/plain": [
       "<IPython.core.display.HTML object>"
      ]
     },
     "execution_count": 84,
     "metadata": {},
     "output_type": "execute_result"
    }
   ],
   "source": [
    "# For working with dataframe\n",
    "import pandas as pd\n",
    "# Working with numbers\n",
    "import numpy as ny\n",
    "# Imported for spliting a data to traing and test dataset\n",
    "from sklearn.model_selection import train_test_split\n",
    "# Imported for countplot\n",
    "import seaborn as sns\n",
    "# Imported for drawing plots\n",
    "import matplotlib.pyplot as plt\n",
    "# For imputing missing attribute values \n",
    "from sklearn.impute import SimpleImputer\n",
    "# Imported to create confusion matrix (did not used)\n",
    "from sklearn.metrics import confusion_matrix\n",
    "# Imported to find the accuracy score  value of the generated model\n",
    "from sklearn.metrics import accuracy_score\n",
    "# Imported to find precision, recall, and f1-score\n",
    "from sklearn.metrics import classification_report\n",
    "# For getting minute and second for file name\n",
    "import time\n",
    "# used to display dataframes in a single lines\n",
    "from IPython.display import display, HTML, Markdown\n",
    "\n",
    "# Source: Stackoverflow\n",
    "CSS = \"\"\"\n",
    ".output {\n",
    "    flex-direction: row;\n",
    "}\n",
    "\"\"\"\n",
    "HTML('<style>{}</style>'.format(CSS))\n"
   ]
  },
  {
   "cell_type": "markdown",
   "id": "01fc10fb",
   "metadata": {},
   "source": [
    "## Concept Description:"
   ]
  },
  {
   "cell_type": "markdown",
   "id": "d0d1b982",
   "metadata": {},
   "source": [
    "This project aims to classify different unknown animals as mammals and non-mammals based on their attributes. It is a binary classifier, and almost all attribute of the given data is nominal. Therefore, a 1R classifier will be used to accomplish this task.  The gestation and leg attributes are numeric, and we may do some discretization to make them vital for our classification."
   ]
  },
  {
   "cell_type": "markdown",
   "id": "34757390",
   "metadata": {},
   "source": [
    "## Data Collection:"
   ]
  },
  {
   "cell_type": "markdown",
   "id": "250f9803",
   "metadata": {},
   "source": [
    "The data has been provided by Perry B. Koob as an excel file (in .xlsx extension). "
   ]
  },
  {
   "cell_type": "markdown",
   "id": "4c2fe6ce",
   "metadata": {},
   "source": [
    "## Example Description:"
   ]
  },
  {
   "cell_type": "markdown",
   "id": "1915264e",
   "metadata": {},
   "source": [
    "| Level of measurements| Discription|\n",
    "|:---|:---|\n",
    "|<b> Nominal <b>|Just a label name<br> E.g. True/False|\n",
    "|<b>Ordinal<b>| Name (Nominal) + Order <br> Named label + ordering<br> E.g. : Minimum < medium < Maximum|\n",
    "|<b>Interval<b>|Nominal + Ordinal + Fixed distance between each attribute values  and no true zero <br> E.g. Tempreture in degree celcious ( 65 < 70 < 75)|\n",
    "|<b>Ratio<b>| Nominal + Ordinal + Interval + Meaningful zero value <br> E.g Number of students.|"
   ]
  },
  {
   "cell_type": "markdown",
   "id": "77fcad35",
   "metadata": {},
   "source": [
    "| Attribute | Level of measurement| Attribute Values | Note|\n",
    "|:---|:---|:---|:---|\n",
    "|<b>animal name<b>| Nominal|Example: 'aardvark', 'anole','antelope','axolotl', ... |It describes whether the animal has hair or not. It is a just a label, and it does not have a sense of order. |\n",
    "|<b>hair<b>| Nominal |True or False |True/False attribute values are a good indicator of nominal attribute|\n",
    "|<b>feathers<b>|Nominal|True or False|Animals that are covered with feathers and not hairs|\n",
    "|<b>eggs<b>|Nominal|True or False|Animal that lay eggs for reproduction|\n",
    "|<b>milk<b>|Nominal|True or False|Animal that breastfead their child|\n",
    "|<b>airborne<b>|Nominal|True or False|Animals that can fly|\n",
    "|<b>aquatic<b>|Nominal|True or False|Live in the water|\n",
    "|<b>predator<b>|Nominal|True or False|Prey or eat other animals for servival|\n",
    "|<b>toothed<b>|Nominal|True or False|have teeth|\n",
    "|<b>backbone<b>|Nominal|True or False|Have backbnone |\n",
    "|<b>breathes<b>|Nominal|True or False|Animals that breathes|\n",
    "|<b>venomous<b>|Nominal|True or False|Animals that produce poison|\n",
    "|<b>fins<b>|Nominal|True or False|Mostly in aquatic animal that is used for stablity and easy manuvering|\n",
    "|<b>legs<b>|Ordinal|'4', '0', '6', '2', '10', '8', '12', '5|There is a sense of order here|\n",
    "|<b>tail<b>|Nominal|True or False|Animals that have tails|\n",
    "|<b>domestic<b>|Nominal|True or False|animals that live with human|\n",
    "|<b>catsize<b>|Nominal|True or False|catsize false are for small animal, and catsize true is for considerebly big animals|\n",
    "|<b>gestation<b>|Interval data|Exmple: '213','42','274','17','5','220','115','334','210','150', ...|It is a numeric attribute, and it does not have a true zero. <br> It is the time between conception and birth in days |\n",
    "|<b>type<b>|Nominal|Example: 'mammal', 'reptile', 'amphibian', 'fish', 'insect', 'bird', 'arthropod', 'mamal' |Animal catagories|"
   ]
  },
  {
   "cell_type": "markdown",
   "id": "345dc91b",
   "metadata": {},
   "source": [
    "#### Example\n",
    "<b>Sealipon attributes:</b> hair, milk, aquatic, predator, toothed, backbone, beathes, fines, 2 legs, tial, catsize,350 gestation, and mammal\n",
    "\n",
    "<img src=\"../src-data/sealion.jpg\" alt=\"logo\" style= \"width: 150px\"/>"
   ]
  },
  {
   "cell_type": "markdown",
   "id": "d167b901",
   "metadata": {},
   "source": [
    "## Data Import and Wrangling:"
   ]
  },
  {
   "cell_type": "code",
   "execution_count": 85,
   "id": "6f49e0c3",
   "metadata": {
    "tags": []
   },
   "outputs": [
    {
     "data": {
      "text/html": [
       "<div>\n",
       "<style scoped>\n",
       "    .dataframe tbody tr th:only-of-type {\n",
       "        vertical-align: middle;\n",
       "    }\n",
       "\n",
       "    .dataframe tbody tr th {\n",
       "        vertical-align: top;\n",
       "    }\n",
       "\n",
       "    .dataframe thead th {\n",
       "        text-align: right;\n",
       "    }\n",
       "</style>\n",
       "<table border=\"1\" class=\"dataframe\">\n",
       "  <thead>\n",
       "    <tr style=\"text-align: right;\">\n",
       "      <th></th>\n",
       "      <th>animal name</th>\n",
       "      <th>hair</th>\n",
       "      <th>feathers</th>\n",
       "      <th>eggs</th>\n",
       "      <th>milk</th>\n",
       "      <th>airborne</th>\n",
       "      <th>aquatic</th>\n",
       "      <th>predator</th>\n",
       "      <th>toothed</th>\n",
       "      <th>backbone</th>\n",
       "      <th>breathes</th>\n",
       "      <th>venomous</th>\n",
       "      <th>fins</th>\n",
       "      <th>legs</th>\n",
       "      <th>tail</th>\n",
       "      <th>domestic</th>\n",
       "      <th>catsize</th>\n",
       "      <th>gestation</th>\n",
       "      <th>type</th>\n",
       "    </tr>\n",
       "  </thead>\n",
       "  <tbody>\n",
       "    <tr>\n",
       "      <th>108</th>\n",
       "      <td>sole</td>\n",
       "      <td>False</td>\n",
       "      <td>False</td>\n",
       "      <td>True</td>\n",
       "      <td>False</td>\n",
       "      <td>False</td>\n",
       "      <td>True</td>\n",
       "      <td>False</td>\n",
       "      <td>True</td>\n",
       "      <td>True</td>\n",
       "      <td>False</td>\n",
       "      <td>False</td>\n",
       "      <td>True</td>\n",
       "      <td>0</td>\n",
       "      <td>True</td>\n",
       "      <td>False</td>\n",
       "      <td>False</td>\n",
       "      <td>42</td>\n",
       "      <td>fish</td>\n",
       "    </tr>\n",
       "    <tr>\n",
       "      <th>125</th>\n",
       "      <td>wasp</td>\n",
       "      <td>True</td>\n",
       "      <td>False</td>\n",
       "      <td>True</td>\n",
       "      <td>False</td>\n",
       "      <td>True</td>\n",
       "      <td>False</td>\n",
       "      <td>False</td>\n",
       "      <td>False</td>\n",
       "      <td>False</td>\n",
       "      <td>True</td>\n",
       "      <td>True</td>\n",
       "      <td>False</td>\n",
       "      <td>6</td>\n",
       "      <td>False</td>\n",
       "      <td>False</td>\n",
       "      <td>False</td>\n",
       "      <td>88</td>\n",
       "      <td>insect</td>\n",
       "    </tr>\n",
       "    <tr>\n",
       "      <th>27</th>\n",
       "      <td>deer</td>\n",
       "      <td>True</td>\n",
       "      <td>False</td>\n",
       "      <td>False</td>\n",
       "      <td>True</td>\n",
       "      <td>False</td>\n",
       "      <td>False</td>\n",
       "      <td>False</td>\n",
       "      <td>True</td>\n",
       "      <td>True</td>\n",
       "      <td>True</td>\n",
       "      <td>False</td>\n",
       "      <td>False</td>\n",
       "      <td>4</td>\n",
       "      <td>True</td>\n",
       "      <td>False</td>\n",
       "      <td>True</td>\n",
       "      <td>201</td>\n",
       "      <td>mammal</td>\n",
       "    </tr>\n",
       "    <tr>\n",
       "      <th>107</th>\n",
       "      <td>slug</td>\n",
       "      <td>False</td>\n",
       "      <td>False</td>\n",
       "      <td>True</td>\n",
       "      <td>False</td>\n",
       "      <td>False</td>\n",
       "      <td>False</td>\n",
       "      <td>False</td>\n",
       "      <td>False</td>\n",
       "      <td>False</td>\n",
       "      <td>True</td>\n",
       "      <td>False</td>\n",
       "      <td>False</td>\n",
       "      <td>0</td>\n",
       "      <td>False</td>\n",
       "      <td>False</td>\n",
       "      <td>False</td>\n",
       "      <td>59</td>\n",
       "      <td>arthropod</td>\n",
       "    </tr>\n",
       "    <tr>\n",
       "      <th>48</th>\n",
       "      <td>hare</td>\n",
       "      <td>True</td>\n",
       "      <td>False</td>\n",
       "      <td>False</td>\n",
       "      <td>True</td>\n",
       "      <td>False</td>\n",
       "      <td>False</td>\n",
       "      <td>False</td>\n",
       "      <td>True</td>\n",
       "      <td>True</td>\n",
       "      <td>True</td>\n",
       "      <td>False</td>\n",
       "      <td>False</td>\n",
       "      <td>4</td>\n",
       "      <td>True</td>\n",
       "      <td>False</td>\n",
       "      <td>False</td>\n",
       "      <td>42</td>\n",
       "      <td>mammal</td>\n",
       "    </tr>\n",
       "    <tr>\n",
       "      <th>28</th>\n",
       "      <td>dogfish</td>\n",
       "      <td>False</td>\n",
       "      <td>False</td>\n",
       "      <td>True</td>\n",
       "      <td>False</td>\n",
       "      <td>False</td>\n",
       "      <td>True</td>\n",
       "      <td>True</td>\n",
       "      <td>True</td>\n",
       "      <td>True</td>\n",
       "      <td>False</td>\n",
       "      <td>False</td>\n",
       "      <td>True</td>\n",
       "      <td>0</td>\n",
       "      <td>True</td>\n",
       "      <td>False</td>\n",
       "      <td>True</td>\n",
       "      <td>720</td>\n",
       "      <td>fish</td>\n",
       "    </tr>\n",
       "    <tr>\n",
       "      <th>45</th>\n",
       "      <td>haddock</td>\n",
       "      <td>False</td>\n",
       "      <td>False</td>\n",
       "      <td>True</td>\n",
       "      <td>False</td>\n",
       "      <td>False</td>\n",
       "      <td>True</td>\n",
       "      <td>False</td>\n",
       "      <td>True</td>\n",
       "      <td>True</td>\n",
       "      <td>False</td>\n",
       "      <td>False</td>\n",
       "      <td>True</td>\n",
       "      <td>0</td>\n",
       "      <td>True</td>\n",
       "      <td>False</td>\n",
       "      <td>False</td>\n",
       "      <td>30</td>\n",
       "      <td>fish</td>\n",
       "    </tr>\n",
       "    <tr>\n",
       "      <th>82</th>\n",
       "      <td>pheasant</td>\n",
       "      <td>False</td>\n",
       "      <td>True</td>\n",
       "      <td>True</td>\n",
       "      <td>False</td>\n",
       "      <td>True</td>\n",
       "      <td>False</td>\n",
       "      <td>False</td>\n",
       "      <td>False</td>\n",
       "      <td>True</td>\n",
       "      <td>True</td>\n",
       "      <td>False</td>\n",
       "      <td>False</td>\n",
       "      <td>2</td>\n",
       "      <td>True</td>\n",
       "      <td>False</td>\n",
       "      <td>False</td>\n",
       "      <td>23</td>\n",
       "      <td>bird</td>\n",
       "    </tr>\n",
       "    <tr>\n",
       "      <th>55</th>\n",
       "      <td>housefly</td>\n",
       "      <td>True</td>\n",
       "      <td>False</td>\n",
       "      <td>True</td>\n",
       "      <td>False</td>\n",
       "      <td>True</td>\n",
       "      <td>False</td>\n",
       "      <td>False</td>\n",
       "      <td>False</td>\n",
       "      <td>False</td>\n",
       "      <td>True</td>\n",
       "      <td>False</td>\n",
       "      <td>False</td>\n",
       "      <td>6</td>\n",
       "      <td>False</td>\n",
       "      <td>False</td>\n",
       "      <td>False</td>\n",
       "      <td>1</td>\n",
       "      <td>insect</td>\n",
       "    </tr>\n",
       "    <tr>\n",
       "      <th>23</th>\n",
       "      <td>crayfish</td>\n",
       "      <td>False</td>\n",
       "      <td>False</td>\n",
       "      <td>True</td>\n",
       "      <td>False</td>\n",
       "      <td>False</td>\n",
       "      <td>True</td>\n",
       "      <td>True</td>\n",
       "      <td>False</td>\n",
       "      <td>False</td>\n",
       "      <td>False</td>\n",
       "      <td>False</td>\n",
       "      <td>False</td>\n",
       "      <td>6</td>\n",
       "      <td>False</td>\n",
       "      <td>False</td>\n",
       "      <td>False</td>\n",
       "      <td>140</td>\n",
       "      <td>arthropod</td>\n",
       "    </tr>\n",
       "  </tbody>\n",
       "</table>\n",
       "</div>"
      ],
      "text/plain": [
       "    animal name   hair feathers   eggs   milk airborne aquatic predator  \\\n",
       "108        sole  False    False   True  False    False    True    False   \n",
       "125        wasp   True    False   True  False     True   False    False   \n",
       "27         deer   True    False  False   True    False   False    False   \n",
       "107        slug  False    False   True  False    False   False    False   \n",
       "48         hare   True    False  False   True    False   False    False   \n",
       "28      dogfish  False    False   True  False    False    True     True   \n",
       "45      haddock  False    False   True  False    False    True    False   \n",
       "82     pheasant  False     True   True  False     True   False    False   \n",
       "55     housefly   True    False   True  False     True   False    False   \n",
       "23     crayfish  False    False   True  False    False    True     True   \n",
       "\n",
       "    toothed backbone breathes venomous   fins legs   tail domestic catsize  \\\n",
       "108    True     True    False    False   True    0   True    False   False   \n",
       "125   False    False     True     True  False    6  False    False   False   \n",
       "27     True     True     True    False  False    4   True    False    True   \n",
       "107   False    False     True    False  False    0  False    False   False   \n",
       "48     True     True     True    False  False    4   True    False   False   \n",
       "28     True     True    False    False   True    0   True    False    True   \n",
       "45     True     True    False    False   True    0   True    False   False   \n",
       "82    False     True     True    False  False    2   True    False   False   \n",
       "55    False    False     True    False  False    6  False    False   False   \n",
       "23    False    False    False    False  False    6  False    False   False   \n",
       "\n",
       "    gestation       type  \n",
       "108        42       fish  \n",
       "125        88     insect  \n",
       "27        201     mammal  \n",
       "107        59  arthropod  \n",
       "48         42     mammal  \n",
       "28        720       fish  \n",
       "45         30       fish  \n",
       "82         23       bird  \n",
       "55          1     insect  \n",
       "23        140  arthropod  "
      ]
     },
     "execution_count": 85,
     "metadata": {},
     "output_type": "execute_result"
    }
   ],
   "source": [
    "data = pd.read_excel(\"../src-data/animal-taxonomy.xlsx\", engine = \"openpyxl\", dtype=str)\n",
    "data.sample(10)"
   ]
  },
  {
   "cell_type": "markdown",
   "id": "a4e918c5",
   "metadata": {},
   "source": [
    "### Describe the data"
   ]
  },
  {
   "cell_type": "code",
   "execution_count": 86,
   "id": "34dc683e",
   "metadata": {
    "tags": []
   },
   "outputs": [
    {
     "data": {
      "text/html": [
       "<div>\n",
       "<style scoped>\n",
       "    .dataframe tbody tr th:only-of-type {\n",
       "        vertical-align: middle;\n",
       "    }\n",
       "\n",
       "    .dataframe tbody tr th {\n",
       "        vertical-align: top;\n",
       "    }\n",
       "\n",
       "    .dataframe thead th {\n",
       "        text-align: right;\n",
       "    }\n",
       "</style>\n",
       "<table border=\"1\" class=\"dataframe\">\n",
       "  <thead>\n",
       "    <tr style=\"text-align: right;\">\n",
       "      <th></th>\n",
       "      <th>count</th>\n",
       "      <th>unique</th>\n",
       "      <th>top</th>\n",
       "      <th>freq</th>\n",
       "    </tr>\n",
       "  </thead>\n",
       "  <tbody>\n",
       "    <tr>\n",
       "      <th>animal name</th>\n",
       "      <td>130</td>\n",
       "      <td>130</td>\n",
       "      <td>sea cucumber</td>\n",
       "      <td>1</td>\n",
       "    </tr>\n",
       "    <tr>\n",
       "      <th>hair</th>\n",
       "      <td>130</td>\n",
       "      <td>2</td>\n",
       "      <td>False</td>\n",
       "      <td>77</td>\n",
       "    </tr>\n",
       "    <tr>\n",
       "      <th>feathers</th>\n",
       "      <td>130</td>\n",
       "      <td>2</td>\n",
       "      <td>False</td>\n",
       "      <td>110</td>\n",
       "    </tr>\n",
       "    <tr>\n",
       "      <th>eggs</th>\n",
       "      <td>130</td>\n",
       "      <td>2</td>\n",
       "      <td>True</td>\n",
       "      <td>75</td>\n",
       "    </tr>\n",
       "    <tr>\n",
       "      <th>milk</th>\n",
       "      <td>130</td>\n",
       "      <td>2</td>\n",
       "      <td>False</td>\n",
       "      <td>79</td>\n",
       "    </tr>\n",
       "    <tr>\n",
       "      <th>airborne</th>\n",
       "      <td>130</td>\n",
       "      <td>2</td>\n",
       "      <td>False</td>\n",
       "      <td>106</td>\n",
       "    </tr>\n",
       "    <tr>\n",
       "      <th>aquatic</th>\n",
       "      <td>130</td>\n",
       "      <td>2</td>\n",
       "      <td>False</td>\n",
       "      <td>80</td>\n",
       "    </tr>\n",
       "    <tr>\n",
       "      <th>predator</th>\n",
       "      <td>130</td>\n",
       "      <td>2</td>\n",
       "      <td>True</td>\n",
       "      <td>71</td>\n",
       "    </tr>\n",
       "    <tr>\n",
       "      <th>toothed</th>\n",
       "      <td>130</td>\n",
       "      <td>2</td>\n",
       "      <td>True</td>\n",
       "      <td>88</td>\n",
       "    </tr>\n",
       "    <tr>\n",
       "      <th>backbone</th>\n",
       "      <td>130</td>\n",
       "      <td>2</td>\n",
       "      <td>True</td>\n",
       "      <td>105</td>\n",
       "    </tr>\n",
       "    <tr>\n",
       "      <th>breathes</th>\n",
       "      <td>130</td>\n",
       "      <td>2</td>\n",
       "      <td>True</td>\n",
       "      <td>96</td>\n",
       "    </tr>\n",
       "    <tr>\n",
       "      <th>venomous</th>\n",
       "      <td>130</td>\n",
       "      <td>2</td>\n",
       "      <td>False</td>\n",
       "      <td>118</td>\n",
       "    </tr>\n",
       "    <tr>\n",
       "      <th>fins</th>\n",
       "      <td>130</td>\n",
       "      <td>2</td>\n",
       "      <td>False</td>\n",
       "      <td>109</td>\n",
       "    </tr>\n",
       "    <tr>\n",
       "      <th>legs</th>\n",
       "      <td>130</td>\n",
       "      <td>8</td>\n",
       "      <td>4</td>\n",
       "      <td>53</td>\n",
       "    </tr>\n",
       "    <tr>\n",
       "      <th>tail</th>\n",
       "      <td>130</td>\n",
       "      <td>2</td>\n",
       "      <td>True</td>\n",
       "      <td>96</td>\n",
       "    </tr>\n",
       "    <tr>\n",
       "      <th>domestic</th>\n",
       "      <td>130</td>\n",
       "      <td>2</td>\n",
       "      <td>False</td>\n",
       "      <td>117</td>\n",
       "    </tr>\n",
       "    <tr>\n",
       "      <th>catsize</th>\n",
       "      <td>130</td>\n",
       "      <td>2</td>\n",
       "      <td>False</td>\n",
       "      <td>82</td>\n",
       "    </tr>\n",
       "    <tr>\n",
       "      <th>gestation</th>\n",
       "      <td>125</td>\n",
       "      <td>80</td>\n",
       "      <td>42</td>\n",
       "      <td>7</td>\n",
       "    </tr>\n",
       "    <tr>\n",
       "      <th>type</th>\n",
       "      <td>130</td>\n",
       "      <td>8</td>\n",
       "      <td>mammal</td>\n",
       "      <td>50</td>\n",
       "    </tr>\n",
       "  </tbody>\n",
       "</table>\n",
       "</div>"
      ],
      "text/plain": [
       "            count unique           top freq\n",
       "animal name   130    130  sea cucumber    1\n",
       "hair          130      2         False   77\n",
       "feathers      130      2         False  110\n",
       "eggs          130      2          True   75\n",
       "milk          130      2         False   79\n",
       "airborne      130      2         False  106\n",
       "aquatic       130      2         False   80\n",
       "predator      130      2          True   71\n",
       "toothed       130      2          True   88\n",
       "backbone      130      2          True  105\n",
       "breathes      130      2          True   96\n",
       "venomous      130      2         False  118\n",
       "fins          130      2         False  109\n",
       "legs          130      8             4   53\n",
       "tail          130      2          True   96\n",
       "domestic      130      2         False  117\n",
       "catsize       130      2         False   82\n",
       "gestation     125     80            42    7\n",
       "type          130      8        mammal   50"
      ]
     },
     "execution_count": 86,
     "metadata": {},
     "output_type": "execute_result"
    }
   ],
   "source": [
    "data.describe().T"
   ]
  },
  {
   "cell_type": "markdown",
   "id": "ee165b9d",
   "metadata": {},
   "source": [
    " ### Note:\n",
    " \n",
    " - Attributes with 2 unique (True/False) values are definitely nominal (categorical) attributes.\n",
    " - Animal name is also nominal attributes since it is just a label name.\n",
    " - Type of an animal also categorical since it does not have any ordering.\n",
    " - Legs and gestations are numerical attribute  and they have zero values.\n",
    "     - Gestation can be considered as ratio attribute.\n",
    "     - Number of legs is also ratio attribute\n",
    " - Since I am using 1R classifier, I can consider the leg attribute as a categorical/nominal attribute. \n",
    " - In addition, the gestation class have many unique values, and it is not practical to classify element with this many classes. \n",
    "     - Therefore, I will divide the the data into two gestation periods such as short gestation period and log gestation period.\n",
    " - Besides, there are 5 missing values in the gestation attribute, and I will impute those values using a mean distribution."
   ]
  },
  {
   "cell_type": "markdown",
   "id": "4b7348e1",
   "metadata": {},
   "source": [
    "### Unique Values in the data"
   ]
  },
  {
   "cell_type": "code",
   "execution_count": 87,
   "id": "0c3b66a7",
   "metadata": {},
   "outputs": [
    {
     "data": {
      "text/plain": [
       "{'animal name': ['aardvark',\n",
       "  'anole',\n",
       "  'antelope',\n",
       "  'axolotl',\n",
       "  'bass',\n",
       "  'bear',\n",
       "  'blue dragon',\n",
       "  'boar',\n",
       "  'buffalo',\n",
       "  'caecilians',\n",
       "  'capybara',\n",
       "  'carp',\n",
       "  'catfish',\n",
       "  'cavy',\n",
       "  'cayman',\n",
       "  'cheetah',\n",
       "  'chicken',\n",
       "  'chinese giant salamander',\n",
       "  'chub',\n",
       "  'chupacabra',\n",
       "  'clam',\n",
       "  'cow',\n",
       "  'crab',\n",
       "  'crayfish',\n",
       "  'crow',\n",
       "  'cuttlefish',\n",
       "  'dartfrog',\n",
       "  'deer',\n",
       "  'dogfish',\n",
       "  'dolphin',\n",
       "  'dove',\n",
       "  'duck',\n",
       "  'elephant',\n",
       "  'flamingo',\n",
       "  'flea',\n",
       "  'fox',\n",
       "  'frog',\n",
       "  'fruitbat',\n",
       "  'giant panda',\n",
       "  'giraffe',\n",
       "  'gnat',\n",
       "  'goat',\n",
       "  'gorilla',\n",
       "  'great white shark',\n",
       "  'gull',\n",
       "  'haddock',\n",
       "  'hagfish',\n",
       "  'hamster',\n",
       "  'hare',\n",
       "  'hawk',\n",
       "  'hellbender',\n",
       "  'herring',\n",
       "  'honeybee',\n",
       "  'horse',\n",
       "  'housecat',\n",
       "  'housefly',\n",
       "  'human',\n",
       "  'kiwi',\n",
       "  'komodo dragon',\n",
       "  'ladybird',\n",
       "  'lark',\n",
       "  'leopard',\n",
       "  'lion',\n",
       "  'lobster',\n",
       "  'lynx',\n",
       "  'malayan sun bear',\n",
       "  'manta ray',\n",
       "  'mink',\n",
       "  'mole',\n",
       "  'mongoose',\n",
       "  'momo',\n",
       "  'moth',\n",
       "  'newt',\n",
       "  'nessie',\n",
       "  'octopus',\n",
       "  'opossum',\n",
       "  'orangutan',\n",
       "  'oryx',\n",
       "  'ostrich',\n",
       "  'pangolin',\n",
       "  'parakeet',\n",
       "  'penguin',\n",
       "  'pheasant',\n",
       "  'pike',\n",
       "  'piranha',\n",
       "  'pitviper',\n",
       "  'platypus',\n",
       "  'polecat',\n",
       "  'porpoise',\n",
       "  \"portuguese man o' war\",\n",
       "  'puma',\n",
       "  'raccoon',\n",
       "  'red panda',\n",
       "  'reindeer',\n",
       "  'rhea',\n",
       "  'scorpion',\n",
       "  'sea anemone',\n",
       "  'sea cucumber',\n",
       "  'seahorse',\n",
       "  'seal',\n",
       "  'sealion',\n",
       "  'seasnake',\n",
       "  'seawasp',\n",
       "  'skimmer',\n",
       "  'skink',\n",
       "  'skua',\n",
       "  'slowworm',\n",
       "  'slug',\n",
       "  'sole',\n",
       "  'sparrow',\n",
       "  'squid',\n",
       "  'squirrel',\n",
       "  'starfish',\n",
       "  'stingray',\n",
       "  'swan',\n",
       "  'termite',\n",
       "  'thylacine',\n",
       "  'toad',\n",
       "  'tortoise',\n",
       "  'tuatara',\n",
       "  'tuna',\n",
       "  'vampire',\n",
       "  'vole',\n",
       "  'vulture',\n",
       "  'wallaby',\n",
       "  'wasp',\n",
       "  'whale shark',\n",
       "  'wolf',\n",
       "  'worm',\n",
       "  'wren'],\n",
       " 'hair': ['True', 'False'],\n",
       " 'feathers': ['False', 'True'],\n",
       " 'eggs': ['False', 'True'],\n",
       " 'milk': ['True', 'False'],\n",
       " 'airborne': ['False', 'True'],\n",
       " 'aquatic': ['False', 'True'],\n",
       " 'predator': ['True', 'False'],\n",
       " 'toothed': ['True', 'False'],\n",
       " 'backbone': ['True', 'False'],\n",
       " 'breathes': ['True', 'False'],\n",
       " 'venomous': ['False', 'True'],\n",
       " 'fins': ['False', 'True'],\n",
       " 'legs': ['4', '0', '6', '2', '10', '8', '12', '5'],\n",
       " 'tail': ['False', 'True'],\n",
       " 'domestic': ['False', 'True'],\n",
       " 'catsize': ['True', 'False'],\n",
       " 'gestation': ['213',\n",
       "  '42',\n",
       "  '274',\n",
       "  '17',\n",
       "  '5',\n",
       "  '220',\n",
       "  nan,\n",
       "  '115',\n",
       "  '334',\n",
       "  '210',\n",
       "  '150',\n",
       "  '2',\n",
       "  '10',\n",
       "  '72',\n",
       "  '90',\n",
       "  '98',\n",
       "  '21',\n",
       "  '60',\n",
       "  '28',\n",
       "  '279',\n",
       "  '49',\n",
       "  '140',\n",
       "  '180',\n",
       "  '14',\n",
       "  '201',\n",
       "  '720',\n",
       "  '360',\n",
       "  '16',\n",
       "  '645',\n",
       "  '31',\n",
       "  '12',\n",
       "  '55',\n",
       "  '120',\n",
       "  '160',\n",
       "  '450',\n",
       "  '155',\n",
       "  '260',\n",
       "  '540',\n",
       "  '26',\n",
       "  '30',\n",
       "  '23',\n",
       "  '35',\n",
       "  '75',\n",
       "  '29',\n",
       "  '3',\n",
       "  '67',\n",
       "  '1',\n",
       "  '266',\n",
       "  '80',\n",
       "  '240',\n",
       "  '8',\n",
       "  '18',\n",
       "  '95',\n",
       "  '108',\n",
       "  '64',\n",
       "  '390',\n",
       "  '45',\n",
       "  '77',\n",
       "  '163',\n",
       "  '100',\n",
       "  '53',\n",
       "  '56',\n",
       "  '139',\n",
       "  '20',\n",
       "  '68',\n",
       "  '66',\n",
       "  '0',\n",
       "  '91',\n",
       "  '63',\n",
       "  '132',\n",
       "  '222',\n",
       "  '43',\n",
       "  '25',\n",
       "  '330',\n",
       "  '350',\n",
       "  '34',\n",
       "  '59',\n",
       "  '40',\n",
       "  '209',\n",
       "  '88',\n",
       "  '15'],\n",
       " 'type': ['mammal',\n",
       "  'reptile',\n",
       "  'amphibian',\n",
       "  'fish',\n",
       "  'insect',\n",
       "  'bird',\n",
       "  'arthropod',\n",
       "  'mamal']}"
      ]
     },
     "execution_count": 87,
     "metadata": {},
     "output_type": "execute_result"
    }
   ],
   "source": [
    "dictionary = {}\n",
    "for column in list(data):\n",
    "    dictionary[column] = list(data[column].unique())\n",
    "\n",
    "dictionary"
   ]
  },
  {
   "cell_type": "markdown",
   "id": "356b384e",
   "metadata": {},
   "source": [
    "The unique value of the type attribute has a value error (inaccurate value). For the type attribute value, <b>mammal</b> and <b> mamal</b> are used to reference the same thing. The correct spelling for this attribute example is <b> mammal </b>. "
   ]
  },
  {
   "cell_type": "code",
   "execution_count": 88,
   "id": "e7346a99",
   "metadata": {
    "scrolled": true
   },
   "outputs": [],
   "source": [
    "for i, d in data.iterrows():\n",
    "    if d['type']  == 'mamal':\n",
    "        data.at[i,'type'] = 'mammal'"
   ]
  },
  {
   "cell_type": "code",
   "execution_count": 89,
   "id": "60784134",
   "metadata": {
    "tags": []
   },
   "outputs": [
    {
     "data": {
      "text/html": [
       "<div>\n",
       "<style scoped>\n",
       "    .dataframe tbody tr th:only-of-type {\n",
       "        vertical-align: middle;\n",
       "    }\n",
       "\n",
       "    .dataframe tbody tr th {\n",
       "        vertical-align: top;\n",
       "    }\n",
       "\n",
       "    .dataframe thead th {\n",
       "        text-align: right;\n",
       "    }\n",
       "</style>\n",
       "<table border=\"1\" class=\"dataframe\">\n",
       "  <thead>\n",
       "    <tr style=\"text-align: right;\">\n",
       "      <th></th>\n",
       "      <th>count</th>\n",
       "      <th>unique</th>\n",
       "      <th>top</th>\n",
       "      <th>freq</th>\n",
       "    </tr>\n",
       "  </thead>\n",
       "  <tbody>\n",
       "    <tr>\n",
       "      <th>animal name</th>\n",
       "      <td>130</td>\n",
       "      <td>130</td>\n",
       "      <td>sea cucumber</td>\n",
       "      <td>1</td>\n",
       "    </tr>\n",
       "    <tr>\n",
       "      <th>hair</th>\n",
       "      <td>130</td>\n",
       "      <td>2</td>\n",
       "      <td>False</td>\n",
       "      <td>77</td>\n",
       "    </tr>\n",
       "    <tr>\n",
       "      <th>feathers</th>\n",
       "      <td>130</td>\n",
       "      <td>2</td>\n",
       "      <td>False</td>\n",
       "      <td>110</td>\n",
       "    </tr>\n",
       "    <tr>\n",
       "      <th>eggs</th>\n",
       "      <td>130</td>\n",
       "      <td>2</td>\n",
       "      <td>True</td>\n",
       "      <td>75</td>\n",
       "    </tr>\n",
       "    <tr>\n",
       "      <th>milk</th>\n",
       "      <td>130</td>\n",
       "      <td>2</td>\n",
       "      <td>False</td>\n",
       "      <td>79</td>\n",
       "    </tr>\n",
       "    <tr>\n",
       "      <th>airborne</th>\n",
       "      <td>130</td>\n",
       "      <td>2</td>\n",
       "      <td>False</td>\n",
       "      <td>106</td>\n",
       "    </tr>\n",
       "    <tr>\n",
       "      <th>aquatic</th>\n",
       "      <td>130</td>\n",
       "      <td>2</td>\n",
       "      <td>False</td>\n",
       "      <td>80</td>\n",
       "    </tr>\n",
       "    <tr>\n",
       "      <th>predator</th>\n",
       "      <td>130</td>\n",
       "      <td>2</td>\n",
       "      <td>True</td>\n",
       "      <td>71</td>\n",
       "    </tr>\n",
       "    <tr>\n",
       "      <th>toothed</th>\n",
       "      <td>130</td>\n",
       "      <td>2</td>\n",
       "      <td>True</td>\n",
       "      <td>88</td>\n",
       "    </tr>\n",
       "    <tr>\n",
       "      <th>backbone</th>\n",
       "      <td>130</td>\n",
       "      <td>2</td>\n",
       "      <td>True</td>\n",
       "      <td>105</td>\n",
       "    </tr>\n",
       "    <tr>\n",
       "      <th>breathes</th>\n",
       "      <td>130</td>\n",
       "      <td>2</td>\n",
       "      <td>True</td>\n",
       "      <td>96</td>\n",
       "    </tr>\n",
       "    <tr>\n",
       "      <th>venomous</th>\n",
       "      <td>130</td>\n",
       "      <td>2</td>\n",
       "      <td>False</td>\n",
       "      <td>118</td>\n",
       "    </tr>\n",
       "    <tr>\n",
       "      <th>fins</th>\n",
       "      <td>130</td>\n",
       "      <td>2</td>\n",
       "      <td>False</td>\n",
       "      <td>109</td>\n",
       "    </tr>\n",
       "    <tr>\n",
       "      <th>legs</th>\n",
       "      <td>130</td>\n",
       "      <td>8</td>\n",
       "      <td>4</td>\n",
       "      <td>53</td>\n",
       "    </tr>\n",
       "    <tr>\n",
       "      <th>tail</th>\n",
       "      <td>130</td>\n",
       "      <td>2</td>\n",
       "      <td>True</td>\n",
       "      <td>96</td>\n",
       "    </tr>\n",
       "    <tr>\n",
       "      <th>domestic</th>\n",
       "      <td>130</td>\n",
       "      <td>2</td>\n",
       "      <td>False</td>\n",
       "      <td>117</td>\n",
       "    </tr>\n",
       "    <tr>\n",
       "      <th>catsize</th>\n",
       "      <td>130</td>\n",
       "      <td>2</td>\n",
       "      <td>False</td>\n",
       "      <td>82</td>\n",
       "    </tr>\n",
       "    <tr>\n",
       "      <th>gestation</th>\n",
       "      <td>125</td>\n",
       "      <td>80</td>\n",
       "      <td>42</td>\n",
       "      <td>7</td>\n",
       "    </tr>\n",
       "    <tr>\n",
       "      <th>type</th>\n",
       "      <td>130</td>\n",
       "      <td>7</td>\n",
       "      <td>mammal</td>\n",
       "      <td>51</td>\n",
       "    </tr>\n",
       "  </tbody>\n",
       "</table>\n",
       "</div>"
      ],
      "text/plain": [
       "            count unique           top freq\n",
       "animal name   130    130  sea cucumber    1\n",
       "hair          130      2         False   77\n",
       "feathers      130      2         False  110\n",
       "eggs          130      2          True   75\n",
       "milk          130      2         False   79\n",
       "airborne      130      2         False  106\n",
       "aquatic       130      2         False   80\n",
       "predator      130      2          True   71\n",
       "toothed       130      2          True   88\n",
       "backbone      130      2          True  105\n",
       "breathes      130      2          True   96\n",
       "venomous      130      2         False  118\n",
       "fins          130      2         False  109\n",
       "legs          130      8             4   53\n",
       "tail          130      2          True   96\n",
       "domestic      130      2         False  117\n",
       "catsize       130      2         False   82\n",
       "gestation     125     80            42    7\n",
       "type          130      7        mammal   51"
      ]
     },
     "metadata": {},
     "output_type": "display_data"
    }
   ],
   "source": [
    "display(data.describe().T)"
   ]
  },
  {
   "cell_type": "markdown",
   "id": "d70cd13d",
   "metadata": {},
   "source": [
    "### Check for missing values \n",
    "\n",
    "Even though the 1R classifier assumes missing values as another \"valid\" value, I will just impute them."
   ]
  },
  {
   "cell_type": "code",
   "execution_count": 90,
   "id": "1517da5c",
   "metadata": {
    "tags": []
   },
   "outputs": [
    {
     "data": {
      "text/plain": [
       "gestation      5\n",
       "animal name    0\n",
       "breathes       0\n",
       "catsize        0\n",
       "domestic       0\n",
       "tail           0\n",
       "legs           0\n",
       "fins           0\n",
       "venomous       0\n",
       "backbone       0\n",
       "hair           0\n",
       "toothed        0\n",
       "predator       0\n",
       "aquatic        0\n",
       "airborne       0\n",
       "milk           0\n",
       "eggs           0\n",
       "feathers       0\n",
       "type           0\n",
       "dtype: int64"
      ]
     },
     "execution_count": 90,
     "metadata": {},
     "output_type": "execute_result"
    }
   ],
   "source": [
    "data.isnull().sum().sort_values(ascending=False)"
   ]
  },
  {
   "cell_type": "markdown",
   "id": "62a8a048",
   "metadata": {},
   "source": [
    "There are 5 missing values in <b>gestation </b> attribute, and that value need imputaion."
   ]
  },
  {
   "cell_type": "code",
   "execution_count": 91,
   "id": "1a71f50b",
   "metadata": {
    "scrolled": true
   },
   "outputs": [],
   "source": [
    "imputer = SimpleImputer(missing_values=ny.nan,strategy = \"mean\")\n",
    "imputer.fit(data['gestation'].values.reshape(-1, 1))\n",
    "data['gestation'] = imputer.transform(data['gestation'].values.reshape(-1, 1))"
   ]
  },
  {
   "cell_type": "code",
   "execution_count": 92,
   "id": "03e872b0",
   "metadata": {
    "tags": []
   },
   "outputs": [
    {
     "data": {
      "text/plain": [
       "animal name    0\n",
       "breathes       0\n",
       "gestation      0\n",
       "catsize        0\n",
       "domestic       0\n",
       "tail           0\n",
       "legs           0\n",
       "fins           0\n",
       "venomous       0\n",
       "backbone       0\n",
       "hair           0\n",
       "toothed        0\n",
       "predator       0\n",
       "aquatic        0\n",
       "airborne       0\n",
       "milk           0\n",
       "eggs           0\n",
       "feathers       0\n",
       "type           0\n",
       "dtype: int64"
      ]
     },
     "execution_count": 92,
     "metadata": {},
     "output_type": "execute_result"
    }
   ],
   "source": [
    "data.isnull().sum().sort_values(ascending=False)"
   ]
  },
  {
   "cell_type": "code",
   "execution_count": 93,
   "id": "b3f6a093",
   "metadata": {
    "tags": []
   },
   "outputs": [
    {
     "data": {
      "text/html": [
       "<div>\n",
       "<style scoped>\n",
       "    .dataframe tbody tr th:only-of-type {\n",
       "        vertical-align: middle;\n",
       "    }\n",
       "\n",
       "    .dataframe tbody tr th {\n",
       "        vertical-align: top;\n",
       "    }\n",
       "\n",
       "    .dataframe thead th {\n",
       "        text-align: right;\n",
       "    }\n",
       "</style>\n",
       "<table border=\"1\" class=\"dataframe\">\n",
       "  <thead>\n",
       "    <tr style=\"text-align: right;\">\n",
       "      <th></th>\n",
       "      <th>gestation</th>\n",
       "    </tr>\n",
       "  </thead>\n",
       "  <tbody>\n",
       "    <tr>\n",
       "      <th>count</th>\n",
       "      <td>130.0</td>\n",
       "    </tr>\n",
       "  </tbody>\n",
       "</table>\n",
       "</div>"
      ],
      "text/plain": [
       "       gestation\n",
       "count      130.0"
      ]
     },
     "execution_count": 93,
     "metadata": {},
     "output_type": "execute_result"
    }
   ],
   "source": [
    "data.describe().loc[['count']]"
   ]
  },
  {
   "cell_type": "markdown",
   "id": "da9eecc7",
   "metadata": {},
   "source": [
    "There was 125 gestation values in the given data set. Now it is 130. "
   ]
  },
  {
   "cell_type": "markdown",
   "id": "24d79ec6",
   "metadata": {},
   "source": [
    "### The value of gestation need fixing \n",
    "The algorithm assumes all values are discrete. If not, they need discretization."
   ]
  },
  {
   "cell_type": "markdown",
   "id": "f72352b0",
   "metadata": {},
   "source": [
    "The value of gestation is numerical (interval), and it needs to be changed to categorical. The data set will be split in half. Animals with gestation value greater than or equal to 165 will be considered as longer gestation times and the rest will be considered as shorter gestation period."
   ]
  },
  {
   "cell_type": "code",
   "execution_count": 94,
   "id": "6154e6ab",
   "metadata": {
    "scrolled": true
   },
   "outputs": [],
   "source": [
    "# # xtrain['gestation'] = [1 if float(x) > 170  else 0 for x in xtrain['gestation']]\n",
    "for i, d in data.iterrows():\n",
    "    if pd.to_numeric(d['gestation'])  > float( data['gestation'].mean()): #119.216\n",
    "        data.at[i,'GESTATION'] = 'long'\n",
    "    else:\n",
    "        data.at[i,'GESTATION'] = 'short'"
   ]
  },
  {
   "cell_type": "code",
   "execution_count": 95,
   "id": "b64c5723",
   "metadata": {
    "tags": []
   },
   "outputs": [
    {
     "data": {
      "text/html": [
       "<div>\n",
       "<style scoped>\n",
       "    .dataframe tbody tr th:only-of-type {\n",
       "        vertical-align: middle;\n",
       "    }\n",
       "\n",
       "    .dataframe tbody tr th {\n",
       "        vertical-align: top;\n",
       "    }\n",
       "\n",
       "    .dataframe thead th {\n",
       "        text-align: right;\n",
       "    }\n",
       "</style>\n",
       "<table border=\"1\" class=\"dataframe\">\n",
       "  <thead>\n",
       "    <tr style=\"text-align: right;\">\n",
       "      <th></th>\n",
       "      <th>animal name</th>\n",
       "      <th>hair</th>\n",
       "      <th>feathers</th>\n",
       "      <th>eggs</th>\n",
       "      <th>milk</th>\n",
       "      <th>airborne</th>\n",
       "      <th>aquatic</th>\n",
       "      <th>predator</th>\n",
       "      <th>toothed</th>\n",
       "      <th>backbone</th>\n",
       "      <th>breathes</th>\n",
       "      <th>venomous</th>\n",
       "      <th>fins</th>\n",
       "      <th>legs</th>\n",
       "      <th>tail</th>\n",
       "      <th>domestic</th>\n",
       "      <th>catsize</th>\n",
       "      <th>type</th>\n",
       "      <th>gestation</th>\n",
       "    </tr>\n",
       "  </thead>\n",
       "  <tbody>\n",
       "    <tr>\n",
       "      <th>0</th>\n",
       "      <td>aardvark</td>\n",
       "      <td>True</td>\n",
       "      <td>False</td>\n",
       "      <td>False</td>\n",
       "      <td>True</td>\n",
       "      <td>False</td>\n",
       "      <td>False</td>\n",
       "      <td>True</td>\n",
       "      <td>True</td>\n",
       "      <td>True</td>\n",
       "      <td>True</td>\n",
       "      <td>False</td>\n",
       "      <td>False</td>\n",
       "      <td>4</td>\n",
       "      <td>False</td>\n",
       "      <td>False</td>\n",
       "      <td>True</td>\n",
       "      <td>mammal</td>\n",
       "      <td>long</td>\n",
       "    </tr>\n",
       "    <tr>\n",
       "      <th>1</th>\n",
       "      <td>anole</td>\n",
       "      <td>False</td>\n",
       "      <td>False</td>\n",
       "      <td>True</td>\n",
       "      <td>False</td>\n",
       "      <td>False</td>\n",
       "      <td>False</td>\n",
       "      <td>False</td>\n",
       "      <td>True</td>\n",
       "      <td>True</td>\n",
       "      <td>True</td>\n",
       "      <td>False</td>\n",
       "      <td>False</td>\n",
       "      <td>4</td>\n",
       "      <td>True</td>\n",
       "      <td>False</td>\n",
       "      <td>False</td>\n",
       "      <td>reptile</td>\n",
       "      <td>short</td>\n",
       "    </tr>\n",
       "    <tr>\n",
       "      <th>2</th>\n",
       "      <td>antelope</td>\n",
       "      <td>True</td>\n",
       "      <td>False</td>\n",
       "      <td>False</td>\n",
       "      <td>True</td>\n",
       "      <td>False</td>\n",
       "      <td>False</td>\n",
       "      <td>False</td>\n",
       "      <td>True</td>\n",
       "      <td>True</td>\n",
       "      <td>True</td>\n",
       "      <td>False</td>\n",
       "      <td>False</td>\n",
       "      <td>4</td>\n",
       "      <td>True</td>\n",
       "      <td>False</td>\n",
       "      <td>True</td>\n",
       "      <td>mammal</td>\n",
       "      <td>long</td>\n",
       "    </tr>\n",
       "    <tr>\n",
       "      <th>3</th>\n",
       "      <td>axolotl</td>\n",
       "      <td>False</td>\n",
       "      <td>False</td>\n",
       "      <td>True</td>\n",
       "      <td>False</td>\n",
       "      <td>False</td>\n",
       "      <td>True</td>\n",
       "      <td>False</td>\n",
       "      <td>True</td>\n",
       "      <td>True</td>\n",
       "      <td>False</td>\n",
       "      <td>False</td>\n",
       "      <td>False</td>\n",
       "      <td>4</td>\n",
       "      <td>True</td>\n",
       "      <td>False</td>\n",
       "      <td>False</td>\n",
       "      <td>amphibian</td>\n",
       "      <td>short</td>\n",
       "    </tr>\n",
       "    <tr>\n",
       "      <th>4</th>\n",
       "      <td>bass</td>\n",
       "      <td>False</td>\n",
       "      <td>False</td>\n",
       "      <td>True</td>\n",
       "      <td>False</td>\n",
       "      <td>False</td>\n",
       "      <td>True</td>\n",
       "      <td>True</td>\n",
       "      <td>True</td>\n",
       "      <td>True</td>\n",
       "      <td>False</td>\n",
       "      <td>False</td>\n",
       "      <td>True</td>\n",
       "      <td>0</td>\n",
       "      <td>True</td>\n",
       "      <td>False</td>\n",
       "      <td>False</td>\n",
       "      <td>fish</td>\n",
       "      <td>short</td>\n",
       "    </tr>\n",
       "    <tr>\n",
       "      <th>...</th>\n",
       "      <td>...</td>\n",
       "      <td>...</td>\n",
       "      <td>...</td>\n",
       "      <td>...</td>\n",
       "      <td>...</td>\n",
       "      <td>...</td>\n",
       "      <td>...</td>\n",
       "      <td>...</td>\n",
       "      <td>...</td>\n",
       "      <td>...</td>\n",
       "      <td>...</td>\n",
       "      <td>...</td>\n",
       "      <td>...</td>\n",
       "      <td>...</td>\n",
       "      <td>...</td>\n",
       "      <td>...</td>\n",
       "      <td>...</td>\n",
       "      <td>...</td>\n",
       "      <td>...</td>\n",
       "    </tr>\n",
       "    <tr>\n",
       "      <th>125</th>\n",
       "      <td>wasp</td>\n",
       "      <td>True</td>\n",
       "      <td>False</td>\n",
       "      <td>True</td>\n",
       "      <td>False</td>\n",
       "      <td>True</td>\n",
       "      <td>False</td>\n",
       "      <td>False</td>\n",
       "      <td>False</td>\n",
       "      <td>False</td>\n",
       "      <td>True</td>\n",
       "      <td>True</td>\n",
       "      <td>False</td>\n",
       "      <td>6</td>\n",
       "      <td>False</td>\n",
       "      <td>False</td>\n",
       "      <td>False</td>\n",
       "      <td>insect</td>\n",
       "      <td>short</td>\n",
       "    </tr>\n",
       "    <tr>\n",
       "      <th>126</th>\n",
       "      <td>whale shark</td>\n",
       "      <td>False</td>\n",
       "      <td>False</td>\n",
       "      <td>False</td>\n",
       "      <td>False</td>\n",
       "      <td>False</td>\n",
       "      <td>False</td>\n",
       "      <td>False</td>\n",
       "      <td>True</td>\n",
       "      <td>True</td>\n",
       "      <td>False</td>\n",
       "      <td>False</td>\n",
       "      <td>True</td>\n",
       "      <td>0</td>\n",
       "      <td>True</td>\n",
       "      <td>False</td>\n",
       "      <td>False</td>\n",
       "      <td>fish</td>\n",
       "      <td>long</td>\n",
       "    </tr>\n",
       "    <tr>\n",
       "      <th>127</th>\n",
       "      <td>wolf</td>\n",
       "      <td>True</td>\n",
       "      <td>False</td>\n",
       "      <td>False</td>\n",
       "      <td>True</td>\n",
       "      <td>False</td>\n",
       "      <td>False</td>\n",
       "      <td>True</td>\n",
       "      <td>True</td>\n",
       "      <td>True</td>\n",
       "      <td>True</td>\n",
       "      <td>False</td>\n",
       "      <td>False</td>\n",
       "      <td>4</td>\n",
       "      <td>True</td>\n",
       "      <td>False</td>\n",
       "      <td>True</td>\n",
       "      <td>mammal</td>\n",
       "      <td>short</td>\n",
       "    </tr>\n",
       "    <tr>\n",
       "      <th>128</th>\n",
       "      <td>worm</td>\n",
       "      <td>False</td>\n",
       "      <td>False</td>\n",
       "      <td>True</td>\n",
       "      <td>False</td>\n",
       "      <td>False</td>\n",
       "      <td>False</td>\n",
       "      <td>False</td>\n",
       "      <td>False</td>\n",
       "      <td>False</td>\n",
       "      <td>True</td>\n",
       "      <td>False</td>\n",
       "      <td>False</td>\n",
       "      <td>0</td>\n",
       "      <td>False</td>\n",
       "      <td>False</td>\n",
       "      <td>False</td>\n",
       "      <td>arthropod</td>\n",
       "      <td>short</td>\n",
       "    </tr>\n",
       "    <tr>\n",
       "      <th>129</th>\n",
       "      <td>wren</td>\n",
       "      <td>False</td>\n",
       "      <td>True</td>\n",
       "      <td>True</td>\n",
       "      <td>False</td>\n",
       "      <td>True</td>\n",
       "      <td>False</td>\n",
       "      <td>False</td>\n",
       "      <td>False</td>\n",
       "      <td>True</td>\n",
       "      <td>True</td>\n",
       "      <td>False</td>\n",
       "      <td>False</td>\n",
       "      <td>2</td>\n",
       "      <td>True</td>\n",
       "      <td>False</td>\n",
       "      <td>False</td>\n",
       "      <td>bird</td>\n",
       "      <td>short</td>\n",
       "    </tr>\n",
       "  </tbody>\n",
       "</table>\n",
       "<p>130 rows × 19 columns</p>\n",
       "</div>"
      ],
      "text/plain": [
       "     animal name   hair feathers   eggs   milk airborne aquatic predator  \\\n",
       "0       aardvark   True    False  False   True    False   False     True   \n",
       "1          anole  False    False   True  False    False   False    False   \n",
       "2       antelope   True    False  False   True    False   False    False   \n",
       "3        axolotl  False    False   True  False    False    True    False   \n",
       "4           bass  False    False   True  False    False    True     True   \n",
       "..           ...    ...      ...    ...    ...      ...     ...      ...   \n",
       "125         wasp   True    False   True  False     True   False    False   \n",
       "126  whale shark  False    False  False  False    False   False    False   \n",
       "127         wolf   True    False  False   True    False   False     True   \n",
       "128         worm  False    False   True  False    False   False    False   \n",
       "129         wren  False     True   True  False     True   False    False   \n",
       "\n",
       "    toothed backbone breathes venomous   fins legs   tail domestic catsize  \\\n",
       "0      True     True     True    False  False    4  False    False    True   \n",
       "1      True     True     True    False  False    4   True    False   False   \n",
       "2      True     True     True    False  False    4   True    False    True   \n",
       "3      True     True    False    False  False    4   True    False   False   \n",
       "4      True     True    False    False   True    0   True    False   False   \n",
       "..      ...      ...      ...      ...    ...  ...    ...      ...     ...   \n",
       "125   False    False     True     True  False    6  False    False   False   \n",
       "126    True     True    False    False   True    0   True    False   False   \n",
       "127    True     True     True    False  False    4   True    False    True   \n",
       "128   False    False     True    False  False    0  False    False   False   \n",
       "129   False     True     True    False  False    2   True    False   False   \n",
       "\n",
       "          type gestation  \n",
       "0       mammal      long  \n",
       "1      reptile     short  \n",
       "2       mammal      long  \n",
       "3    amphibian     short  \n",
       "4         fish     short  \n",
       "..         ...       ...  \n",
       "125     insect     short  \n",
       "126       fish      long  \n",
       "127     mammal     short  \n",
       "128  arthropod     short  \n",
       "129       bird     short  \n",
       "\n",
       "[130 rows x 19 columns]"
      ]
     },
     "execution_count": 95,
     "metadata": {},
     "output_type": "execute_result"
    }
   ],
   "source": [
    "data = data.drop('gestation', 1)\n",
    "data = data.rename(columns={'GESTATION': 'gestation'})\n",
    "data"
   ]
  },
  {
   "cell_type": "markdown",
   "id": "92a70d5d",
   "metadata": {},
   "source": [
    "## Exploratory Data Analysis:"
   ]
  },
  {
   "cell_type": "markdown",
   "id": "dea33b91",
   "metadata": {},
   "source": [
    "### Classify"
   ]
  },
  {
   "cell_type": "code",
   "execution_count": 96,
   "id": "989ac67a",
   "metadata": {
    "tags": []
   },
   "outputs": [
    {
     "data": {
      "text/plain": [
       "Index(['animal name', 'hair', 'feathers', 'eggs', 'milk', 'airborne',\n",
       "       'aquatic', 'predator', 'toothed', 'backbone', 'breathes', 'venomous',\n",
       "       'fins', 'legs', 'tail', 'domestic', 'catsize', 'type', 'gestation'],\n",
       "      dtype='object')"
      ]
     },
     "execution_count": 96,
     "metadata": {},
     "output_type": "execute_result"
    }
   ],
   "source": [
    "data.columns"
   ]
  },
  {
   "cell_type": "code",
   "execution_count": 97,
   "id": "4a86db52",
   "metadata": {
    "scrolled": true
   },
   "outputs": [],
   "source": [
    "for i, d in data.iterrows():\n",
    "    if d['type'] == 'mammal':\n",
    "        data.at[i,'mammal'] = 'mammal'\n",
    "    else:\n",
    "        data.at[i,'mammal'] = 'non-mammal' "
   ]
  },
  {
   "cell_type": "code",
   "execution_count": 98,
   "id": "551578ef",
   "metadata": {},
   "outputs": [
    {
     "data": {
      "text/plain": [
       "Index(['animal name', 'hair', 'feathers', 'eggs', 'milk', 'airborne',\n",
       "       'aquatic', 'predator', 'toothed', 'backbone', 'breathes', 'venomous',\n",
       "       'fins', 'legs', 'tail', 'domestic', 'catsize', 'type', 'gestation',\n",
       "       'mammal'],\n",
       "      dtype='object')"
      ]
     },
     "execution_count": 98,
     "metadata": {},
     "output_type": "execute_result"
    }
   ],
   "source": [
    "data.columns"
   ]
  },
  {
   "cell_type": "code",
   "execution_count": 99,
   "id": "cc50db4a",
   "metadata": {
    "tags": []
   },
   "outputs": [
    {
     "data": {
      "text/html": [
       "<div>\n",
       "<style scoped>\n",
       "    .dataframe tbody tr th:only-of-type {\n",
       "        vertical-align: middle;\n",
       "    }\n",
       "\n",
       "    .dataframe tbody tr th {\n",
       "        vertical-align: top;\n",
       "    }\n",
       "\n",
       "    .dataframe thead th {\n",
       "        text-align: right;\n",
       "    }\n",
       "</style>\n",
       "<table border=\"1\" class=\"dataframe\">\n",
       "  <thead>\n",
       "    <tr style=\"text-align: right;\">\n",
       "      <th></th>\n",
       "      <th>animal name</th>\n",
       "      <th>hair</th>\n",
       "      <th>feathers</th>\n",
       "      <th>eggs</th>\n",
       "      <th>milk</th>\n",
       "      <th>airborne</th>\n",
       "      <th>aquatic</th>\n",
       "      <th>predator</th>\n",
       "      <th>toothed</th>\n",
       "      <th>backbone</th>\n",
       "      <th>breathes</th>\n",
       "      <th>venomous</th>\n",
       "      <th>fins</th>\n",
       "      <th>legs</th>\n",
       "      <th>tail</th>\n",
       "      <th>domestic</th>\n",
       "      <th>catsize</th>\n",
       "      <th>type</th>\n",
       "      <th>gestation</th>\n",
       "      <th>mammal</th>\n",
       "    </tr>\n",
       "  </thead>\n",
       "  <tbody>\n",
       "    <tr>\n",
       "      <th>0</th>\n",
       "      <td>aardvark</td>\n",
       "      <td>True</td>\n",
       "      <td>False</td>\n",
       "      <td>False</td>\n",
       "      <td>True</td>\n",
       "      <td>False</td>\n",
       "      <td>False</td>\n",
       "      <td>True</td>\n",
       "      <td>True</td>\n",
       "      <td>True</td>\n",
       "      <td>True</td>\n",
       "      <td>False</td>\n",
       "      <td>False</td>\n",
       "      <td>4</td>\n",
       "      <td>False</td>\n",
       "      <td>False</td>\n",
       "      <td>True</td>\n",
       "      <td>mammal</td>\n",
       "      <td>long</td>\n",
       "      <td>mammal</td>\n",
       "    </tr>\n",
       "    <tr>\n",
       "      <th>1</th>\n",
       "      <td>anole</td>\n",
       "      <td>False</td>\n",
       "      <td>False</td>\n",
       "      <td>True</td>\n",
       "      <td>False</td>\n",
       "      <td>False</td>\n",
       "      <td>False</td>\n",
       "      <td>False</td>\n",
       "      <td>True</td>\n",
       "      <td>True</td>\n",
       "      <td>True</td>\n",
       "      <td>False</td>\n",
       "      <td>False</td>\n",
       "      <td>4</td>\n",
       "      <td>True</td>\n",
       "      <td>False</td>\n",
       "      <td>False</td>\n",
       "      <td>reptile</td>\n",
       "      <td>short</td>\n",
       "      <td>non-mammal</td>\n",
       "    </tr>\n",
       "    <tr>\n",
       "      <th>2</th>\n",
       "      <td>antelope</td>\n",
       "      <td>True</td>\n",
       "      <td>False</td>\n",
       "      <td>False</td>\n",
       "      <td>True</td>\n",
       "      <td>False</td>\n",
       "      <td>False</td>\n",
       "      <td>False</td>\n",
       "      <td>True</td>\n",
       "      <td>True</td>\n",
       "      <td>True</td>\n",
       "      <td>False</td>\n",
       "      <td>False</td>\n",
       "      <td>4</td>\n",
       "      <td>True</td>\n",
       "      <td>False</td>\n",
       "      <td>True</td>\n",
       "      <td>mammal</td>\n",
       "      <td>long</td>\n",
       "      <td>mammal</td>\n",
       "    </tr>\n",
       "    <tr>\n",
       "      <th>3</th>\n",
       "      <td>axolotl</td>\n",
       "      <td>False</td>\n",
       "      <td>False</td>\n",
       "      <td>True</td>\n",
       "      <td>False</td>\n",
       "      <td>False</td>\n",
       "      <td>True</td>\n",
       "      <td>False</td>\n",
       "      <td>True</td>\n",
       "      <td>True</td>\n",
       "      <td>False</td>\n",
       "      <td>False</td>\n",
       "      <td>False</td>\n",
       "      <td>4</td>\n",
       "      <td>True</td>\n",
       "      <td>False</td>\n",
       "      <td>False</td>\n",
       "      <td>amphibian</td>\n",
       "      <td>short</td>\n",
       "      <td>non-mammal</td>\n",
       "    </tr>\n",
       "    <tr>\n",
       "      <th>4</th>\n",
       "      <td>bass</td>\n",
       "      <td>False</td>\n",
       "      <td>False</td>\n",
       "      <td>True</td>\n",
       "      <td>False</td>\n",
       "      <td>False</td>\n",
       "      <td>True</td>\n",
       "      <td>True</td>\n",
       "      <td>True</td>\n",
       "      <td>True</td>\n",
       "      <td>False</td>\n",
       "      <td>False</td>\n",
       "      <td>True</td>\n",
       "      <td>0</td>\n",
       "      <td>True</td>\n",
       "      <td>False</td>\n",
       "      <td>False</td>\n",
       "      <td>fish</td>\n",
       "      <td>short</td>\n",
       "      <td>non-mammal</td>\n",
       "    </tr>\n",
       "    <tr>\n",
       "      <th>...</th>\n",
       "      <td>...</td>\n",
       "      <td>...</td>\n",
       "      <td>...</td>\n",
       "      <td>...</td>\n",
       "      <td>...</td>\n",
       "      <td>...</td>\n",
       "      <td>...</td>\n",
       "      <td>...</td>\n",
       "      <td>...</td>\n",
       "      <td>...</td>\n",
       "      <td>...</td>\n",
       "      <td>...</td>\n",
       "      <td>...</td>\n",
       "      <td>...</td>\n",
       "      <td>...</td>\n",
       "      <td>...</td>\n",
       "      <td>...</td>\n",
       "      <td>...</td>\n",
       "      <td>...</td>\n",
       "      <td>...</td>\n",
       "    </tr>\n",
       "    <tr>\n",
       "      <th>125</th>\n",
       "      <td>wasp</td>\n",
       "      <td>True</td>\n",
       "      <td>False</td>\n",
       "      <td>True</td>\n",
       "      <td>False</td>\n",
       "      <td>True</td>\n",
       "      <td>False</td>\n",
       "      <td>False</td>\n",
       "      <td>False</td>\n",
       "      <td>False</td>\n",
       "      <td>True</td>\n",
       "      <td>True</td>\n",
       "      <td>False</td>\n",
       "      <td>6</td>\n",
       "      <td>False</td>\n",
       "      <td>False</td>\n",
       "      <td>False</td>\n",
       "      <td>insect</td>\n",
       "      <td>short</td>\n",
       "      <td>non-mammal</td>\n",
       "    </tr>\n",
       "    <tr>\n",
       "      <th>126</th>\n",
       "      <td>whale shark</td>\n",
       "      <td>False</td>\n",
       "      <td>False</td>\n",
       "      <td>False</td>\n",
       "      <td>False</td>\n",
       "      <td>False</td>\n",
       "      <td>False</td>\n",
       "      <td>False</td>\n",
       "      <td>True</td>\n",
       "      <td>True</td>\n",
       "      <td>False</td>\n",
       "      <td>False</td>\n",
       "      <td>True</td>\n",
       "      <td>0</td>\n",
       "      <td>True</td>\n",
       "      <td>False</td>\n",
       "      <td>False</td>\n",
       "      <td>fish</td>\n",
       "      <td>long</td>\n",
       "      <td>non-mammal</td>\n",
       "    </tr>\n",
       "    <tr>\n",
       "      <th>127</th>\n",
       "      <td>wolf</td>\n",
       "      <td>True</td>\n",
       "      <td>False</td>\n",
       "      <td>False</td>\n",
       "      <td>True</td>\n",
       "      <td>False</td>\n",
       "      <td>False</td>\n",
       "      <td>True</td>\n",
       "      <td>True</td>\n",
       "      <td>True</td>\n",
       "      <td>True</td>\n",
       "      <td>False</td>\n",
       "      <td>False</td>\n",
       "      <td>4</td>\n",
       "      <td>True</td>\n",
       "      <td>False</td>\n",
       "      <td>True</td>\n",
       "      <td>mammal</td>\n",
       "      <td>short</td>\n",
       "      <td>mammal</td>\n",
       "    </tr>\n",
       "    <tr>\n",
       "      <th>128</th>\n",
       "      <td>worm</td>\n",
       "      <td>False</td>\n",
       "      <td>False</td>\n",
       "      <td>True</td>\n",
       "      <td>False</td>\n",
       "      <td>False</td>\n",
       "      <td>False</td>\n",
       "      <td>False</td>\n",
       "      <td>False</td>\n",
       "      <td>False</td>\n",
       "      <td>True</td>\n",
       "      <td>False</td>\n",
       "      <td>False</td>\n",
       "      <td>0</td>\n",
       "      <td>False</td>\n",
       "      <td>False</td>\n",
       "      <td>False</td>\n",
       "      <td>arthropod</td>\n",
       "      <td>short</td>\n",
       "      <td>non-mammal</td>\n",
       "    </tr>\n",
       "    <tr>\n",
       "      <th>129</th>\n",
       "      <td>wren</td>\n",
       "      <td>False</td>\n",
       "      <td>True</td>\n",
       "      <td>True</td>\n",
       "      <td>False</td>\n",
       "      <td>True</td>\n",
       "      <td>False</td>\n",
       "      <td>False</td>\n",
       "      <td>False</td>\n",
       "      <td>True</td>\n",
       "      <td>True</td>\n",
       "      <td>False</td>\n",
       "      <td>False</td>\n",
       "      <td>2</td>\n",
       "      <td>True</td>\n",
       "      <td>False</td>\n",
       "      <td>False</td>\n",
       "      <td>bird</td>\n",
       "      <td>short</td>\n",
       "      <td>non-mammal</td>\n",
       "    </tr>\n",
       "  </tbody>\n",
       "</table>\n",
       "<p>130 rows × 20 columns</p>\n",
       "</div>"
      ],
      "text/plain": [
       "     animal name   hair feathers   eggs   milk airborne aquatic predator  \\\n",
       "0       aardvark   True    False  False   True    False   False     True   \n",
       "1          anole  False    False   True  False    False   False    False   \n",
       "2       antelope   True    False  False   True    False   False    False   \n",
       "3        axolotl  False    False   True  False    False    True    False   \n",
       "4           bass  False    False   True  False    False    True     True   \n",
       "..           ...    ...      ...    ...    ...      ...     ...      ...   \n",
       "125         wasp   True    False   True  False     True   False    False   \n",
       "126  whale shark  False    False  False  False    False   False    False   \n",
       "127         wolf   True    False  False   True    False   False     True   \n",
       "128         worm  False    False   True  False    False   False    False   \n",
       "129         wren  False     True   True  False     True   False    False   \n",
       "\n",
       "    toothed backbone breathes venomous   fins legs   tail domestic catsize  \\\n",
       "0      True     True     True    False  False    4  False    False    True   \n",
       "1      True     True     True    False  False    4   True    False   False   \n",
       "2      True     True     True    False  False    4   True    False    True   \n",
       "3      True     True    False    False  False    4   True    False   False   \n",
       "4      True     True    False    False   True    0   True    False   False   \n",
       "..      ...      ...      ...      ...    ...  ...    ...      ...     ...   \n",
       "125   False    False     True     True  False    6  False    False   False   \n",
       "126    True     True    False    False   True    0   True    False   False   \n",
       "127    True     True     True    False  False    4   True    False    True   \n",
       "128   False    False     True    False  False    0  False    False   False   \n",
       "129   False     True     True    False  False    2   True    False   False   \n",
       "\n",
       "          type gestation      mammal  \n",
       "0       mammal      long      mammal  \n",
       "1      reptile     short  non-mammal  \n",
       "2       mammal      long      mammal  \n",
       "3    amphibian     short  non-mammal  \n",
       "4         fish     short  non-mammal  \n",
       "..         ...       ...         ...  \n",
       "125     insect     short  non-mammal  \n",
       "126       fish      long  non-mammal  \n",
       "127     mammal     short      mammal  \n",
       "128  arthropod     short  non-mammal  \n",
       "129       bird     short  non-mammal  \n",
       "\n",
       "[130 rows x 20 columns]"
      ]
     },
     "execution_count": 99,
     "metadata": {},
     "output_type": "execute_result"
    }
   ],
   "source": [
    "data"
   ]
  },
  {
   "cell_type": "markdown",
   "id": "7ec4dd93",
   "metadata": {},
   "source": [
    "###  Splitting the data to training and testing data set"
   ]
  },
  {
   "cell_type": "code",
   "execution_count": 100,
   "id": "4ccdc5c4",
   "metadata": {
    "scrolled": true
   },
   "outputs": [],
   "source": [
    "y = data[['mammal']]\n",
    "x = data.drop(columns=['type','mammal'])\n",
    "xtrain, xtest, ytrain, ytest = train_test_split(x, y, train_size = 0.80, random_state=1)"
   ]
  },
  {
   "cell_type": "code",
   "execution_count": 101,
   "id": "eb4767d9",
   "metadata": {},
   "outputs": [
    {
     "data": {
      "text/html": [
       "<div>\n",
       "<style scoped>\n",
       "    .dataframe tbody tr th:only-of-type {\n",
       "        vertical-align: middle;\n",
       "    }\n",
       "\n",
       "    .dataframe tbody tr th {\n",
       "        vertical-align: top;\n",
       "    }\n",
       "\n",
       "    .dataframe thead th {\n",
       "        text-align: right;\n",
       "    }\n",
       "</style>\n",
       "<table border=\"1\" class=\"dataframe\">\n",
       "  <thead>\n",
       "    <tr style=\"text-align: right;\">\n",
       "      <th></th>\n",
       "      <th>animal name</th>\n",
       "      <th>hair</th>\n",
       "      <th>feathers</th>\n",
       "      <th>eggs</th>\n",
       "      <th>milk</th>\n",
       "      <th>airborne</th>\n",
       "      <th>aquatic</th>\n",
       "      <th>predator</th>\n",
       "      <th>toothed</th>\n",
       "      <th>backbone</th>\n",
       "      <th>breathes</th>\n",
       "      <th>venomous</th>\n",
       "      <th>fins</th>\n",
       "      <th>legs</th>\n",
       "      <th>tail</th>\n",
       "      <th>domestic</th>\n",
       "      <th>catsize</th>\n",
       "      <th>gestation</th>\n",
       "    </tr>\n",
       "  </thead>\n",
       "  <tbody>\n",
       "    <tr>\n",
       "      <th>109</th>\n",
       "      <td>sparrow</td>\n",
       "      <td>False</td>\n",
       "      <td>True</td>\n",
       "      <td>True</td>\n",
       "      <td>False</td>\n",
       "      <td>True</td>\n",
       "      <td>False</td>\n",
       "      <td>False</td>\n",
       "      <td>False</td>\n",
       "      <td>True</td>\n",
       "      <td>True</td>\n",
       "      <td>False</td>\n",
       "      <td>False</td>\n",
       "      <td>2</td>\n",
       "      <td>True</td>\n",
       "      <td>False</td>\n",
       "      <td>False</td>\n",
       "      <td>short</td>\n",
       "    </tr>\n",
       "    <tr>\n",
       "      <th>20</th>\n",
       "      <td>clam</td>\n",
       "      <td>False</td>\n",
       "      <td>False</td>\n",
       "      <td>True</td>\n",
       "      <td>False</td>\n",
       "      <td>False</td>\n",
       "      <td>False</td>\n",
       "      <td>True</td>\n",
       "      <td>False</td>\n",
       "      <td>False</td>\n",
       "      <td>False</td>\n",
       "      <td>False</td>\n",
       "      <td>False</td>\n",
       "      <td>0</td>\n",
       "      <td>False</td>\n",
       "      <td>False</td>\n",
       "      <td>False</td>\n",
       "      <td>short</td>\n",
       "    </tr>\n",
       "    <tr>\n",
       "      <th>64</th>\n",
       "      <td>lynx</td>\n",
       "      <td>True</td>\n",
       "      <td>False</td>\n",
       "      <td>False</td>\n",
       "      <td>True</td>\n",
       "      <td>False</td>\n",
       "      <td>False</td>\n",
       "      <td>True</td>\n",
       "      <td>True</td>\n",
       "      <td>True</td>\n",
       "      <td>True</td>\n",
       "      <td>False</td>\n",
       "      <td>False</td>\n",
       "      <td>4</td>\n",
       "      <td>True</td>\n",
       "      <td>False</td>\n",
       "      <td>True</td>\n",
       "      <td>short</td>\n",
       "    </tr>\n",
       "    <tr>\n",
       "      <th>118</th>\n",
       "      <td>tortoise</td>\n",
       "      <td>False</td>\n",
       "      <td>False</td>\n",
       "      <td>True</td>\n",
       "      <td>False</td>\n",
       "      <td>False</td>\n",
       "      <td>False</td>\n",
       "      <td>False</td>\n",
       "      <td>False</td>\n",
       "      <td>True</td>\n",
       "      <td>True</td>\n",
       "      <td>False</td>\n",
       "      <td>False</td>\n",
       "      <td>4</td>\n",
       "      <td>True</td>\n",
       "      <td>False</td>\n",
       "      <td>True</td>\n",
       "      <td>short</td>\n",
       "    </tr>\n",
       "    <tr>\n",
       "      <th>99</th>\n",
       "      <td>seal</td>\n",
       "      <td>True</td>\n",
       "      <td>False</td>\n",
       "      <td>False</td>\n",
       "      <td>True</td>\n",
       "      <td>False</td>\n",
       "      <td>True</td>\n",
       "      <td>True</td>\n",
       "      <td>True</td>\n",
       "      <td>True</td>\n",
       "      <td>True</td>\n",
       "      <td>False</td>\n",
       "      <td>True</td>\n",
       "      <td>0</td>\n",
       "      <td>False</td>\n",
       "      <td>False</td>\n",
       "      <td>True</td>\n",
       "      <td>long</td>\n",
       "    </tr>\n",
       "    <tr>\n",
       "      <th>92</th>\n",
       "      <td>red panda</td>\n",
       "      <td>True</td>\n",
       "      <td>False</td>\n",
       "      <td>False</td>\n",
       "      <td>True</td>\n",
       "      <td>False</td>\n",
       "      <td>False</td>\n",
       "      <td>False</td>\n",
       "      <td>True</td>\n",
       "      <td>True</td>\n",
       "      <td>True</td>\n",
       "      <td>False</td>\n",
       "      <td>False</td>\n",
       "      <td>4</td>\n",
       "      <td>True</td>\n",
       "      <td>False</td>\n",
       "      <td>True</td>\n",
       "      <td>long</td>\n",
       "    </tr>\n",
       "    <tr>\n",
       "      <th>1</th>\n",
       "      <td>anole</td>\n",
       "      <td>False</td>\n",
       "      <td>False</td>\n",
       "      <td>True</td>\n",
       "      <td>False</td>\n",
       "      <td>False</td>\n",
       "      <td>False</td>\n",
       "      <td>False</td>\n",
       "      <td>True</td>\n",
       "      <td>True</td>\n",
       "      <td>True</td>\n",
       "      <td>False</td>\n",
       "      <td>False</td>\n",
       "      <td>4</td>\n",
       "      <td>True</td>\n",
       "      <td>False</td>\n",
       "      <td>False</td>\n",
       "      <td>short</td>\n",
       "    </tr>\n",
       "    <tr>\n",
       "      <th>41</th>\n",
       "      <td>goat</td>\n",
       "      <td>True</td>\n",
       "      <td>False</td>\n",
       "      <td>False</td>\n",
       "      <td>True</td>\n",
       "      <td>False</td>\n",
       "      <td>False</td>\n",
       "      <td>False</td>\n",
       "      <td>True</td>\n",
       "      <td>True</td>\n",
       "      <td>True</td>\n",
       "      <td>False</td>\n",
       "      <td>False</td>\n",
       "      <td>4</td>\n",
       "      <td>True</td>\n",
       "      <td>True</td>\n",
       "      <td>True</td>\n",
       "      <td>long</td>\n",
       "    </tr>\n",
       "    <tr>\n",
       "      <th>0</th>\n",
       "      <td>aardvark</td>\n",
       "      <td>True</td>\n",
       "      <td>False</td>\n",
       "      <td>False</td>\n",
       "      <td>True</td>\n",
       "      <td>False</td>\n",
       "      <td>False</td>\n",
       "      <td>True</td>\n",
       "      <td>True</td>\n",
       "      <td>True</td>\n",
       "      <td>True</td>\n",
       "      <td>False</td>\n",
       "      <td>False</td>\n",
       "      <td>4</td>\n",
       "      <td>False</td>\n",
       "      <td>False</td>\n",
       "      <td>True</td>\n",
       "      <td>long</td>\n",
       "    </tr>\n",
       "    <tr>\n",
       "      <th>90</th>\n",
       "      <td>puma</td>\n",
       "      <td>True</td>\n",
       "      <td>False</td>\n",
       "      <td>False</td>\n",
       "      <td>True</td>\n",
       "      <td>False</td>\n",
       "      <td>False</td>\n",
       "      <td>True</td>\n",
       "      <td>True</td>\n",
       "      <td>True</td>\n",
       "      <td>True</td>\n",
       "      <td>False</td>\n",
       "      <td>False</td>\n",
       "      <td>4</td>\n",
       "      <td>True</td>\n",
       "      <td>False</td>\n",
       "      <td>True</td>\n",
       "      <td>short</td>\n",
       "    </tr>\n",
       "  </tbody>\n",
       "</table>\n",
       "</div>"
      ],
      "text/plain": [
       "    animal name   hair feathers   eggs   milk airborne aquatic predator  \\\n",
       "109     sparrow  False     True   True  False     True   False    False   \n",
       "20         clam  False    False   True  False    False   False     True   \n",
       "64         lynx   True    False  False   True    False   False     True   \n",
       "118    tortoise  False    False   True  False    False   False    False   \n",
       "99         seal   True    False  False   True    False    True     True   \n",
       "92    red panda   True    False  False   True    False   False    False   \n",
       "1         anole  False    False   True  False    False   False    False   \n",
       "41         goat   True    False  False   True    False   False    False   \n",
       "0      aardvark   True    False  False   True    False   False     True   \n",
       "90         puma   True    False  False   True    False   False     True   \n",
       "\n",
       "    toothed backbone breathes venomous   fins legs   tail domestic catsize  \\\n",
       "109   False     True     True    False  False    2   True    False   False   \n",
       "20    False    False    False    False  False    0  False    False   False   \n",
       "64     True     True     True    False  False    4   True    False    True   \n",
       "118   False     True     True    False  False    4   True    False    True   \n",
       "99     True     True     True    False   True    0  False    False    True   \n",
       "92     True     True     True    False  False    4   True    False    True   \n",
       "1      True     True     True    False  False    4   True    False   False   \n",
       "41     True     True     True    False  False    4   True     True    True   \n",
       "0      True     True     True    False  False    4  False    False    True   \n",
       "90     True     True     True    False  False    4   True    False    True   \n",
       "\n",
       "    gestation  \n",
       "109     short  \n",
       "20      short  \n",
       "64      short  \n",
       "118     short  \n",
       "99       long  \n",
       "92       long  \n",
       "1       short  \n",
       "41       long  \n",
       "0        long  \n",
       "90      short  "
      ]
     },
     "execution_count": 101,
     "metadata": {},
     "output_type": "execute_result"
    }
   ],
   "source": [
    "xtrain.sample(10)"
   ]
  },
  {
   "cell_type": "code",
   "execution_count": 102,
   "id": "8615c802",
   "metadata": {},
   "outputs": [
    {
     "data": {
      "text/html": [
       "<div>\n",
       "<style scoped>\n",
       "    .dataframe tbody tr th:only-of-type {\n",
       "        vertical-align: middle;\n",
       "    }\n",
       "\n",
       "    .dataframe tbody tr th {\n",
       "        vertical-align: top;\n",
       "    }\n",
       "\n",
       "    .dataframe thead th {\n",
       "        text-align: right;\n",
       "    }\n",
       "</style>\n",
       "<table border=\"1\" class=\"dataframe\">\n",
       "  <thead>\n",
       "    <tr style=\"text-align: right;\">\n",
       "      <th></th>\n",
       "      <th>animal name</th>\n",
       "      <th>hair</th>\n",
       "      <th>feathers</th>\n",
       "      <th>eggs</th>\n",
       "      <th>milk</th>\n",
       "      <th>airborne</th>\n",
       "      <th>aquatic</th>\n",
       "      <th>predator</th>\n",
       "      <th>toothed</th>\n",
       "      <th>backbone</th>\n",
       "      <th>breathes</th>\n",
       "      <th>venomous</th>\n",
       "      <th>fins</th>\n",
       "      <th>legs</th>\n",
       "      <th>tail</th>\n",
       "      <th>domestic</th>\n",
       "      <th>catsize</th>\n",
       "      <th>gestation</th>\n",
       "    </tr>\n",
       "  </thead>\n",
       "  <tbody>\n",
       "    <tr>\n",
       "      <th>31</th>\n",
       "      <td>duck</td>\n",
       "      <td>False</td>\n",
       "      <td>True</td>\n",
       "      <td>True</td>\n",
       "      <td>False</td>\n",
       "      <td>True</td>\n",
       "      <td>True</td>\n",
       "      <td>False</td>\n",
       "      <td>False</td>\n",
       "      <td>True</td>\n",
       "      <td>True</td>\n",
       "      <td>False</td>\n",
       "      <td>False</td>\n",
       "      <td>2</td>\n",
       "      <td>True</td>\n",
       "      <td>False</td>\n",
       "      <td>False</td>\n",
       "      <td>short</td>\n",
       "    </tr>\n",
       "    <tr>\n",
       "      <th>55</th>\n",
       "      <td>housefly</td>\n",
       "      <td>True</td>\n",
       "      <td>False</td>\n",
       "      <td>True</td>\n",
       "      <td>False</td>\n",
       "      <td>True</td>\n",
       "      <td>False</td>\n",
       "      <td>False</td>\n",
       "      <td>False</td>\n",
       "      <td>False</td>\n",
       "      <td>True</td>\n",
       "      <td>False</td>\n",
       "      <td>False</td>\n",
       "      <td>6</td>\n",
       "      <td>False</td>\n",
       "      <td>False</td>\n",
       "      <td>False</td>\n",
       "      <td>short</td>\n",
       "    </tr>\n",
       "    <tr>\n",
       "      <th>111</th>\n",
       "      <td>squirrel</td>\n",
       "      <td>True</td>\n",
       "      <td>False</td>\n",
       "      <td>False</td>\n",
       "      <td>True</td>\n",
       "      <td>False</td>\n",
       "      <td>False</td>\n",
       "      <td>False</td>\n",
       "      <td>True</td>\n",
       "      <td>True</td>\n",
       "      <td>True</td>\n",
       "      <td>False</td>\n",
       "      <td>False</td>\n",
       "      <td>2</td>\n",
       "      <td>True</td>\n",
       "      <td>False</td>\n",
       "      <td>False</td>\n",
       "      <td>short</td>\n",
       "    </tr>\n",
       "    <tr>\n",
       "      <th>54</th>\n",
       "      <td>housecat</td>\n",
       "      <td>True</td>\n",
       "      <td>False</td>\n",
       "      <td>False</td>\n",
       "      <td>True</td>\n",
       "      <td>False</td>\n",
       "      <td>False</td>\n",
       "      <td>True</td>\n",
       "      <td>True</td>\n",
       "      <td>True</td>\n",
       "      <td>True</td>\n",
       "      <td>False</td>\n",
       "      <td>False</td>\n",
       "      <td>4</td>\n",
       "      <td>True</td>\n",
       "      <td>True</td>\n",
       "      <td>True</td>\n",
       "      <td>short</td>\n",
       "    </tr>\n",
       "    <tr>\n",
       "      <th>51</th>\n",
       "      <td>herring</td>\n",
       "      <td>False</td>\n",
       "      <td>False</td>\n",
       "      <td>True</td>\n",
       "      <td>False</td>\n",
       "      <td>False</td>\n",
       "      <td>True</td>\n",
       "      <td>True</td>\n",
       "      <td>True</td>\n",
       "      <td>True</td>\n",
       "      <td>False</td>\n",
       "      <td>False</td>\n",
       "      <td>True</td>\n",
       "      <td>0</td>\n",
       "      <td>True</td>\n",
       "      <td>False</td>\n",
       "      <td>False</td>\n",
       "      <td>short</td>\n",
       "    </tr>\n",
       "    <tr>\n",
       "      <th>58</th>\n",
       "      <td>komodo dragon</td>\n",
       "      <td>False</td>\n",
       "      <td>False</td>\n",
       "      <td>True</td>\n",
       "      <td>False</td>\n",
       "      <td>False</td>\n",
       "      <td>False</td>\n",
       "      <td>True</td>\n",
       "      <td>True</td>\n",
       "      <td>True</td>\n",
       "      <td>True</td>\n",
       "      <td>True</td>\n",
       "      <td>False</td>\n",
       "      <td>4</td>\n",
       "      <td>True</td>\n",
       "      <td>False</td>\n",
       "      <td>False</td>\n",
       "      <td>long</td>\n",
       "    </tr>\n",
       "    <tr>\n",
       "      <th>67</th>\n",
       "      <td>mink</td>\n",
       "      <td>True</td>\n",
       "      <td>False</td>\n",
       "      <td>False</td>\n",
       "      <td>True</td>\n",
       "      <td>False</td>\n",
       "      <td>True</td>\n",
       "      <td>True</td>\n",
       "      <td>True</td>\n",
       "      <td>True</td>\n",
       "      <td>True</td>\n",
       "      <td>False</td>\n",
       "      <td>False</td>\n",
       "      <td>4</td>\n",
       "      <td>True</td>\n",
       "      <td>False</td>\n",
       "      <td>True</td>\n",
       "      <td>short</td>\n",
       "    </tr>\n",
       "    <tr>\n",
       "      <th>121</th>\n",
       "      <td>vampire</td>\n",
       "      <td>True</td>\n",
       "      <td>False</td>\n",
       "      <td>False</td>\n",
       "      <td>True</td>\n",
       "      <td>True</td>\n",
       "      <td>False</td>\n",
       "      <td>False</td>\n",
       "      <td>True</td>\n",
       "      <td>True</td>\n",
       "      <td>True</td>\n",
       "      <td>False</td>\n",
       "      <td>False</td>\n",
       "      <td>2</td>\n",
       "      <td>True</td>\n",
       "      <td>False</td>\n",
       "      <td>False</td>\n",
       "      <td>long</td>\n",
       "    </tr>\n",
       "    <tr>\n",
       "      <th>83</th>\n",
       "      <td>pike</td>\n",
       "      <td>False</td>\n",
       "      <td>False</td>\n",
       "      <td>True</td>\n",
       "      <td>False</td>\n",
       "      <td>False</td>\n",
       "      <td>True</td>\n",
       "      <td>True</td>\n",
       "      <td>True</td>\n",
       "      <td>True</td>\n",
       "      <td>False</td>\n",
       "      <td>False</td>\n",
       "      <td>True</td>\n",
       "      <td>0</td>\n",
       "      <td>True</td>\n",
       "      <td>False</td>\n",
       "      <td>True</td>\n",
       "      <td>short</td>\n",
       "    </tr>\n",
       "    <tr>\n",
       "      <th>117</th>\n",
       "      <td>toad</td>\n",
       "      <td>False</td>\n",
       "      <td>False</td>\n",
       "      <td>True</td>\n",
       "      <td>False</td>\n",
       "      <td>False</td>\n",
       "      <td>True</td>\n",
       "      <td>False</td>\n",
       "      <td>True</td>\n",
       "      <td>True</td>\n",
       "      <td>True</td>\n",
       "      <td>False</td>\n",
       "      <td>False</td>\n",
       "      <td>4</td>\n",
       "      <td>False</td>\n",
       "      <td>False</td>\n",
       "      <td>False</td>\n",
       "      <td>short</td>\n",
       "    </tr>\n",
       "  </tbody>\n",
       "</table>\n",
       "</div>"
      ],
      "text/plain": [
       "       animal name   hair feathers   eggs   milk airborne aquatic predator  \\\n",
       "31            duck  False     True   True  False     True    True    False   \n",
       "55        housefly   True    False   True  False     True   False    False   \n",
       "111       squirrel   True    False  False   True    False   False    False   \n",
       "54        housecat   True    False  False   True    False   False     True   \n",
       "51         herring  False    False   True  False    False    True     True   \n",
       "58   komodo dragon  False    False   True  False    False   False     True   \n",
       "67            mink   True    False  False   True    False    True     True   \n",
       "121        vampire   True    False  False   True     True   False    False   \n",
       "83            pike  False    False   True  False    False    True     True   \n",
       "117           toad  False    False   True  False    False    True    False   \n",
       "\n",
       "    toothed backbone breathes venomous   fins legs   tail domestic catsize  \\\n",
       "31    False     True     True    False  False    2   True    False   False   \n",
       "55    False    False     True    False  False    6  False    False   False   \n",
       "111    True     True     True    False  False    2   True    False   False   \n",
       "54     True     True     True    False  False    4   True     True    True   \n",
       "51     True     True    False    False   True    0   True    False   False   \n",
       "58     True     True     True     True  False    4   True    False   False   \n",
       "67     True     True     True    False  False    4   True    False    True   \n",
       "121    True     True     True    False  False    2   True    False   False   \n",
       "83     True     True    False    False   True    0   True    False    True   \n",
       "117    True     True     True    False  False    4  False    False   False   \n",
       "\n",
       "    gestation  \n",
       "31      short  \n",
       "55      short  \n",
       "111     short  \n",
       "54      short  \n",
       "51      short  \n",
       "58       long  \n",
       "67      short  \n",
       "121      long  \n",
       "83      short  \n",
       "117     short  "
      ]
     },
     "execution_count": 102,
     "metadata": {},
     "output_type": "execute_result"
    }
   ],
   "source": [
    "xtest.sample(10)"
   ]
  },
  {
   "cell_type": "markdown",
   "id": "31b259ef",
   "metadata": {},
   "source": [
    "### Count Plot of Each Attribute"
   ]
  },
  {
   "cell_type": "code",
   "execution_count": 103,
   "id": "62a42c50",
   "metadata": {
    "scrolled": true
   },
   "outputs": [],
   "source": [
    "# def plot (attribute, dataValue):\n",
    "#     bar = sns.countplot(x = attribute, data = dataValue)\n",
    "#     bar.set_xticklabels(bar.get_xticklabels(), rotation=40, ha = 'right')\n",
    "#     plt.tight_layout()\n",
    "#     timeval = time.strftime(\"%M_%S\")\n",
    "#     plt.savefig(\"../generated-output/counterplot\"+ str(timeval)+\".png\")"
   ]
  },
  {
   "cell_type": "code",
   "execution_count": 104,
   "id": "ba948e7a",
   "metadata": {
    "scrolled": true
   },
   "outputs": [],
   "source": [
    "# colors = [k for k,v in pltcolor.cnames.items()]"
   ]
  },
  {
   "cell_type": "code",
   "execution_count": 105,
   "id": "f19483f9",
   "metadata": {
    "scrolled": true
   },
   "outputs": [],
   "source": [
    "def plot(attribute, dataValue):\n",
    "    titleName = ''\n",
    "    if attribute == 'animal name':\n",
    "        titleName  = 'Animal Names'\n",
    "    elif attribute in ['hair', 'feathers','toothed','legs', 'tail','backbone', 'fins','eggs', 'milk']:\n",
    "        titleName = 'Animals that have ' + attribute\n",
    "    elif attribute in  [ 'airborne', 'aquatic', 'venomous', 'domestic', 'predator', 'catsize']:\n",
    "        titleName = 'Animals that are ' + attribute\n",
    "    elif attribute in ['breathes']:\n",
    "        titleName = 'Animals that ' + attribute\n",
    "    elif attribute in ['gestation']:\n",
    "        titleName =  'Animal with gestation period'\n",
    "   \n",
    "    \n",
    "    plt = dataValue[attribute].value_counts().plot(kind='bar', figsize=(7,5), color = list('ycmgkbr'), title = titleName)\n",
    "    plt.set_xlabel(attribute)\n",
    "    plt.set_ylabel(\"Count\")\n",
    "    timeval = time.strftime(\"%M_%S\")\n",
    "    plt.figure.savefig(\"../generated-output/counterplot\"+ str(timeval)+\".png\")\n",
    "    "
   ]
  },
  {
   "cell_type": "markdown",
   "id": "44cb4715",
   "metadata": {},
   "source": [
    "### Hair"
   ]
  },
  {
   "cell_type": "code",
   "execution_count": 106,
   "id": "0fc5f3e3",
   "metadata": {
    "tags": []
   },
   "outputs": [
    {
     "data": {
      "image/png": "[encoded data removed]",
      "text/plain": [
       "<Figure size 504x360 with 1 Axes>"
      ]
     },
     "metadata": {
      "needs_background": "light"
     },
     "output_type": "display_data"
    }
   ],
   "source": [
    "plot('hair', xtrain)"
   ]
  },
  {
   "cell_type": "code",
   "execution_count": 107,
   "id": "33170abe",
   "metadata": {
    "tags": []
   },
   "outputs": [
    {
     "data": {
      "image/png": "[encoded data removed]",
      "text/plain": [
       "<Figure size 504x360 with 1 Axes>"
      ]
     },
     "metadata": {
      "needs_background": "light"
     },
     "output_type": "display_data"
    }
   ],
   "source": [
    "plot('legs', xtrain)"
   ]
  },
  {
   "cell_type": "code",
   "execution_count": 108,
   "id": "80cd329d",
   "metadata": {
    "tags": []
   },
   "outputs": [
    {
     "data": {
      "image/png": "[encoded data removed]",
      "text/plain": [
       "<Figure size 504x360 with 1 Axes>"
      ]
     },
     "metadata": {
      "needs_background": "light"
     },
     "output_type": "display_data"
    }
   ],
   "source": [
    "plot('eggs', xtrain)"
   ]
  },
  {
   "cell_type": "code",
   "execution_count": 109,
   "id": "8db1a900",
   "metadata": {
    "tags": []
   },
   "outputs": [
    {
     "data": {
      "image/png": "[encoded data removed]",
      "text/plain": [
       "<Figure size 504x360 with 1 Axes>"
      ]
     },
     "metadata": {
      "needs_background": "light"
     },
     "output_type": "display_data"
    }
   ],
   "source": [
    "plot('milk', xtrain)"
   ]
  },
  {
   "cell_type": "code",
   "execution_count": 110,
   "id": "18652dcf",
   "metadata": {
    "tags": []
   },
   "outputs": [
    {
     "data": {
      "image/png": "[encoded data removed]",
      "text/plain": [
       "<Figure size 504x360 with 1 Axes>"
      ]
     },
     "metadata": {
      "needs_background": "light"
     },
     "output_type": "display_data"
    }
   ],
   "source": [
    "plot('predator', xtrain)"
   ]
  },
  {
   "cell_type": "code",
   "execution_count": 111,
   "id": "76636425",
   "metadata": {
    "tags": []
   },
   "outputs": [
    {
     "data": {
      "image/png": "[encoded data removed]",
      "text/plain": [
       "<Figure size 504x360 with 1 Axes>"
      ]
     },
     "metadata": {
      "needs_background": "light"
     },
     "output_type": "display_data"
    }
   ],
   "source": [
    "plot('feathers', xtrain)"
   ]
  },
  {
   "cell_type": "code",
   "execution_count": 112,
   "id": "0e266ae7",
   "metadata": {
    "tags": []
   },
   "outputs": [
    {
     "data": {
      "image/png": "[encoded data removed]",
      "text/plain": [
       "<Figure size 504x360 with 1 Axes>"
      ]
     },
     "metadata": {
      "needs_background": "light"
     },
     "output_type": "display_data"
    }
   ],
   "source": [
    "plot('airborne', xtrain)"
   ]
  },
  {
   "cell_type": "code",
   "execution_count": 113,
   "id": "3e74483c",
   "metadata": {
    "tags": []
   },
   "outputs": [
    {
     "data": {
      "image/png": "[encoded data removed]",
      "text/plain": [
       "<Figure size 504x360 with 1 Axes>"
      ]
     },
     "metadata": {
      "needs_background": "light"
     },
     "output_type": "display_data"
    }
   ],
   "source": [
    "plot('aquatic', xtrain)"
   ]
  },
  {
   "cell_type": "code",
   "execution_count": 114,
   "id": "4622faeb",
   "metadata": {
    "tags": []
   },
   "outputs": [
    {
     "data": {
      "image/png": "[encoded data removed]",
      "text/plain": [
       "<Figure size 504x360 with 1 Axes>"
      ]
     },
     "metadata": {
      "needs_background": "light"
     },
     "output_type": "display_data"
    }
   ],
   "source": [
    "plot('toothed', xtrain)"
   ]
  },
  {
   "cell_type": "code",
   "execution_count": 115,
   "id": "9333bc3a",
   "metadata": {
    "tags": []
   },
   "outputs": [
    {
     "data": {
      "image/png": "[encoded data removed]",
      "text/plain": [
       "<Figure size 504x360 with 1 Axes>"
      ]
     },
     "metadata": {
      "needs_background": "light"
     },
     "output_type": "display_data"
    }
   ],
   "source": [
    "plot('backbone', xtrain)"
   ]
  },
  {
   "cell_type": "code",
   "execution_count": 116,
   "id": "b40bbf48",
   "metadata": {
    "tags": []
   },
   "outputs": [
    {
     "data": {
      "image/png": "[encoded data removed]",
      "text/plain": [
       "<Figure size 504x360 with 1 Axes>"
      ]
     },
     "metadata": {
      "needs_background": "light"
     },
     "output_type": "display_data"
    }
   ],
   "source": [
    "plot('breathes', xtrain)"
   ]
  },
  {
   "cell_type": "code",
   "execution_count": 117,
   "id": "a1309248",
   "metadata": {
    "tags": []
   },
   "outputs": [
    {
     "data": {
      "image/png": "[encoded data removed]",
      "text/plain": [
       "<Figure size 504x360 with 1 Axes>"
      ]
     },
     "metadata": {
      "needs_background": "light"
     },
     "output_type": "display_data"
    }
   ],
   "source": [
    "plot('venomous', xtrain)"
   ]
  },
  {
   "cell_type": "code",
   "execution_count": 118,
   "id": "1eced551",
   "metadata": {
    "tags": []
   },
   "outputs": [
    {
     "data": {
      "image/png": "[encoded data removed]",
      "text/plain": [
       "<Figure size 504x360 with 1 Axes>"
      ]
     },
     "metadata": {
      "needs_background": "light"
     },
     "output_type": "display_data"
    }
   ],
   "source": [
    "plot('fins', xtrain)"
   ]
  },
  {
   "cell_type": "code",
   "execution_count": 119,
   "id": "9d61e1d3",
   "metadata": {
    "tags": []
   },
   "outputs": [
    {
     "data": {
      "image/png": "[encoded data removed]",
      "text/plain": [
       "<Figure size 504x360 with 1 Axes>"
      ]
     },
     "metadata": {
      "needs_background": "light"
     },
     "output_type": "display_data"
    }
   ],
   "source": [
    "plot('tail', xtrain)"
   ]
  },
  {
   "cell_type": "code",
   "execution_count": 120,
   "id": "e9f9fd31",
   "metadata": {
    "tags": []
   },
   "outputs": [
    {
     "data": {
      "image/png": "[encoded data removed]",
      "text/plain": [
       "<Figure size 504x360 with 1 Axes>"
      ]
     },
     "metadata": {
      "needs_background": "light"
     },
     "output_type": "display_data"
    }
   ],
   "source": [
    "plot('domestic', xtrain)"
   ]
  },
  {
   "cell_type": "code",
   "execution_count": 121,
   "id": "efc5e1bd",
   "metadata": {
    "tags": []
   },
   "outputs": [
    {
     "data": {
      "image/png": "[encoded data removed]",
      "text/plain": [
       "<Figure size 504x360 with 1 Axes>"
      ]
     },
     "metadata": {
      "needs_background": "light"
     },
     "output_type": "display_data"
    }
   ],
   "source": [
    "plot('catsize', xtrain)"
   ]
  },
  {
   "cell_type": "code",
   "execution_count": 122,
   "id": "3581139f",
   "metadata": {
    "tags": []
   },
   "outputs": [
    {
     "data": {
      "image/png": "[encoded data removed]",
      "text/plain": [
       "<Figure size 504x360 with 1 Axes>"
      ]
     },
     "metadata": {
      "needs_background": "light"
     },
     "output_type": "display_data"
    }
   ],
   "source": [
    "plot('gestation', xtrain)"
   ]
  },
  {
   "cell_type": "code",
   "execution_count": 123,
   "id": "dcaad7a0",
   "metadata": {
    "scrolled": true
   },
   "outputs": [],
   "source": [
    "#  xtrain['gestation'].mean()"
   ]
  },
  {
   "cell_type": "code",
   "execution_count": 124,
   "id": "df4e41c3",
   "metadata": {
    "scrolled": true
   },
   "outputs": [],
   "source": [
    "# xtest['gestation'].mean()"
   ]
  },
  {
   "cell_type": "code",
   "execution_count": 125,
   "id": "686c06a3",
   "metadata": {
    "scrolled": true
   },
   "outputs": [],
   "source": [
    "# # xtrain['gestation'] = [1 if float(x) > 170  else 0 for x in xtrain['gestation']]\n",
    "\n",
    "# for i, d in xtrain.iterrows():\n",
    "#     if pd.to_numeric(d['gestation'])  >=  xtrain['gestation'].mean():  \n",
    "#         xtrain.at[i,'gestation'] =  1 # for longerm gestation grear than 123\n",
    "#     else:\n",
    "#         xtrain.at[i,'gestation'] = 0\n",
    "# #         \n",
    "        \n",
    "# for i, d in xtest.iterrows():\n",
    "#     if pd.to_numeric(d['gestation'])  >=  xtest['gestation'].mean():  #107\n",
    "#         xtest.at[i,'gestation'] =  1 # for longerm gestation grear than 165\n",
    "#     else:\n",
    "#         xtest.at[i,'gestation'] = 0\n",
    "        "
   ]
  },
  {
   "cell_type": "code",
   "execution_count": 126,
   "id": "5df71b32",
   "metadata": {
    "scrolled": true
   },
   "outputs": [],
   "source": [
    "# xtrain['gestation']"
   ]
  },
  {
   "cell_type": "code",
   "execution_count": 127,
   "id": "6e08cc1c",
   "metadata": {
    "scrolled": true
   },
   "outputs": [],
   "source": [
    "# xtest['gestation']"
   ]
  },
  {
   "cell_type": "code",
   "execution_count": 128,
   "id": "8d7ccd54",
   "metadata": {
    "scrolled": true
   },
   "outputs": [],
   "source": [
    "# sns.countplot(x=\"gestation\", hue=\"gestation\", data=xtrain)\n",
    "# plt.legend(bbox_to_anchor=(1.05, 1), loc=2, borderaxespad=0.)"
   ]
  },
  {
   "cell_type": "markdown",
   "id": "eac05908",
   "metadata": {},
   "source": [
    "This graph indicates most of the the animal in the training data set has a gestation period of above the  mean 123 days . "
   ]
  },
  {
   "cell_type": "markdown",
   "id": "76413c68",
   "metadata": {},
   "source": [
    "## Mining or Analytics:"
   ]
  },
  {
   "cell_type": "markdown",
   "id": "f1ee1e19",
   "metadata": {},
   "source": [
    "### Cross Tab, Rule Generation, and Error Rate"
   ]
  },
  {
   "cell_type": "code",
   "execution_count": 129,
   "id": "2a4d1c2a",
   "metadata": {
    "scrolled": true
   },
   "outputs": [],
   "source": [
    "def crossTab (data, attribute):\n",
    "    return pd.crosstab(index = data[attribute], columns = ytrain[\"mammal\"], margins=True)"
   ]
  },
  {
   "cell_type": "code",
   "execution_count": 130,
   "id": "90cc2583",
   "metadata": {
    "scrolled": true
   },
   "outputs": [],
   "source": [
    "def ruleAndErrorRate (trainData, name):\n",
    "    RULE = pd.DataFrame()\n",
    "    data  = []\n",
    "    rule = []\n",
    "    error= []\n",
    "    totalError = 0\n",
    "    for i, d in trainData.iterrows():\n",
    "        if i!= 'All':\n",
    "            if d['mammal'] > d['non-mammal']:\n",
    "                data.append(i)\n",
    "                rule.append('mammal')\n",
    "                error.append(d['non-mammal'])\n",
    "                totalError += d['non-mammal']\n",
    "            else:\n",
    "                data.append(i)\n",
    "                rule.append('non-mammal')\n",
    "                error.append(d['mammal'])\n",
    "                totalError += d['mammal']\n",
    "\n",
    "    RULE [name] = data\n",
    "    RULE ['rule'] =  rule\n",
    "    RULE ['error'] =  error\n",
    "    \n",
    "    # Error rate\n",
    "    ErrorRate = totalError / trainData.loc['All','All']\n",
    "    \n",
    "    RULE.reset_index(inplace=False)\n",
    "    RULE.set_index(name, inplace=True)\n",
    "    \n",
    "    return RULE, ErrorRate    #RULE.style.hide_index()"
   ]
  },
  {
   "cell_type": "code",
   "execution_count": 131,
   "id": "12f4de24",
   "metadata": {
    "scrolled": true
   },
   "outputs": [],
   "source": [
    "def dislayer (Data, attribute):\n",
    "    value = crossTab (Data, attribute)\n",
    "    rule, errorRate = ruleAndErrorRate (value, attribute)\n",
    "    display(value.style.set_caption(\"Cross Table\"))\n",
    "    display(rule.style.set_caption(\"Rule set for \" +attribute))\n",
    "    print(\"\\n\\n\"+ '\\033[1m' + '\\033[91m'+ \"Error Rate: {:0.3f}\".format(errorRate), '\\033[91m', '\\033[1m')"
   ]
  },
  {
   "cell_type": "markdown",
   "id": "6508cb13",
   "metadata": {},
   "source": [
    "#### Legs"
   ]
  },
  {
   "cell_type": "code",
   "execution_count": 132,
   "id": "6dbce351",
   "metadata": {
    "tags": []
   },
   "outputs": [
    {
     "data": {
      "text/html": [
       "<style  type=\"text/css\" >\n",
       "</style><table id=\"T_22ef7_\" ><caption>Cross Table</caption><thead>    <tr>        <th class=\"index_name level0\" >mammal</th>        <th class=\"col_heading level0 col0\" >mammal</th>        <th class=\"col_heading level0 col1\" >non-mammal</th>        <th class=\"col_heading level0 col2\" >All</th>    </tr>    <tr>        <th class=\"index_name level0\" >legs</th>        <th class=\"blank\" ></th>        <th class=\"blank\" ></th>        <th class=\"blank\" ></th>    </tr></thead><tbody>\n",
       "                <tr>\n",
       "                        <th id=\"T_22ef7_level0_row0\" class=\"row_heading level0 row0\" >0</th>\n",
       "                        <td id=\"T_22ef7_row0_col0\" class=\"data row0 col0\" >2</td>\n",
       "                        <td id=\"T_22ef7_row0_col1\" class=\"data row0 col1\" >24</td>\n",
       "                        <td id=\"T_22ef7_row0_col2\" class=\"data row0 col2\" >26</td>\n",
       "            </tr>\n",
       "            <tr>\n",
       "                        <th id=\"T_22ef7_level0_row1\" class=\"row_heading level0 row1\" >10</th>\n",
       "                        <td id=\"T_22ef7_row1_col0\" class=\"data row1 col0\" >0</td>\n",
       "                        <td id=\"T_22ef7_row1_col1\" class=\"data row1 col1\" >1</td>\n",
       "                        <td id=\"T_22ef7_row1_col2\" class=\"data row1 col2\" >1</td>\n",
       "            </tr>\n",
       "            <tr>\n",
       "                        <th id=\"T_22ef7_level0_row2\" class=\"row_heading level0 row2\" >12</th>\n",
       "                        <td id=\"T_22ef7_row2_col0\" class=\"data row2 col0\" >0</td>\n",
       "                        <td id=\"T_22ef7_row2_col1\" class=\"data row2 col1\" >1</td>\n",
       "                        <td id=\"T_22ef7_row2_col2\" class=\"data row2 col2\" >1</td>\n",
       "            </tr>\n",
       "            <tr>\n",
       "                        <th id=\"T_22ef7_level0_row3\" class=\"row_heading level0 row3\" >2</th>\n",
       "                        <td id=\"T_22ef7_row3_col0\" class=\"data row3 col0\" >5</td>\n",
       "                        <td id=\"T_22ef7_row3_col1\" class=\"data row3 col1\" >15</td>\n",
       "                        <td id=\"T_22ef7_row3_col2\" class=\"data row3 col2\" >20</td>\n",
       "            </tr>\n",
       "            <tr>\n",
       "                        <th id=\"T_22ef7_level0_row4\" class=\"row_heading level0 row4\" >4</th>\n",
       "                        <td id=\"T_22ef7_row4_col0\" class=\"data row4 col0\" >32</td>\n",
       "                        <td id=\"T_22ef7_row4_col1\" class=\"data row4 col1\" >11</td>\n",
       "                        <td id=\"T_22ef7_row4_col2\" class=\"data row4 col2\" >43</td>\n",
       "            </tr>\n",
       "            <tr>\n",
       "                        <th id=\"T_22ef7_level0_row5\" class=\"row_heading level0 row5\" >5</th>\n",
       "                        <td id=\"T_22ef7_row5_col0\" class=\"data row5 col0\" >0</td>\n",
       "                        <td id=\"T_22ef7_row5_col1\" class=\"data row5 col1\" >1</td>\n",
       "                        <td id=\"T_22ef7_row5_col2\" class=\"data row5 col2\" >1</td>\n",
       "            </tr>\n",
       "            <tr>\n",
       "                        <th id=\"T_22ef7_level0_row6\" class=\"row_heading level0 row6\" >6</th>\n",
       "                        <td id=\"T_22ef7_row6_col0\" class=\"data row6 col0\" >0</td>\n",
       "                        <td id=\"T_22ef7_row6_col1\" class=\"data row6 col1\" >10</td>\n",
       "                        <td id=\"T_22ef7_row6_col2\" class=\"data row6 col2\" >10</td>\n",
       "            </tr>\n",
       "            <tr>\n",
       "                        <th id=\"T_22ef7_level0_row7\" class=\"row_heading level0 row7\" >8</th>\n",
       "                        <td id=\"T_22ef7_row7_col0\" class=\"data row7 col0\" >0</td>\n",
       "                        <td id=\"T_22ef7_row7_col1\" class=\"data row7 col1\" >2</td>\n",
       "                        <td id=\"T_22ef7_row7_col2\" class=\"data row7 col2\" >2</td>\n",
       "            </tr>\n",
       "            <tr>\n",
       "                        <th id=\"T_22ef7_level0_row8\" class=\"row_heading level0 row8\" >All</th>\n",
       "                        <td id=\"T_22ef7_row8_col0\" class=\"data row8 col0\" >39</td>\n",
       "                        <td id=\"T_22ef7_row8_col1\" class=\"data row8 col1\" >65</td>\n",
       "                        <td id=\"T_22ef7_row8_col2\" class=\"data row8 col2\" >104</td>\n",
       "            </tr>\n",
       "    </tbody></table>"
      ],
      "text/plain": [
       "<pandas.io.formats.style.Styler at 0xf03d370>"
      ]
     },
     "metadata": {},
     "output_type": "display_data"
    },
    {
     "data": {
      "text/html": [
       "<style  type=\"text/css\" >\n",
       "</style><table id=\"T_3e41c_\" ><caption>Rule set for legs</caption><thead>    <tr>        <th class=\"blank level0\" ></th>        <th class=\"col_heading level0 col0\" >rule</th>        <th class=\"col_heading level0 col1\" >error</th>    </tr>    <tr>        <th class=\"index_name level0\" >legs</th>        <th class=\"blank\" ></th>        <th class=\"blank\" ></th>    </tr></thead><tbody>\n",
       "                <tr>\n",
       "                        <th id=\"T_3e41c_level0_row0\" class=\"row_heading level0 row0\" >0</th>\n",
       "                        <td id=\"T_3e41c_row0_col0\" class=\"data row0 col0\" >non-mammal</td>\n",
       "                        <td id=\"T_3e41c_row0_col1\" class=\"data row0 col1\" >2</td>\n",
       "            </tr>\n",
       "            <tr>\n",
       "                        <th id=\"T_3e41c_level0_row1\" class=\"row_heading level0 row1\" >10</th>\n",
       "                        <td id=\"T_3e41c_row1_col0\" class=\"data row1 col0\" >non-mammal</td>\n",
       "                        <td id=\"T_3e41c_row1_col1\" class=\"data row1 col1\" >0</td>\n",
       "            </tr>\n",
       "            <tr>\n",
       "                        <th id=\"T_3e41c_level0_row2\" class=\"row_heading level0 row2\" >12</th>\n",
       "                        <td id=\"T_3e41c_row2_col0\" class=\"data row2 col0\" >non-mammal</td>\n",
       "                        <td id=\"T_3e41c_row2_col1\" class=\"data row2 col1\" >0</td>\n",
       "            </tr>\n",
       "            <tr>\n",
       "                        <th id=\"T_3e41c_level0_row3\" class=\"row_heading level0 row3\" >2</th>\n",
       "                        <td id=\"T_3e41c_row3_col0\" class=\"data row3 col0\" >non-mammal</td>\n",
       "                        <td id=\"T_3e41c_row3_col1\" class=\"data row3 col1\" >5</td>\n",
       "            </tr>\n",
       "            <tr>\n",
       "                        <th id=\"T_3e41c_level0_row4\" class=\"row_heading level0 row4\" >4</th>\n",
       "                        <td id=\"T_3e41c_row4_col0\" class=\"data row4 col0\" >mammal</td>\n",
       "                        <td id=\"T_3e41c_row4_col1\" class=\"data row4 col1\" >11</td>\n",
       "            </tr>\n",
       "            <tr>\n",
       "                        <th id=\"T_3e41c_level0_row5\" class=\"row_heading level0 row5\" >5</th>\n",
       "                        <td id=\"T_3e41c_row5_col0\" class=\"data row5 col0\" >non-mammal</td>\n",
       "                        <td id=\"T_3e41c_row5_col1\" class=\"data row5 col1\" >0</td>\n",
       "            </tr>\n",
       "            <tr>\n",
       "                        <th id=\"T_3e41c_level0_row6\" class=\"row_heading level0 row6\" >6</th>\n",
       "                        <td id=\"T_3e41c_row6_col0\" class=\"data row6 col0\" >non-mammal</td>\n",
       "                        <td id=\"T_3e41c_row6_col1\" class=\"data row6 col1\" >0</td>\n",
       "            </tr>\n",
       "            <tr>\n",
       "                        <th id=\"T_3e41c_level0_row7\" class=\"row_heading level0 row7\" >8</th>\n",
       "                        <td id=\"T_3e41c_row7_col0\" class=\"data row7 col0\" >non-mammal</td>\n",
       "                        <td id=\"T_3e41c_row7_col1\" class=\"data row7 col1\" >0</td>\n",
       "            </tr>\n",
       "    </tbody></table>"
      ],
      "text/plain": [
       "<pandas.io.formats.style.Styler at 0xf03db50>"
      ]
     },
     "metadata": {},
     "output_type": "display_data"
    },
    {
     "name": "stdout",
     "output_type": "stream",
     "text": [
      "\n",
      "\n",
      "\u001b[1m\u001b[91mError Rate: 0.173 \u001b[91m \u001b[1m\n"
     ]
    }
   ],
   "source": [
    "dislayer(xtrain, 'legs')"
   ]
  },
  {
   "cell_type": "markdown",
   "id": "d10c357e",
   "metadata": {},
   "source": [
    "The rule set indicates that all animal that have a leg of 4 are mammal."
   ]
  },
  {
   "cell_type": "markdown",
   "id": "12ee02a2",
   "metadata": {},
   "source": [
    "#### Milk"
   ]
  },
  {
   "cell_type": "code",
   "execution_count": 133,
   "id": "a9563444",
   "metadata": {
    "tags": []
   },
   "outputs": [
    {
     "data": {
      "text/html": [
       "<style  type=\"text/css\" >\n",
       "</style><table id=\"T_fd0af_\" ><caption>Cross Table</caption><thead>    <tr>        <th class=\"index_name level0\" >mammal</th>        <th class=\"col_heading level0 col0\" >mammal</th>        <th class=\"col_heading level0 col1\" >non-mammal</th>        <th class=\"col_heading level0 col2\" >All</th>    </tr>    <tr>        <th class=\"index_name level0\" >milk</th>        <th class=\"blank\" ></th>        <th class=\"blank\" ></th>        <th class=\"blank\" ></th>    </tr></thead><tbody>\n",
       "                <tr>\n",
       "                        <th id=\"T_fd0af_level0_row0\" class=\"row_heading level0 row0\" >False</th>\n",
       "                        <td id=\"T_fd0af_row0_col0\" class=\"data row0 col0\" >0</td>\n",
       "                        <td id=\"T_fd0af_row0_col1\" class=\"data row0 col1\" >65</td>\n",
       "                        <td id=\"T_fd0af_row0_col2\" class=\"data row0 col2\" >65</td>\n",
       "            </tr>\n",
       "            <tr>\n",
       "                        <th id=\"T_fd0af_level0_row1\" class=\"row_heading level0 row1\" >True</th>\n",
       "                        <td id=\"T_fd0af_row1_col0\" class=\"data row1 col0\" >39</td>\n",
       "                        <td id=\"T_fd0af_row1_col1\" class=\"data row1 col1\" >0</td>\n",
       "                        <td id=\"T_fd0af_row1_col2\" class=\"data row1 col2\" >39</td>\n",
       "            </tr>\n",
       "            <tr>\n",
       "                        <th id=\"T_fd0af_level0_row2\" class=\"row_heading level0 row2\" >All</th>\n",
       "                        <td id=\"T_fd0af_row2_col0\" class=\"data row2 col0\" >39</td>\n",
       "                        <td id=\"T_fd0af_row2_col1\" class=\"data row2 col1\" >65</td>\n",
       "                        <td id=\"T_fd0af_row2_col2\" class=\"data row2 col2\" >104</td>\n",
       "            </tr>\n",
       "    </tbody></table>"
      ],
      "text/plain": [
       "<pandas.io.formats.style.Styler at 0xf044670>"
      ]
     },
     "metadata": {},
     "output_type": "display_data"
    },
    {
     "data": {
      "text/html": [
       "<style  type=\"text/css\" >\n",
       "</style><table id=\"T_e8cc2_\" ><caption>Rule set for milk</caption><thead>    <tr>        <th class=\"blank level0\" ></th>        <th class=\"col_heading level0 col0\" >rule</th>        <th class=\"col_heading level0 col1\" >error</th>    </tr>    <tr>        <th class=\"index_name level0\" >milk</th>        <th class=\"blank\" ></th>        <th class=\"blank\" ></th>    </tr></thead><tbody>\n",
       "                <tr>\n",
       "                        <th id=\"T_e8cc2_level0_row0\" class=\"row_heading level0 row0\" >False</th>\n",
       "                        <td id=\"T_e8cc2_row0_col0\" class=\"data row0 col0\" >non-mammal</td>\n",
       "                        <td id=\"T_e8cc2_row0_col1\" class=\"data row0 col1\" >0</td>\n",
       "            </tr>\n",
       "            <tr>\n",
       "                        <th id=\"T_e8cc2_level0_row1\" class=\"row_heading level0 row1\" >True</th>\n",
       "                        <td id=\"T_e8cc2_row1_col0\" class=\"data row1 col0\" >mammal</td>\n",
       "                        <td id=\"T_e8cc2_row1_col1\" class=\"data row1 col1\" >0</td>\n",
       "            </tr>\n",
       "    </tbody></table>"
      ],
      "text/plain": [
       "<pandas.io.formats.style.Styler at 0xf0444f0>"
      ]
     },
     "metadata": {},
     "output_type": "display_data"
    },
    {
     "name": "stdout",
     "output_type": "stream",
     "text": [
      "\n",
      "\n",
      "\u001b[1m\u001b[91mError Rate: 0.000 \u001b[91m \u001b[1m\n"
     ]
    }
   ],
   "source": [
    "dislayer(xtrain, 'milk')"
   ]
  },
  {
   "cell_type": "markdown",
   "id": "e0a19c75",
   "metadata": {},
   "source": [
    "- Animals that have milk are mammals or else non-mammals.\n",
    "- The rule set has <b>zero error rate</b>."
   ]
  },
  {
   "cell_type": "markdown",
   "id": "68630d3d",
   "metadata": {},
   "source": [
    "#### Hair"
   ]
  },
  {
   "cell_type": "code",
   "execution_count": 134,
   "id": "e0e9d811",
   "metadata": {
    "tags": []
   },
   "outputs": [
    {
     "data": {
      "text/html": [
       "<style  type=\"text/css\" >\n",
       "</style><table id=\"T_0ef26_\" ><caption>Cross Table</caption><thead>    <tr>        <th class=\"index_name level0\" >mammal</th>        <th class=\"col_heading level0 col0\" >mammal</th>        <th class=\"col_heading level0 col1\" >non-mammal</th>        <th class=\"col_heading level0 col2\" >All</th>    </tr>    <tr>        <th class=\"index_name level0\" >hair</th>        <th class=\"blank\" ></th>        <th class=\"blank\" ></th>        <th class=\"blank\" ></th>    </tr></thead><tbody>\n",
       "                <tr>\n",
       "                        <th id=\"T_0ef26_level0_row0\" class=\"row_heading level0 row0\" >False</th>\n",
       "                        <td id=\"T_0ef26_row0_col0\" class=\"data row0 col0\" >1</td>\n",
       "                        <td id=\"T_0ef26_row0_col1\" class=\"data row0 col1\" >62</td>\n",
       "                        <td id=\"T_0ef26_row0_col2\" class=\"data row0 col2\" >63</td>\n",
       "            </tr>\n",
       "            <tr>\n",
       "                        <th id=\"T_0ef26_level0_row1\" class=\"row_heading level0 row1\" >True</th>\n",
       "                        <td id=\"T_0ef26_row1_col0\" class=\"data row1 col0\" >38</td>\n",
       "                        <td id=\"T_0ef26_row1_col1\" class=\"data row1 col1\" >3</td>\n",
       "                        <td id=\"T_0ef26_row1_col2\" class=\"data row1 col2\" >41</td>\n",
       "            </tr>\n",
       "            <tr>\n",
       "                        <th id=\"T_0ef26_level0_row2\" class=\"row_heading level0 row2\" >All</th>\n",
       "                        <td id=\"T_0ef26_row2_col0\" class=\"data row2 col0\" >39</td>\n",
       "                        <td id=\"T_0ef26_row2_col1\" class=\"data row2 col1\" >65</td>\n",
       "                        <td id=\"T_0ef26_row2_col2\" class=\"data row2 col2\" >104</td>\n",
       "            </tr>\n",
       "    </tbody></table>"
      ],
      "text/plain": [
       "<pandas.io.formats.style.Styler at 0xf03c670>"
      ]
     },
     "metadata": {},
     "output_type": "display_data"
    },
    {
     "data": {
      "text/html": [
       "<style  type=\"text/css\" >\n",
       "</style><table id=\"T_dc390_\" ><caption>Rule set for hair</caption><thead>    <tr>        <th class=\"blank level0\" ></th>        <th class=\"col_heading level0 col0\" >rule</th>        <th class=\"col_heading level0 col1\" >error</th>    </tr>    <tr>        <th class=\"index_name level0\" >hair</th>        <th class=\"blank\" ></th>        <th class=\"blank\" ></th>    </tr></thead><tbody>\n",
       "                <tr>\n",
       "                        <th id=\"T_dc390_level0_row0\" class=\"row_heading level0 row0\" >False</th>\n",
       "                        <td id=\"T_dc390_row0_col0\" class=\"data row0 col0\" >non-mammal</td>\n",
       "                        <td id=\"T_dc390_row0_col1\" class=\"data row0 col1\" >1</td>\n",
       "            </tr>\n",
       "            <tr>\n",
       "                        <th id=\"T_dc390_level0_row1\" class=\"row_heading level0 row1\" >True</th>\n",
       "                        <td id=\"T_dc390_row1_col0\" class=\"data row1 col0\" >mammal</td>\n",
       "                        <td id=\"T_dc390_row1_col1\" class=\"data row1 col1\" >3</td>\n",
       "            </tr>\n",
       "    </tbody></table>"
      ],
      "text/plain": [
       "<pandas.io.formats.style.Styler at 0xf03ca60>"
      ]
     },
     "metadata": {},
     "output_type": "display_data"
    },
    {
     "name": "stdout",
     "output_type": "stream",
     "text": [
      "\n",
      "\n",
      "\u001b[1m\u001b[91mError Rate: 0.038 \u001b[91m \u001b[1m\n"
     ]
    }
   ],
   "source": [
    "dislayer(xtrain, 'hair')"
   ]
  },
  {
   "cell_type": "markdown",
   "id": "c71bc097",
   "metadata": {},
   "source": [
    "- The rules indicates that animals with hair are mammals or else non-mammals.\n",
    "- The rule set has a good error rate."
   ]
  },
  {
   "cell_type": "markdown",
   "id": "42aae03a",
   "metadata": {},
   "source": [
    "#### Tail"
   ]
  },
  {
   "cell_type": "code",
   "execution_count": 135,
   "id": "642ab992",
   "metadata": {
    "tags": []
   },
   "outputs": [
    {
     "data": {
      "text/html": [
       "<style  type=\"text/css\" >\n",
       "</style><table id=\"T_7e646_\" ><caption>Cross Table</caption><thead>    <tr>        <th class=\"index_name level0\" >mammal</th>        <th class=\"col_heading level0 col0\" >mammal</th>        <th class=\"col_heading level0 col1\" >non-mammal</th>        <th class=\"col_heading level0 col2\" >All</th>    </tr>    <tr>        <th class=\"index_name level0\" >tail</th>        <th class=\"blank\" ></th>        <th class=\"blank\" ></th>        <th class=\"blank\" ></th>    </tr></thead><tbody>\n",
       "                <tr>\n",
       "                        <th id=\"T_7e646_level0_row0\" class=\"row_heading level0 row0\" >False</th>\n",
       "                        <td id=\"T_7e646_row0_col0\" class=\"data row0 col0\" >8</td>\n",
       "                        <td id=\"T_7e646_row0_col1\" class=\"data row0 col1\" >23</td>\n",
       "                        <td id=\"T_7e646_row0_col2\" class=\"data row0 col2\" >31</td>\n",
       "            </tr>\n",
       "            <tr>\n",
       "                        <th id=\"T_7e646_level0_row1\" class=\"row_heading level0 row1\" >True</th>\n",
       "                        <td id=\"T_7e646_row1_col0\" class=\"data row1 col0\" >31</td>\n",
       "                        <td id=\"T_7e646_row1_col1\" class=\"data row1 col1\" >42</td>\n",
       "                        <td id=\"T_7e646_row1_col2\" class=\"data row1 col2\" >73</td>\n",
       "            </tr>\n",
       "            <tr>\n",
       "                        <th id=\"T_7e646_level0_row2\" class=\"row_heading level0 row2\" >All</th>\n",
       "                        <td id=\"T_7e646_row2_col0\" class=\"data row2 col0\" >39</td>\n",
       "                        <td id=\"T_7e646_row2_col1\" class=\"data row2 col1\" >65</td>\n",
       "                        <td id=\"T_7e646_row2_col2\" class=\"data row2 col2\" >104</td>\n",
       "            </tr>\n",
       "    </tbody></table>"
      ],
      "text/plain": [
       "<pandas.io.formats.style.Styler at 0xf03d550>"
      ]
     },
     "metadata": {},
     "output_type": "display_data"
    },
    {
     "data": {
      "text/html": [
       "<style  type=\"text/css\" >\n",
       "</style><table id=\"T_a0438_\" ><caption>Rule set for tail</caption><thead>    <tr>        <th class=\"blank level0\" ></th>        <th class=\"col_heading level0 col0\" >rule</th>        <th class=\"col_heading level0 col1\" >error</th>    </tr>    <tr>        <th class=\"index_name level0\" >tail</th>        <th class=\"blank\" ></th>        <th class=\"blank\" ></th>    </tr></thead><tbody>\n",
       "                <tr>\n",
       "                        <th id=\"T_a0438_level0_row0\" class=\"row_heading level0 row0\" >False</th>\n",
       "                        <td id=\"T_a0438_row0_col0\" class=\"data row0 col0\" >non-mammal</td>\n",
       "                        <td id=\"T_a0438_row0_col1\" class=\"data row0 col1\" >8</td>\n",
       "            </tr>\n",
       "            <tr>\n",
       "                        <th id=\"T_a0438_level0_row1\" class=\"row_heading level0 row1\" >True</th>\n",
       "                        <td id=\"T_a0438_row1_col0\" class=\"data row1 col0\" >non-mammal</td>\n",
       "                        <td id=\"T_a0438_row1_col1\" class=\"data row1 col1\" >31</td>\n",
       "            </tr>\n",
       "    </tbody></table>"
      ],
      "text/plain": [
       "<pandas.io.formats.style.Styler at 0xf03d4c0>"
      ]
     },
     "metadata": {},
     "output_type": "display_data"
    },
    {
     "name": "stdout",
     "output_type": "stream",
     "text": [
      "\n",
      "\n",
      "\u001b[1m\u001b[91mError Rate: 0.375 \u001b[91m \u001b[1m\n"
     ]
    }
   ],
   "source": [
    "dislayer(xtrain, 'tail')"
   ]
  },
  {
   "cell_type": "markdown",
   "id": "849c0988",
   "metadata": {},
   "source": [
    "- Most animals with tails or not are non-mammals.\n",
    "- In addition to its high error rate, it won't be a good candidate for prediction since it does not capture mammal animals."
   ]
  },
  {
   "cell_type": "markdown",
   "id": "97154d87",
   "metadata": {},
   "source": [
    "#### Eggs"
   ]
  },
  {
   "cell_type": "code",
   "execution_count": 136,
   "id": "19ae9967",
   "metadata": {
    "tags": []
   },
   "outputs": [
    {
     "data": {
      "text/html": [
       "<style  type=\"text/css\" >\n",
       "</style><table id=\"T_9a5bc_\" ><caption>Cross Table</caption><thead>    <tr>        <th class=\"index_name level0\" >mammal</th>        <th class=\"col_heading level0 col0\" >mammal</th>        <th class=\"col_heading level0 col1\" >non-mammal</th>        <th class=\"col_heading level0 col2\" >All</th>    </tr>    <tr>        <th class=\"index_name level0\" >eggs</th>        <th class=\"blank\" ></th>        <th class=\"blank\" ></th>        <th class=\"blank\" ></th>    </tr></thead><tbody>\n",
       "                <tr>\n",
       "                        <th id=\"T_9a5bc_level0_row0\" class=\"row_heading level0 row0\" >False</th>\n",
       "                        <td id=\"T_9a5bc_row0_col0\" class=\"data row0 col0\" >38</td>\n",
       "                        <td id=\"T_9a5bc_row0_col1\" class=\"data row0 col1\" >5</td>\n",
       "                        <td id=\"T_9a5bc_row0_col2\" class=\"data row0 col2\" >43</td>\n",
       "            </tr>\n",
       "            <tr>\n",
       "                        <th id=\"T_9a5bc_level0_row1\" class=\"row_heading level0 row1\" >True</th>\n",
       "                        <td id=\"T_9a5bc_row1_col0\" class=\"data row1 col0\" >1</td>\n",
       "                        <td id=\"T_9a5bc_row1_col1\" class=\"data row1 col1\" >60</td>\n",
       "                        <td id=\"T_9a5bc_row1_col2\" class=\"data row1 col2\" >61</td>\n",
       "            </tr>\n",
       "            <tr>\n",
       "                        <th id=\"T_9a5bc_level0_row2\" class=\"row_heading level0 row2\" >All</th>\n",
       "                        <td id=\"T_9a5bc_row2_col0\" class=\"data row2 col0\" >39</td>\n",
       "                        <td id=\"T_9a5bc_row2_col1\" class=\"data row2 col1\" >65</td>\n",
       "                        <td id=\"T_9a5bc_row2_col2\" class=\"data row2 col2\" >104</td>\n",
       "            </tr>\n",
       "    </tbody></table>"
      ],
      "text/plain": [
       "<pandas.io.formats.style.Styler at 0xf03ceb0>"
      ]
     },
     "metadata": {},
     "output_type": "display_data"
    },
    {
     "data": {
      "text/html": [
       "<style  type=\"text/css\" >\n",
       "</style><table id=\"T_bbb0b_\" ><caption>Rule set for eggs</caption><thead>    <tr>        <th class=\"blank level0\" ></th>        <th class=\"col_heading level0 col0\" >rule</th>        <th class=\"col_heading level0 col1\" >error</th>    </tr>    <tr>        <th class=\"index_name level0\" >eggs</th>        <th class=\"blank\" ></th>        <th class=\"blank\" ></th>    </tr></thead><tbody>\n",
       "                <tr>\n",
       "                        <th id=\"T_bbb0b_level0_row0\" class=\"row_heading level0 row0\" >False</th>\n",
       "                        <td id=\"T_bbb0b_row0_col0\" class=\"data row0 col0\" >mammal</td>\n",
       "                        <td id=\"T_bbb0b_row0_col1\" class=\"data row0 col1\" >5</td>\n",
       "            </tr>\n",
       "            <tr>\n",
       "                        <th id=\"T_bbb0b_level0_row1\" class=\"row_heading level0 row1\" >True</th>\n",
       "                        <td id=\"T_bbb0b_row1_col0\" class=\"data row1 col0\" >non-mammal</td>\n",
       "                        <td id=\"T_bbb0b_row1_col1\" class=\"data row1 col1\" >1</td>\n",
       "            </tr>\n",
       "    </tbody></table>"
      ],
      "text/plain": [
       "<pandas.io.formats.style.Styler at 0xf03c580>"
      ]
     },
     "metadata": {},
     "output_type": "display_data"
    },
    {
     "name": "stdout",
     "output_type": "stream",
     "text": [
      "\n",
      "\n",
      "\u001b[1m\u001b[91mError Rate: 0.058 \u001b[91m \u001b[1m\n"
     ]
    }
   ],
   "source": [
    "dislayer(xtrain, 'eggs')"
   ]
  },
  {
   "cell_type": "markdown",
   "id": "13fe9206",
   "metadata": {},
   "source": [
    "- Animals which have eggs are non-mammals, and else mammals.\n",
    "- It have acceptable error rate, as well."
   ]
  },
  {
   "cell_type": "markdown",
   "id": "12073861",
   "metadata": {},
   "source": [
    "#### Backbone"
   ]
  },
  {
   "cell_type": "code",
   "execution_count": 137,
   "id": "d3edec55",
   "metadata": {
    "tags": []
   },
   "outputs": [
    {
     "data": {
      "text/html": [
       "<style  type=\"text/css\" >\n",
       "</style><table id=\"T_64fde_\" ><caption>Cross Table</caption><thead>    <tr>        <th class=\"index_name level0\" >mammal</th>        <th class=\"col_heading level0 col0\" >mammal</th>        <th class=\"col_heading level0 col1\" >non-mammal</th>        <th class=\"col_heading level0 col2\" >All</th>    </tr>    <tr>        <th class=\"index_name level0\" >backbone</th>        <th class=\"blank\" ></th>        <th class=\"blank\" ></th>        <th class=\"blank\" ></th>    </tr></thead><tbody>\n",
       "                <tr>\n",
       "                        <th id=\"T_64fde_level0_row0\" class=\"row_heading level0 row0\" >False</th>\n",
       "                        <td id=\"T_64fde_row0_col0\" class=\"data row0 col0\" >0</td>\n",
       "                        <td id=\"T_64fde_row0_col1\" class=\"data row0 col1\" >23</td>\n",
       "                        <td id=\"T_64fde_row0_col2\" class=\"data row0 col2\" >23</td>\n",
       "            </tr>\n",
       "            <tr>\n",
       "                        <th id=\"T_64fde_level0_row1\" class=\"row_heading level0 row1\" >True</th>\n",
       "                        <td id=\"T_64fde_row1_col0\" class=\"data row1 col0\" >39</td>\n",
       "                        <td id=\"T_64fde_row1_col1\" class=\"data row1 col1\" >42</td>\n",
       "                        <td id=\"T_64fde_row1_col2\" class=\"data row1 col2\" >81</td>\n",
       "            </tr>\n",
       "            <tr>\n",
       "                        <th id=\"T_64fde_level0_row2\" class=\"row_heading level0 row2\" >All</th>\n",
       "                        <td id=\"T_64fde_row2_col0\" class=\"data row2 col0\" >39</td>\n",
       "                        <td id=\"T_64fde_row2_col1\" class=\"data row2 col1\" >65</td>\n",
       "                        <td id=\"T_64fde_row2_col2\" class=\"data row2 col2\" >104</td>\n",
       "            </tr>\n",
       "    </tbody></table>"
      ],
      "text/plain": [
       "<pandas.io.formats.style.Styler at 0xf044670>"
      ]
     },
     "metadata": {},
     "output_type": "display_data"
    },
    {
     "data": {
      "text/html": [
       "<style  type=\"text/css\" >\n",
       "</style><table id=\"T_18b1b_\" ><caption>Rule set for backbone</caption><thead>    <tr>        <th class=\"blank level0\" ></th>        <th class=\"col_heading level0 col0\" >rule</th>        <th class=\"col_heading level0 col1\" >error</th>    </tr>    <tr>        <th class=\"index_name level0\" >backbone</th>        <th class=\"blank\" ></th>        <th class=\"blank\" ></th>    </tr></thead><tbody>\n",
       "                <tr>\n",
       "                        <th id=\"T_18b1b_level0_row0\" class=\"row_heading level0 row0\" >False</th>\n",
       "                        <td id=\"T_18b1b_row0_col0\" class=\"data row0 col0\" >non-mammal</td>\n",
       "                        <td id=\"T_18b1b_row0_col1\" class=\"data row0 col1\" >0</td>\n",
       "            </tr>\n",
       "            <tr>\n",
       "                        <th id=\"T_18b1b_level0_row1\" class=\"row_heading level0 row1\" >True</th>\n",
       "                        <td id=\"T_18b1b_row1_col0\" class=\"data row1 col0\" >non-mammal</td>\n",
       "                        <td id=\"T_18b1b_row1_col1\" class=\"data row1 col1\" >39</td>\n",
       "            </tr>\n",
       "    </tbody></table>"
      ],
      "text/plain": [
       "<pandas.io.formats.style.Styler at 0xf044160>"
      ]
     },
     "metadata": {},
     "output_type": "display_data"
    },
    {
     "name": "stdout",
     "output_type": "stream",
     "text": [
      "\n",
      "\n",
      "\u001b[1m\u001b[91mError Rate: 0.375 \u001b[91m \u001b[1m\n"
     ]
    }
   ],
   "source": [
    "dislayer(xtrain, 'backbone')"
   ]
  },
  {
   "cell_type": "markdown",
   "id": "599f8236",
   "metadata": {},
   "source": [
    " - It is not a good rule set because it only predict non-mammals and has high error rate."
   ]
  },
  {
   "cell_type": "markdown",
   "id": "8da4e6db",
   "metadata": {},
   "source": [
    "#### Feathers"
   ]
  },
  {
   "cell_type": "code",
   "execution_count": 138,
   "id": "728f3bba",
   "metadata": {
    "tags": []
   },
   "outputs": [
    {
     "data": {
      "text/html": [
       "<style  type=\"text/css\" >\n",
       "</style><table id=\"T_a5ad5_\" ><caption>Cross Table</caption><thead>    <tr>        <th class=\"index_name level0\" >mammal</th>        <th class=\"col_heading level0 col0\" >mammal</th>        <th class=\"col_heading level0 col1\" >non-mammal</th>        <th class=\"col_heading level0 col2\" >All</th>    </tr>    <tr>        <th class=\"index_name level0\" >feathers</th>        <th class=\"blank\" ></th>        <th class=\"blank\" ></th>        <th class=\"blank\" ></th>    </tr></thead><tbody>\n",
       "                <tr>\n",
       "                        <th id=\"T_a5ad5_level0_row0\" class=\"row_heading level0 row0\" >False</th>\n",
       "                        <td id=\"T_a5ad5_row0_col0\" class=\"data row0 col0\" >39</td>\n",
       "                        <td id=\"T_a5ad5_row0_col1\" class=\"data row0 col1\" >50</td>\n",
       "                        <td id=\"T_a5ad5_row0_col2\" class=\"data row0 col2\" >89</td>\n",
       "            </tr>\n",
       "            <tr>\n",
       "                        <th id=\"T_a5ad5_level0_row1\" class=\"row_heading level0 row1\" >True</th>\n",
       "                        <td id=\"T_a5ad5_row1_col0\" class=\"data row1 col0\" >0</td>\n",
       "                        <td id=\"T_a5ad5_row1_col1\" class=\"data row1 col1\" >15</td>\n",
       "                        <td id=\"T_a5ad5_row1_col2\" class=\"data row1 col2\" >15</td>\n",
       "            </tr>\n",
       "            <tr>\n",
       "                        <th id=\"T_a5ad5_level0_row2\" class=\"row_heading level0 row2\" >All</th>\n",
       "                        <td id=\"T_a5ad5_row2_col0\" class=\"data row2 col0\" >39</td>\n",
       "                        <td id=\"T_a5ad5_row2_col1\" class=\"data row2 col1\" >65</td>\n",
       "                        <td id=\"T_a5ad5_row2_col2\" class=\"data row2 col2\" >104</td>\n",
       "            </tr>\n",
       "    </tbody></table>"
      ],
      "text/plain": [
       "<pandas.io.formats.style.Styler at 0xf258370>"
      ]
     },
     "metadata": {},
     "output_type": "display_data"
    },
    {
     "data": {
      "text/html": [
       "<style  type=\"text/css\" >\n",
       "</style><table id=\"T_7f91d_\" ><caption>Rule set for feathers</caption><thead>    <tr>        <th class=\"blank level0\" ></th>        <th class=\"col_heading level0 col0\" >rule</th>        <th class=\"col_heading level0 col1\" >error</th>    </tr>    <tr>        <th class=\"index_name level0\" >feathers</th>        <th class=\"blank\" ></th>        <th class=\"blank\" ></th>    </tr></thead><tbody>\n",
       "                <tr>\n",
       "                        <th id=\"T_7f91d_level0_row0\" class=\"row_heading level0 row0\" >False</th>\n",
       "                        <td id=\"T_7f91d_row0_col0\" class=\"data row0 col0\" >non-mammal</td>\n",
       "                        <td id=\"T_7f91d_row0_col1\" class=\"data row0 col1\" >39</td>\n",
       "            </tr>\n",
       "            <tr>\n",
       "                        <th id=\"T_7f91d_level0_row1\" class=\"row_heading level0 row1\" >True</th>\n",
       "                        <td id=\"T_7f91d_row1_col0\" class=\"data row1 col0\" >non-mammal</td>\n",
       "                        <td id=\"T_7f91d_row1_col1\" class=\"data row1 col1\" >0</td>\n",
       "            </tr>\n",
       "    </tbody></table>"
      ],
      "text/plain": [
       "<pandas.io.formats.style.Styler at 0xf1e78e0>"
      ]
     },
     "metadata": {},
     "output_type": "display_data"
    },
    {
     "name": "stdout",
     "output_type": "stream",
     "text": [
      "\n",
      "\n",
      "\u001b[1m\u001b[91mError Rate: 0.375 \u001b[91m \u001b[1m\n"
     ]
    }
   ],
   "source": [
    "dislayer(xtrain, 'feathers')"
   ]
  },
  {
   "cell_type": "markdown",
   "id": "3cbf7610",
   "metadata": {},
   "source": [
    "- Similar to backbone, this attribute have high error rate and it does not capture mammal examples."
   ]
  },
  {
   "cell_type": "markdown",
   "id": "8021a39d",
   "metadata": {},
   "source": [
    "#### Predator"
   ]
  },
  {
   "cell_type": "code",
   "execution_count": 139,
   "id": "8accb1fc",
   "metadata": {
    "tags": []
   },
   "outputs": [
    {
     "data": {
      "text/html": [
       "<style  type=\"text/css\" >\n",
       "</style><table id=\"T_82660_\" ><caption>Cross Table</caption><thead>    <tr>        <th class=\"index_name level0\" >mammal</th>        <th class=\"col_heading level0 col0\" >mammal</th>        <th class=\"col_heading level0 col1\" >non-mammal</th>        <th class=\"col_heading level0 col2\" >All</th>    </tr>    <tr>        <th class=\"index_name level0\" >predator</th>        <th class=\"blank\" ></th>        <th class=\"blank\" ></th>        <th class=\"blank\" ></th>    </tr></thead><tbody>\n",
       "                <tr>\n",
       "                        <th id=\"T_82660_level0_row0\" class=\"row_heading level0 row0\" >False</th>\n",
       "                        <td id=\"T_82660_row0_col0\" class=\"data row0 col0\" >17</td>\n",
       "                        <td id=\"T_82660_row0_col1\" class=\"data row0 col1\" >28</td>\n",
       "                        <td id=\"T_82660_row0_col2\" class=\"data row0 col2\" >45</td>\n",
       "            </tr>\n",
       "            <tr>\n",
       "                        <th id=\"T_82660_level0_row1\" class=\"row_heading level0 row1\" >True</th>\n",
       "                        <td id=\"T_82660_row1_col0\" class=\"data row1 col0\" >22</td>\n",
       "                        <td id=\"T_82660_row1_col1\" class=\"data row1 col1\" >37</td>\n",
       "                        <td id=\"T_82660_row1_col2\" class=\"data row1 col2\" >59</td>\n",
       "            </tr>\n",
       "            <tr>\n",
       "                        <th id=\"T_82660_level0_row2\" class=\"row_heading level0 row2\" >All</th>\n",
       "                        <td id=\"T_82660_row2_col0\" class=\"data row2 col0\" >39</td>\n",
       "                        <td id=\"T_82660_row2_col1\" class=\"data row2 col1\" >65</td>\n",
       "                        <td id=\"T_82660_row2_col2\" class=\"data row2 col2\" >104</td>\n",
       "            </tr>\n",
       "    </tbody></table>"
      ],
      "text/plain": [
       "<pandas.io.formats.style.Styler at 0x1c7de760>"
      ]
     },
     "metadata": {},
     "output_type": "display_data"
    },
    {
     "data": {
      "text/html": [
       "<style  type=\"text/css\" >\n",
       "</style><table id=\"T_9c8ec_\" ><caption>Rule set for predator</caption><thead>    <tr>        <th class=\"blank level0\" ></th>        <th class=\"col_heading level0 col0\" >rule</th>        <th class=\"col_heading level0 col1\" >error</th>    </tr>    <tr>        <th class=\"index_name level0\" >predator</th>        <th class=\"blank\" ></th>        <th class=\"blank\" ></th>    </tr></thead><tbody>\n",
       "                <tr>\n",
       "                        <th id=\"T_9c8ec_level0_row0\" class=\"row_heading level0 row0\" >False</th>\n",
       "                        <td id=\"T_9c8ec_row0_col0\" class=\"data row0 col0\" >non-mammal</td>\n",
       "                        <td id=\"T_9c8ec_row0_col1\" class=\"data row0 col1\" >17</td>\n",
       "            </tr>\n",
       "            <tr>\n",
       "                        <th id=\"T_9c8ec_level0_row1\" class=\"row_heading level0 row1\" >True</th>\n",
       "                        <td id=\"T_9c8ec_row1_col0\" class=\"data row1 col0\" >non-mammal</td>\n",
       "                        <td id=\"T_9c8ec_row1_col1\" class=\"data row1 col1\" >22</td>\n",
       "            </tr>\n",
       "    </tbody></table>"
      ],
      "text/plain": [
       "<pandas.io.formats.style.Styler at 0x1c714490>"
      ]
     },
     "metadata": {},
     "output_type": "display_data"
    },
    {
     "name": "stdout",
     "output_type": "stream",
     "text": [
      "\n",
      "\n",
      "\u001b[1m\u001b[91mError Rate: 0.375 \u001b[91m \u001b[1m\n"
     ]
    }
   ],
   "source": [
    "dislayer(xtrain, 'predator')"
   ]
  },
  {
   "cell_type": "markdown",
   "id": "e8159925",
   "metadata": {},
   "source": [
    "- This rule set indicates that whether an animal is true or false, most of the animals will be predicted as non-mammals."
   ]
  },
  {
   "cell_type": "markdown",
   "id": "dad5980f",
   "metadata": {},
   "source": [
    "#### Aquatic"
   ]
  },
  {
   "cell_type": "code",
   "execution_count": 140,
   "id": "b5a64c3f",
   "metadata": {
    "tags": []
   },
   "outputs": [
    {
     "data": {
      "text/html": [
       "<style  type=\"text/css\" >\n",
       "</style><table id=\"T_8042f_\" ><caption>Cross Table</caption><thead>    <tr>        <th class=\"index_name level0\" >mammal</th>        <th class=\"col_heading level0 col0\" >mammal</th>        <th class=\"col_heading level0 col1\" >non-mammal</th>        <th class=\"col_heading level0 col2\" >All</th>    </tr>    <tr>        <th class=\"index_name level0\" >aquatic</th>        <th class=\"blank\" ></th>        <th class=\"blank\" ></th>        <th class=\"blank\" ></th>    </tr></thead><tbody>\n",
       "                <tr>\n",
       "                        <th id=\"T_8042f_level0_row0\" class=\"row_heading level0 row0\" >False</th>\n",
       "                        <td id=\"T_8042f_row0_col0\" class=\"data row0 col0\" >34</td>\n",
       "                        <td id=\"T_8042f_row0_col1\" class=\"data row0 col1\" >32</td>\n",
       "                        <td id=\"T_8042f_row0_col2\" class=\"data row0 col2\" >66</td>\n",
       "            </tr>\n",
       "            <tr>\n",
       "                        <th id=\"T_8042f_level0_row1\" class=\"row_heading level0 row1\" >True</th>\n",
       "                        <td id=\"T_8042f_row1_col0\" class=\"data row1 col0\" >5</td>\n",
       "                        <td id=\"T_8042f_row1_col1\" class=\"data row1 col1\" >33</td>\n",
       "                        <td id=\"T_8042f_row1_col2\" class=\"data row1 col2\" >38</td>\n",
       "            </tr>\n",
       "            <tr>\n",
       "                        <th id=\"T_8042f_level0_row2\" class=\"row_heading level0 row2\" >All</th>\n",
       "                        <td id=\"T_8042f_row2_col0\" class=\"data row2 col0\" >39</td>\n",
       "                        <td id=\"T_8042f_row2_col1\" class=\"data row2 col1\" >65</td>\n",
       "                        <td id=\"T_8042f_row2_col2\" class=\"data row2 col2\" >104</td>\n",
       "            </tr>\n",
       "    </tbody></table>"
      ],
      "text/plain": [
       "<pandas.io.formats.style.Styler at 0xf220400>"
      ]
     },
     "metadata": {},
     "output_type": "display_data"
    },
    {
     "data": {
      "text/html": [
       "<style  type=\"text/css\" >\n",
       "</style><table id=\"T_4943c_\" ><caption>Rule set for aquatic</caption><thead>    <tr>        <th class=\"blank level0\" ></th>        <th class=\"col_heading level0 col0\" >rule</th>        <th class=\"col_heading level0 col1\" >error</th>    </tr>    <tr>        <th class=\"index_name level0\" >aquatic</th>        <th class=\"blank\" ></th>        <th class=\"blank\" ></th>    </tr></thead><tbody>\n",
       "                <tr>\n",
       "                        <th id=\"T_4943c_level0_row0\" class=\"row_heading level0 row0\" >False</th>\n",
       "                        <td id=\"T_4943c_row0_col0\" class=\"data row0 col0\" >mammal</td>\n",
       "                        <td id=\"T_4943c_row0_col1\" class=\"data row0 col1\" >32</td>\n",
       "            </tr>\n",
       "            <tr>\n",
       "                        <th id=\"T_4943c_level0_row1\" class=\"row_heading level0 row1\" >True</th>\n",
       "                        <td id=\"T_4943c_row1_col0\" class=\"data row1 col0\" >non-mammal</td>\n",
       "                        <td id=\"T_4943c_row1_col1\" class=\"data row1 col1\" >5</td>\n",
       "            </tr>\n",
       "    </tbody></table>"
      ],
      "text/plain": [
       "<pandas.io.formats.style.Styler at 0x6a23160>"
      ]
     },
     "metadata": {},
     "output_type": "display_data"
    },
    {
     "name": "stdout",
     "output_type": "stream",
     "text": [
      "\n",
      "\n",
      "\u001b[1m\u001b[91mError Rate: 0.356 \u001b[91m \u001b[1m\n"
     ]
    }
   ],
   "source": [
    "dislayer(xtrain, 'aquatic')"
   ]
  },
  {
   "cell_type": "markdown",
   "id": "e51bc92e",
   "metadata": {},
   "source": [
    " -  The rule set captures both categories though it has high error rate."
   ]
  },
  {
   "cell_type": "markdown",
   "id": "da48edb4",
   "metadata": {},
   "source": [
    "#### catsize"
   ]
  },
  {
   "cell_type": "code",
   "execution_count": 141,
   "id": "fea4b254",
   "metadata": {
    "tags": []
   },
   "outputs": [
    {
     "data": {
      "text/html": [
       "<style  type=\"text/css\" >\n",
       "</style><table id=\"T_baa03_\" ><caption>Cross Table</caption><thead>    <tr>        <th class=\"index_name level0\" >mammal</th>        <th class=\"col_heading level0 col0\" >mammal</th>        <th class=\"col_heading level0 col1\" >non-mammal</th>        <th class=\"col_heading level0 col2\" >All</th>    </tr>    <tr>        <th class=\"index_name level0\" >catsize</th>        <th class=\"blank\" ></th>        <th class=\"blank\" ></th>        <th class=\"blank\" ></th>    </tr></thead><tbody>\n",
       "                <tr>\n",
       "                        <th id=\"T_baa03_level0_row0\" class=\"row_heading level0 row0\" >False</th>\n",
       "                        <td id=\"T_baa03_row0_col0\" class=\"data row0 col0\" >13</td>\n",
       "                        <td id=\"T_baa03_row0_col1\" class=\"data row0 col1\" >56</td>\n",
       "                        <td id=\"T_baa03_row0_col2\" class=\"data row0 col2\" >69</td>\n",
       "            </tr>\n",
       "            <tr>\n",
       "                        <th id=\"T_baa03_level0_row1\" class=\"row_heading level0 row1\" >True</th>\n",
       "                        <td id=\"T_baa03_row1_col0\" class=\"data row1 col0\" >26</td>\n",
       "                        <td id=\"T_baa03_row1_col1\" class=\"data row1 col1\" >9</td>\n",
       "                        <td id=\"T_baa03_row1_col2\" class=\"data row1 col2\" >35</td>\n",
       "            </tr>\n",
       "            <tr>\n",
       "                        <th id=\"T_baa03_level0_row2\" class=\"row_heading level0 row2\" >All</th>\n",
       "                        <td id=\"T_baa03_row2_col0\" class=\"data row2 col0\" >39</td>\n",
       "                        <td id=\"T_baa03_row2_col1\" class=\"data row2 col1\" >65</td>\n",
       "                        <td id=\"T_baa03_row2_col2\" class=\"data row2 col2\" >104</td>\n",
       "            </tr>\n",
       "    </tbody></table>"
      ],
      "text/plain": [
       "<pandas.io.formats.style.Styler at 0xef9a760>"
      ]
     },
     "metadata": {},
     "output_type": "display_data"
    },
    {
     "data": {
      "text/html": [
       "<style  type=\"text/css\" >\n",
       "</style><table id=\"T_df818_\" ><caption>Rule set for catsize</caption><thead>    <tr>        <th class=\"blank level0\" ></th>        <th class=\"col_heading level0 col0\" >rule</th>        <th class=\"col_heading level0 col1\" >error</th>    </tr>    <tr>        <th class=\"index_name level0\" >catsize</th>        <th class=\"blank\" ></th>        <th class=\"blank\" ></th>    </tr></thead><tbody>\n",
       "                <tr>\n",
       "                        <th id=\"T_df818_level0_row0\" class=\"row_heading level0 row0\" >False</th>\n",
       "                        <td id=\"T_df818_row0_col0\" class=\"data row0 col0\" >non-mammal</td>\n",
       "                        <td id=\"T_df818_row0_col1\" class=\"data row0 col1\" >13</td>\n",
       "            </tr>\n",
       "            <tr>\n",
       "                        <th id=\"T_df818_level0_row1\" class=\"row_heading level0 row1\" >True</th>\n",
       "                        <td id=\"T_df818_row1_col0\" class=\"data row1 col0\" >mammal</td>\n",
       "                        <td id=\"T_df818_row1_col1\" class=\"data row1 col1\" >9</td>\n",
       "            </tr>\n",
       "    </tbody></table>"
      ],
      "text/plain": [
       "<pandas.io.formats.style.Styler at 0xf0abbe0>"
      ]
     },
     "metadata": {},
     "output_type": "display_data"
    },
    {
     "name": "stdout",
     "output_type": "stream",
     "text": [
      "\n",
      "\n",
      "\u001b[1m\u001b[91mError Rate: 0.212 \u001b[91m \u001b[1m\n"
     ]
    }
   ],
   "source": [
    "dislayer(xtrain, 'catsize')"
   ]
  },
  {
   "cell_type": "markdown",
   "id": "89d0bdb7",
   "metadata": {},
   "source": [
    " -  The rule set captures both categories with fair error rate."
   ]
  },
  {
   "cell_type": "markdown",
   "id": "a17a6bbb",
   "metadata": {},
   "source": [
    "#### fins"
   ]
  },
  {
   "cell_type": "code",
   "execution_count": 142,
   "id": "c1a17a03",
   "metadata": {
    "tags": []
   },
   "outputs": [
    {
     "data": {
      "text/html": [
       "<style  type=\"text/css\" >\n",
       "</style><table id=\"T_1fa64_\" ><caption>Cross Table</caption><thead>    <tr>        <th class=\"index_name level0\" >mammal</th>        <th class=\"col_heading level0 col0\" >mammal</th>        <th class=\"col_heading level0 col1\" >non-mammal</th>        <th class=\"col_heading level0 col2\" >All</th>    </tr>    <tr>        <th class=\"index_name level0\" >fins</th>        <th class=\"blank\" ></th>        <th class=\"blank\" ></th>        <th class=\"blank\" ></th>    </tr></thead><tbody>\n",
       "                <tr>\n",
       "                        <th id=\"T_1fa64_level0_row0\" class=\"row_heading level0 row0\" >False</th>\n",
       "                        <td id=\"T_1fa64_row0_col0\" class=\"data row0 col0\" >36</td>\n",
       "                        <td id=\"T_1fa64_row0_col1\" class=\"data row0 col1\" >52</td>\n",
       "                        <td id=\"T_1fa64_row0_col2\" class=\"data row0 col2\" >88</td>\n",
       "            </tr>\n",
       "            <tr>\n",
       "                        <th id=\"T_1fa64_level0_row1\" class=\"row_heading level0 row1\" >True</th>\n",
       "                        <td id=\"T_1fa64_row1_col0\" class=\"data row1 col0\" >3</td>\n",
       "                        <td id=\"T_1fa64_row1_col1\" class=\"data row1 col1\" >13</td>\n",
       "                        <td id=\"T_1fa64_row1_col2\" class=\"data row1 col2\" >16</td>\n",
       "            </tr>\n",
       "            <tr>\n",
       "                        <th id=\"T_1fa64_level0_row2\" class=\"row_heading level0 row2\" >All</th>\n",
       "                        <td id=\"T_1fa64_row2_col0\" class=\"data row2 col0\" >39</td>\n",
       "                        <td id=\"T_1fa64_row2_col1\" class=\"data row2 col1\" >65</td>\n",
       "                        <td id=\"T_1fa64_row2_col2\" class=\"data row2 col2\" >104</td>\n",
       "            </tr>\n",
       "    </tbody></table>"
      ],
      "text/plain": [
       "<pandas.io.formats.style.Styler at 0xf14a280>"
      ]
     },
     "metadata": {},
     "output_type": "display_data"
    },
    {
     "data": {
      "text/html": [
       "<style  type=\"text/css\" >\n",
       "</style><table id=\"T_3dc6a_\" ><caption>Rule set for fins</caption><thead>    <tr>        <th class=\"blank level0\" ></th>        <th class=\"col_heading level0 col0\" >rule</th>        <th class=\"col_heading level0 col1\" >error</th>    </tr>    <tr>        <th class=\"index_name level0\" >fins</th>        <th class=\"blank\" ></th>        <th class=\"blank\" ></th>    </tr></thead><tbody>\n",
       "                <tr>\n",
       "                        <th id=\"T_3dc6a_level0_row0\" class=\"row_heading level0 row0\" >False</th>\n",
       "                        <td id=\"T_3dc6a_row0_col0\" class=\"data row0 col0\" >non-mammal</td>\n",
       "                        <td id=\"T_3dc6a_row0_col1\" class=\"data row0 col1\" >36</td>\n",
       "            </tr>\n",
       "            <tr>\n",
       "                        <th id=\"T_3dc6a_level0_row1\" class=\"row_heading level0 row1\" >True</th>\n",
       "                        <td id=\"T_3dc6a_row1_col0\" class=\"data row1 col0\" >non-mammal</td>\n",
       "                        <td id=\"T_3dc6a_row1_col1\" class=\"data row1 col1\" >3</td>\n",
       "            </tr>\n",
       "    </tbody></table>"
      ],
      "text/plain": [
       "<pandas.io.formats.style.Styler at 0xf202f70>"
      ]
     },
     "metadata": {},
     "output_type": "display_data"
    },
    {
     "name": "stdout",
     "output_type": "stream",
     "text": [
      "\n",
      "\n",
      "\u001b[1m\u001b[91mError Rate: 0.375 \u001b[91m \u001b[1m\n"
     ]
    }
   ],
   "source": [
    "dislayer(xtrain, 'fins')"
   ]
  },
  {
   "cell_type": "markdown",
   "id": "a03d8f76",
   "metadata": {},
   "source": [
    "- This rule can only used for non-mammals.\n",
    "-  The rule set has a fairly high error rate."
   ]
  },
  {
   "cell_type": "markdown",
   "id": "3fcc6972",
   "metadata": {},
   "source": [
    "#### Venomous"
   ]
  },
  {
   "cell_type": "code",
   "execution_count": 143,
   "id": "9e9647af",
   "metadata": {
    "tags": []
   },
   "outputs": [
    {
     "data": {
      "text/html": [
       "<style  type=\"text/css\" >\n",
       "</style><table id=\"T_677df_\" ><caption>Cross Table</caption><thead>    <tr>        <th class=\"index_name level0\" >mammal</th>        <th class=\"col_heading level0 col0\" >mammal</th>        <th class=\"col_heading level0 col1\" >non-mammal</th>        <th class=\"col_heading level0 col2\" >All</th>    </tr>    <tr>        <th class=\"index_name level0\" >venomous</th>        <th class=\"blank\" ></th>        <th class=\"blank\" ></th>        <th class=\"blank\" ></th>    </tr></thead><tbody>\n",
       "                <tr>\n",
       "                        <th id=\"T_677df_level0_row0\" class=\"row_heading level0 row0\" >False</th>\n",
       "                        <td id=\"T_677df_row0_col0\" class=\"data row0 col0\" >39</td>\n",
       "                        <td id=\"T_677df_row0_col1\" class=\"data row0 col1\" >55</td>\n",
       "                        <td id=\"T_677df_row0_col2\" class=\"data row0 col2\" >94</td>\n",
       "            </tr>\n",
       "            <tr>\n",
       "                        <th id=\"T_677df_level0_row1\" class=\"row_heading level0 row1\" >True</th>\n",
       "                        <td id=\"T_677df_row1_col0\" class=\"data row1 col0\" >0</td>\n",
       "                        <td id=\"T_677df_row1_col1\" class=\"data row1 col1\" >10</td>\n",
       "                        <td id=\"T_677df_row1_col2\" class=\"data row1 col2\" >10</td>\n",
       "            </tr>\n",
       "            <tr>\n",
       "                        <th id=\"T_677df_level0_row2\" class=\"row_heading level0 row2\" >All</th>\n",
       "                        <td id=\"T_677df_row2_col0\" class=\"data row2 col0\" >39</td>\n",
       "                        <td id=\"T_677df_row2_col1\" class=\"data row2 col1\" >65</td>\n",
       "                        <td id=\"T_677df_row2_col2\" class=\"data row2 col2\" >104</td>\n",
       "            </tr>\n",
       "    </tbody></table>"
      ],
      "text/plain": [
       "<pandas.io.formats.style.Styler at 0xf20ca60>"
      ]
     },
     "metadata": {},
     "output_type": "display_data"
    },
    {
     "data": {
      "text/html": [
       "<style  type=\"text/css\" >\n",
       "</style><table id=\"T_ca596_\" ><caption>Rule set for venomous</caption><thead>    <tr>        <th class=\"blank level0\" ></th>        <th class=\"col_heading level0 col0\" >rule</th>        <th class=\"col_heading level0 col1\" >error</th>    </tr>    <tr>        <th class=\"index_name level0\" >venomous</th>        <th class=\"blank\" ></th>        <th class=\"blank\" ></th>    </tr></thead><tbody>\n",
       "                <tr>\n",
       "                        <th id=\"T_ca596_level0_row0\" class=\"row_heading level0 row0\" >False</th>\n",
       "                        <td id=\"T_ca596_row0_col0\" class=\"data row0 col0\" >non-mammal</td>\n",
       "                        <td id=\"T_ca596_row0_col1\" class=\"data row0 col1\" >39</td>\n",
       "            </tr>\n",
       "            <tr>\n",
       "                        <th id=\"T_ca596_level0_row1\" class=\"row_heading level0 row1\" >True</th>\n",
       "                        <td id=\"T_ca596_row1_col0\" class=\"data row1 col0\" >non-mammal</td>\n",
       "                        <td id=\"T_ca596_row1_col1\" class=\"data row1 col1\" >0</td>\n",
       "            </tr>\n",
       "    </tbody></table>"
      ],
      "text/plain": [
       "<pandas.io.formats.style.Styler at 0xf005850>"
      ]
     },
     "metadata": {},
     "output_type": "display_data"
    },
    {
     "name": "stdout",
     "output_type": "stream",
     "text": [
      "\n",
      "\n",
      "\u001b[1m\u001b[91mError Rate: 0.375 \u001b[91m \u001b[1m\n"
     ]
    }
   ],
   "source": [
    "dislayer(xtrain, 'venomous')"
   ]
  },
  {
   "cell_type": "markdown",
   "id": "1c1d6616",
   "metadata": {},
   "source": [
    "- This rule set doe not capture mammals,too. \n",
    "- It also has a high error rate."
   ]
  },
  {
   "cell_type": "markdown",
   "id": "8fe73e10",
   "metadata": {},
   "source": [
    "#### Breathes"
   ]
  },
  {
   "cell_type": "code",
   "execution_count": 144,
   "id": "bd380e52",
   "metadata": {
    "tags": []
   },
   "outputs": [
    {
     "data": {
      "text/html": [
       "<style  type=\"text/css\" >\n",
       "</style><table id=\"T_c7ae8_\" ><caption>Cross Table</caption><thead>    <tr>        <th class=\"index_name level0\" >mammal</th>        <th class=\"col_heading level0 col0\" >mammal</th>        <th class=\"col_heading level0 col1\" >non-mammal</th>        <th class=\"col_heading level0 col2\" >All</th>    </tr>    <tr>        <th class=\"index_name level0\" >breathes</th>        <th class=\"blank\" ></th>        <th class=\"blank\" ></th>        <th class=\"blank\" ></th>    </tr></thead><tbody>\n",
       "                <tr>\n",
       "                        <th id=\"T_c7ae8_level0_row0\" class=\"row_heading level0 row0\" >False</th>\n",
       "                        <td id=\"T_c7ae8_row0_col0\" class=\"data row0 col0\" >0</td>\n",
       "                        <td id=\"T_c7ae8_row0_col1\" class=\"data row0 col1\" >28</td>\n",
       "                        <td id=\"T_c7ae8_row0_col2\" class=\"data row0 col2\" >28</td>\n",
       "            </tr>\n",
       "            <tr>\n",
       "                        <th id=\"T_c7ae8_level0_row1\" class=\"row_heading level0 row1\" >True</th>\n",
       "                        <td id=\"T_c7ae8_row1_col0\" class=\"data row1 col0\" >39</td>\n",
       "                        <td id=\"T_c7ae8_row1_col1\" class=\"data row1 col1\" >37</td>\n",
       "                        <td id=\"T_c7ae8_row1_col2\" class=\"data row1 col2\" >76</td>\n",
       "            </tr>\n",
       "            <tr>\n",
       "                        <th id=\"T_c7ae8_level0_row2\" class=\"row_heading level0 row2\" >All</th>\n",
       "                        <td id=\"T_c7ae8_row2_col0\" class=\"data row2 col0\" >39</td>\n",
       "                        <td id=\"T_c7ae8_row2_col1\" class=\"data row2 col1\" >65</td>\n",
       "                        <td id=\"T_c7ae8_row2_col2\" class=\"data row2 col2\" >104</td>\n",
       "            </tr>\n",
       "    </tbody></table>"
      ],
      "text/plain": [
       "<pandas.io.formats.style.Styler at 0xeeda340>"
      ]
     },
     "metadata": {},
     "output_type": "display_data"
    },
    {
     "data": {
      "text/html": [
       "<style  type=\"text/css\" >\n",
       "</style><table id=\"T_51034_\" ><caption>Rule set for breathes</caption><thead>    <tr>        <th class=\"blank level0\" ></th>        <th class=\"col_heading level0 col0\" >rule</th>        <th class=\"col_heading level0 col1\" >error</th>    </tr>    <tr>        <th class=\"index_name level0\" >breathes</th>        <th class=\"blank\" ></th>        <th class=\"blank\" ></th>    </tr></thead><tbody>\n",
       "                <tr>\n",
       "                        <th id=\"T_51034_level0_row0\" class=\"row_heading level0 row0\" >False</th>\n",
       "                        <td id=\"T_51034_row0_col0\" class=\"data row0 col0\" >non-mammal</td>\n",
       "                        <td id=\"T_51034_row0_col1\" class=\"data row0 col1\" >0</td>\n",
       "            </tr>\n",
       "            <tr>\n",
       "                        <th id=\"T_51034_level0_row1\" class=\"row_heading level0 row1\" >True</th>\n",
       "                        <td id=\"T_51034_row1_col0\" class=\"data row1 col0\" >mammal</td>\n",
       "                        <td id=\"T_51034_row1_col1\" class=\"data row1 col1\" >37</td>\n",
       "            </tr>\n",
       "    </tbody></table>"
      ],
      "text/plain": [
       "<pandas.io.formats.style.Styler at 0x1c72bdf0>"
      ]
     },
     "metadata": {},
     "output_type": "display_data"
    },
    {
     "name": "stdout",
     "output_type": "stream",
     "text": [
      "\n",
      "\n",
      "\u001b[1m\u001b[91mError Rate: 0.356 \u001b[91m \u001b[1m\n"
     ]
    }
   ],
   "source": [
    "dislayer(xtrain, 'breathes')"
   ]
  },
  {
   "cell_type": "markdown",
   "id": "d29fd11e",
   "metadata": {},
   "source": [
    " - The rule set shows if an animal breathes, it is mammals and else non-mammal with an error rate of 0.356."
   ]
  },
  {
   "cell_type": "markdown",
   "id": "fb787607",
   "metadata": {},
   "source": [
    "#### Toothed"
   ]
  },
  {
   "cell_type": "code",
   "execution_count": 145,
   "id": "4e269f8f",
   "metadata": {
    "tags": []
   },
   "outputs": [
    {
     "data": {
      "text/html": [
       "<style  type=\"text/css\" >\n",
       "</style><table id=\"T_91de6_\" ><caption>Cross Table</caption><thead>    <tr>        <th class=\"index_name level0\" >mammal</th>        <th class=\"col_heading level0 col0\" >mammal</th>        <th class=\"col_heading level0 col1\" >non-mammal</th>        <th class=\"col_heading level0 col2\" >All</th>    </tr>    <tr>        <th class=\"index_name level0\" >toothed</th>        <th class=\"blank\" ></th>        <th class=\"blank\" ></th>        <th class=\"blank\" ></th>    </tr></thead><tbody>\n",
       "                <tr>\n",
       "                        <th id=\"T_91de6_level0_row0\" class=\"row_heading level0 row0\" >False</th>\n",
       "                        <td id=\"T_91de6_row0_col0\" class=\"data row0 col0\" >1</td>\n",
       "                        <td id=\"T_91de6_row0_col1\" class=\"data row0 col1\" >35</td>\n",
       "                        <td id=\"T_91de6_row0_col2\" class=\"data row0 col2\" >36</td>\n",
       "            </tr>\n",
       "            <tr>\n",
       "                        <th id=\"T_91de6_level0_row1\" class=\"row_heading level0 row1\" >True</th>\n",
       "                        <td id=\"T_91de6_row1_col0\" class=\"data row1 col0\" >38</td>\n",
       "                        <td id=\"T_91de6_row1_col1\" class=\"data row1 col1\" >30</td>\n",
       "                        <td id=\"T_91de6_row1_col2\" class=\"data row1 col2\" >68</td>\n",
       "            </tr>\n",
       "            <tr>\n",
       "                        <th id=\"T_91de6_level0_row2\" class=\"row_heading level0 row2\" >All</th>\n",
       "                        <td id=\"T_91de6_row2_col0\" class=\"data row2 col0\" >39</td>\n",
       "                        <td id=\"T_91de6_row2_col1\" class=\"data row2 col1\" >65</td>\n",
       "                        <td id=\"T_91de6_row2_col2\" class=\"data row2 col2\" >104</td>\n",
       "            </tr>\n",
       "    </tbody></table>"
      ],
      "text/plain": [
       "<pandas.io.formats.style.Styler at 0x196e3df0>"
      ]
     },
     "metadata": {},
     "output_type": "display_data"
    },
    {
     "data": {
      "text/html": [
       "<style  type=\"text/css\" >\n",
       "</style><table id=\"T_5bfaf_\" ><caption>Rule set for toothed</caption><thead>    <tr>        <th class=\"blank level0\" ></th>        <th class=\"col_heading level0 col0\" >rule</th>        <th class=\"col_heading level0 col1\" >error</th>    </tr>    <tr>        <th class=\"index_name level0\" >toothed</th>        <th class=\"blank\" ></th>        <th class=\"blank\" ></th>    </tr></thead><tbody>\n",
       "                <tr>\n",
       "                        <th id=\"T_5bfaf_level0_row0\" class=\"row_heading level0 row0\" >False</th>\n",
       "                        <td id=\"T_5bfaf_row0_col0\" class=\"data row0 col0\" >non-mammal</td>\n",
       "                        <td id=\"T_5bfaf_row0_col1\" class=\"data row0 col1\" >1</td>\n",
       "            </tr>\n",
       "            <tr>\n",
       "                        <th id=\"T_5bfaf_level0_row1\" class=\"row_heading level0 row1\" >True</th>\n",
       "                        <td id=\"T_5bfaf_row1_col0\" class=\"data row1 col0\" >mammal</td>\n",
       "                        <td id=\"T_5bfaf_row1_col1\" class=\"data row1 col1\" >30</td>\n",
       "            </tr>\n",
       "    </tbody></table>"
      ],
      "text/plain": [
       "<pandas.io.formats.style.Styler at 0x1c773d30>"
      ]
     },
     "metadata": {},
     "output_type": "display_data"
    },
    {
     "name": "stdout",
     "output_type": "stream",
     "text": [
      "\n",
      "\n",
      "\u001b[1m\u001b[91mError Rate: 0.298 \u001b[91m \u001b[1m\n"
     ]
    }
   ],
   "source": [
    "dislayer(xtrain, 'toothed')"
   ]
  },
  {
   "cell_type": "markdown",
   "id": "32249b70",
   "metadata": {},
   "source": [
    "-  This rule set captures both classes (mammal and non-mammal). \n",
    "- It has a fairly acceptable error rate. "
   ]
  },
  {
   "cell_type": "markdown",
   "id": "3c484694",
   "metadata": {},
   "source": [
    "#### Domestic"
   ]
  },
  {
   "cell_type": "code",
   "execution_count": 146,
   "id": "a53cad6d",
   "metadata": {
    "tags": []
   },
   "outputs": [
    {
     "data": {
      "text/html": [
       "<style  type=\"text/css\" >\n",
       "</style><table id=\"T_41f4b_\" ><caption>Cross Table</caption><thead>    <tr>        <th class=\"index_name level0\" >mammal</th>        <th class=\"col_heading level0 col0\" >mammal</th>        <th class=\"col_heading level0 col1\" >non-mammal</th>        <th class=\"col_heading level0 col2\" >All</th>    </tr>    <tr>        <th class=\"index_name level0\" >domestic</th>        <th class=\"blank\" ></th>        <th class=\"blank\" ></th>        <th class=\"blank\" ></th>    </tr></thead><tbody>\n",
       "                <tr>\n",
       "                        <th id=\"T_41f4b_level0_row0\" class=\"row_heading level0 row0\" >False</th>\n",
       "                        <td id=\"T_41f4b_row0_col0\" class=\"data row0 col0\" >34</td>\n",
       "                        <td id=\"T_41f4b_row0_col1\" class=\"data row0 col1\" >60</td>\n",
       "                        <td id=\"T_41f4b_row0_col2\" class=\"data row0 col2\" >94</td>\n",
       "            </tr>\n",
       "            <tr>\n",
       "                        <th id=\"T_41f4b_level0_row1\" class=\"row_heading level0 row1\" >True</th>\n",
       "                        <td id=\"T_41f4b_row1_col0\" class=\"data row1 col0\" >5</td>\n",
       "                        <td id=\"T_41f4b_row1_col1\" class=\"data row1 col1\" >5</td>\n",
       "                        <td id=\"T_41f4b_row1_col2\" class=\"data row1 col2\" >10</td>\n",
       "            </tr>\n",
       "            <tr>\n",
       "                        <th id=\"T_41f4b_level0_row2\" class=\"row_heading level0 row2\" >All</th>\n",
       "                        <td id=\"T_41f4b_row2_col0\" class=\"data row2 col0\" >39</td>\n",
       "                        <td id=\"T_41f4b_row2_col1\" class=\"data row2 col1\" >65</td>\n",
       "                        <td id=\"T_41f4b_row2_col2\" class=\"data row2 col2\" >104</td>\n",
       "            </tr>\n",
       "    </tbody></table>"
      ],
      "text/plain": [
       "<pandas.io.formats.style.Styler at 0xf03be80>"
      ]
     },
     "metadata": {},
     "output_type": "display_data"
    },
    {
     "data": {
      "text/html": [
       "<style  type=\"text/css\" >\n",
       "</style><table id=\"T_8cb8d_\" ><caption>Rule set for domestic</caption><thead>    <tr>        <th class=\"blank level0\" ></th>        <th class=\"col_heading level0 col0\" >rule</th>        <th class=\"col_heading level0 col1\" >error</th>    </tr>    <tr>        <th class=\"index_name level0\" >domestic</th>        <th class=\"blank\" ></th>        <th class=\"blank\" ></th>    </tr></thead><tbody>\n",
       "                <tr>\n",
       "                        <th id=\"T_8cb8d_level0_row0\" class=\"row_heading level0 row0\" >False</th>\n",
       "                        <td id=\"T_8cb8d_row0_col0\" class=\"data row0 col0\" >non-mammal</td>\n",
       "                        <td id=\"T_8cb8d_row0_col1\" class=\"data row0 col1\" >34</td>\n",
       "            </tr>\n",
       "            <tr>\n",
       "                        <th id=\"T_8cb8d_level0_row1\" class=\"row_heading level0 row1\" >True</th>\n",
       "                        <td id=\"T_8cb8d_row1_col0\" class=\"data row1 col0\" >non-mammal</td>\n",
       "                        <td id=\"T_8cb8d_row1_col1\" class=\"data row1 col1\" >5</td>\n",
       "            </tr>\n",
       "    </tbody></table>"
      ],
      "text/plain": [
       "<pandas.io.formats.style.Styler at 0x5a68d90>"
      ]
     },
     "metadata": {},
     "output_type": "display_data"
    },
    {
     "name": "stdout",
     "output_type": "stream",
     "text": [
      "\n",
      "\n",
      "\u001b[1m\u001b[91mError Rate: 0.375 \u001b[91m \u001b[1m\n"
     ]
    }
   ],
   "source": [
    "dislayer(xtrain, 'domestic')"
   ]
  },
  {
   "cell_type": "markdown",
   "id": "0774c313",
   "metadata": {},
   "source": [
    " -  This rule set does not capture mammals.\n",
    " -  It does not acceptable error rate.\n",
    " -  Therefore, this rule set should be avoided."
   ]
  },
  {
   "cell_type": "code",
   "execution_count": 147,
   "id": "64f4deeb",
   "metadata": {},
   "outputs": [
    {
     "data": {
      "text/html": [
       "<style  type=\"text/css\" >\n",
       "</style><table id=\"T_63441_\" ><caption>Cross Table</caption><thead>    <tr>        <th class=\"index_name level0\" >mammal</th>        <th class=\"col_heading level0 col0\" >mammal</th>        <th class=\"col_heading level0 col1\" >non-mammal</th>        <th class=\"col_heading level0 col2\" >All</th>    </tr>    <tr>        <th class=\"index_name level0\" >gestation</th>        <th class=\"blank\" ></th>        <th class=\"blank\" ></th>        <th class=\"blank\" ></th>    </tr></thead><tbody>\n",
       "                <tr>\n",
       "                        <th id=\"T_63441_level0_row0\" class=\"row_heading level0 row0\" >long</th>\n",
       "                        <td id=\"T_63441_row0_col0\" class=\"data row0 col0\" >19</td>\n",
       "                        <td id=\"T_63441_row0_col1\" class=\"data row0 col1\" >13</td>\n",
       "                        <td id=\"T_63441_row0_col2\" class=\"data row0 col2\" >32</td>\n",
       "            </tr>\n",
       "            <tr>\n",
       "                        <th id=\"T_63441_level0_row1\" class=\"row_heading level0 row1\" >short</th>\n",
       "                        <td id=\"T_63441_row1_col0\" class=\"data row1 col0\" >20</td>\n",
       "                        <td id=\"T_63441_row1_col1\" class=\"data row1 col1\" >52</td>\n",
       "                        <td id=\"T_63441_row1_col2\" class=\"data row1 col2\" >72</td>\n",
       "            </tr>\n",
       "            <tr>\n",
       "                        <th id=\"T_63441_level0_row2\" class=\"row_heading level0 row2\" >All</th>\n",
       "                        <td id=\"T_63441_row2_col0\" class=\"data row2 col0\" >39</td>\n",
       "                        <td id=\"T_63441_row2_col1\" class=\"data row2 col1\" >65</td>\n",
       "                        <td id=\"T_63441_row2_col2\" class=\"data row2 col2\" >104</td>\n",
       "            </tr>\n",
       "    </tbody></table>"
      ],
      "text/plain": [
       "<pandas.io.formats.style.Styler at 0x1c7c9610>"
      ]
     },
     "metadata": {},
     "output_type": "display_data"
    },
    {
     "data": {
      "text/html": [
       "<style  type=\"text/css\" >\n",
       "</style><table id=\"T_27213_\" ><caption>Rule set for gestation</caption><thead>    <tr>        <th class=\"blank level0\" ></th>        <th class=\"col_heading level0 col0\" >rule</th>        <th class=\"col_heading level0 col1\" >error</th>    </tr>    <tr>        <th class=\"index_name level0\" >gestation</th>        <th class=\"blank\" ></th>        <th class=\"blank\" ></th>    </tr></thead><tbody>\n",
       "                <tr>\n",
       "                        <th id=\"T_27213_level0_row0\" class=\"row_heading level0 row0\" >long</th>\n",
       "                        <td id=\"T_27213_row0_col0\" class=\"data row0 col0\" >mammal</td>\n",
       "                        <td id=\"T_27213_row0_col1\" class=\"data row0 col1\" >13</td>\n",
       "            </tr>\n",
       "            <tr>\n",
       "                        <th id=\"T_27213_level0_row1\" class=\"row_heading level0 row1\" >short</th>\n",
       "                        <td id=\"T_27213_row1_col0\" class=\"data row1 col0\" >non-mammal</td>\n",
       "                        <td id=\"T_27213_row1_col1\" class=\"data row1 col1\" >20</td>\n",
       "            </tr>\n",
       "    </tbody></table>"
      ],
      "text/plain": [
       "<pandas.io.formats.style.Styler at 0x5a1aa30>"
      ]
     },
     "metadata": {},
     "output_type": "display_data"
    },
    {
     "name": "stdout",
     "output_type": "stream",
     "text": [
      "\n",
      "\n",
      "\u001b[1m\u001b[91mError Rate: 0.317 \u001b[91m \u001b[1m\n"
     ]
    }
   ],
   "source": [
    "dislayer(xtrain, 'gestation')"
   ]
  },
  {
   "cell_type": "markdown",
   "id": "b3567d85",
   "metadata": {},
   "source": [
    "- This attribute can not be a good candidate for selecting rule set since it was originally a continuous attribute."
   ]
  },
  {
   "cell_type": "markdown",
   "id": "a5459168",
   "metadata": {},
   "source": [
    "#### Animal Name"
   ]
  },
  {
   "cell_type": "code",
   "execution_count": 148,
   "id": "5d9d2bf9",
   "metadata": {},
   "outputs": [
    {
     "data": {
      "text/html": [
       "<style  type=\"text/css\" >\n",
       "</style><table id=\"T_ab0b7_\" ><caption>Cross Table</caption><thead>    <tr>        <th class=\"index_name level0\" >mammal</th>        <th class=\"col_heading level0 col0\" >mammal</th>        <th class=\"col_heading level0 col1\" >non-mammal</th>        <th class=\"col_heading level0 col2\" >All</th>    </tr>    <tr>        <th class=\"index_name level0\" >animal name</th>        <th class=\"blank\" ></th>        <th class=\"blank\" ></th>        <th class=\"blank\" ></th>    </tr></thead><tbody>\n",
       "                <tr>\n",
       "                        <th id=\"T_ab0b7_level0_row0\" class=\"row_heading level0 row0\" >aardvark</th>\n",
       "                        <td id=\"T_ab0b7_row0_col0\" class=\"data row0 col0\" >1</td>\n",
       "                        <td id=\"T_ab0b7_row0_col1\" class=\"data row0 col1\" >0</td>\n",
       "                        <td id=\"T_ab0b7_row0_col2\" class=\"data row0 col2\" >1</td>\n",
       "            </tr>\n",
       "            <tr>\n",
       "                        <th id=\"T_ab0b7_level0_row1\" class=\"row_heading level0 row1\" >anole</th>\n",
       "                        <td id=\"T_ab0b7_row1_col0\" class=\"data row1 col0\" >0</td>\n",
       "                        <td id=\"T_ab0b7_row1_col1\" class=\"data row1 col1\" >1</td>\n",
       "                        <td id=\"T_ab0b7_row1_col2\" class=\"data row1 col2\" >1</td>\n",
       "            </tr>\n",
       "            <tr>\n",
       "                        <th id=\"T_ab0b7_level0_row2\" class=\"row_heading level0 row2\" >antelope</th>\n",
       "                        <td id=\"T_ab0b7_row2_col0\" class=\"data row2 col0\" >1</td>\n",
       "                        <td id=\"T_ab0b7_row2_col1\" class=\"data row2 col1\" >0</td>\n",
       "                        <td id=\"T_ab0b7_row2_col2\" class=\"data row2 col2\" >1</td>\n",
       "            </tr>\n",
       "            <tr>\n",
       "                        <th id=\"T_ab0b7_level0_row3\" class=\"row_heading level0 row3\" >axolotl</th>\n",
       "                        <td id=\"T_ab0b7_row3_col0\" class=\"data row3 col0\" >0</td>\n",
       "                        <td id=\"T_ab0b7_row3_col1\" class=\"data row3 col1\" >1</td>\n",
       "                        <td id=\"T_ab0b7_row3_col2\" class=\"data row3 col2\" >1</td>\n",
       "            </tr>\n",
       "            <tr>\n",
       "                        <th id=\"T_ab0b7_level0_row4\" class=\"row_heading level0 row4\" >bear</th>\n",
       "                        <td id=\"T_ab0b7_row4_col0\" class=\"data row4 col0\" >1</td>\n",
       "                        <td id=\"T_ab0b7_row4_col1\" class=\"data row4 col1\" >0</td>\n",
       "                        <td id=\"T_ab0b7_row4_col2\" class=\"data row4 col2\" >1</td>\n",
       "            </tr>\n",
       "            <tr>\n",
       "                        <th id=\"T_ab0b7_level0_row5\" class=\"row_heading level0 row5\" >blue dragon</th>\n",
       "                        <td id=\"T_ab0b7_row5_col0\" class=\"data row5 col0\" >0</td>\n",
       "                        <td id=\"T_ab0b7_row5_col1\" class=\"data row5 col1\" >1</td>\n",
       "                        <td id=\"T_ab0b7_row5_col2\" class=\"data row5 col2\" >1</td>\n",
       "            </tr>\n",
       "            <tr>\n",
       "                        <th id=\"T_ab0b7_level0_row6\" class=\"row_heading level0 row6\" >boar</th>\n",
       "                        <td id=\"T_ab0b7_row6_col0\" class=\"data row6 col0\" >1</td>\n",
       "                        <td id=\"T_ab0b7_row6_col1\" class=\"data row6 col1\" >0</td>\n",
       "                        <td id=\"T_ab0b7_row6_col2\" class=\"data row6 col2\" >1</td>\n",
       "            </tr>\n",
       "            <tr>\n",
       "                        <th id=\"T_ab0b7_level0_row7\" class=\"row_heading level0 row7\" >buffalo</th>\n",
       "                        <td id=\"T_ab0b7_row7_col0\" class=\"data row7 col0\" >1</td>\n",
       "                        <td id=\"T_ab0b7_row7_col1\" class=\"data row7 col1\" >0</td>\n",
       "                        <td id=\"T_ab0b7_row7_col2\" class=\"data row7 col2\" >1</td>\n",
       "            </tr>\n",
       "            <tr>\n",
       "                        <th id=\"T_ab0b7_level0_row8\" class=\"row_heading level0 row8\" >caecilians</th>\n",
       "                        <td id=\"T_ab0b7_row8_col0\" class=\"data row8 col0\" >0</td>\n",
       "                        <td id=\"T_ab0b7_row8_col1\" class=\"data row8 col1\" >1</td>\n",
       "                        <td id=\"T_ab0b7_row8_col2\" class=\"data row8 col2\" >1</td>\n",
       "            </tr>\n",
       "            <tr>\n",
       "                        <th id=\"T_ab0b7_level0_row9\" class=\"row_heading level0 row9\" >capybara</th>\n",
       "                        <td id=\"T_ab0b7_row9_col0\" class=\"data row9 col0\" >1</td>\n",
       "                        <td id=\"T_ab0b7_row9_col1\" class=\"data row9 col1\" >0</td>\n",
       "                        <td id=\"T_ab0b7_row9_col2\" class=\"data row9 col2\" >1</td>\n",
       "            </tr>\n",
       "            <tr>\n",
       "                        <th id=\"T_ab0b7_level0_row10\" class=\"row_heading level0 row10\" >carp</th>\n",
       "                        <td id=\"T_ab0b7_row10_col0\" class=\"data row10 col0\" >0</td>\n",
       "                        <td id=\"T_ab0b7_row10_col1\" class=\"data row10 col1\" >1</td>\n",
       "                        <td id=\"T_ab0b7_row10_col2\" class=\"data row10 col2\" >1</td>\n",
       "            </tr>\n",
       "            <tr>\n",
       "                        <th id=\"T_ab0b7_level0_row11\" class=\"row_heading level0 row11\" >catfish</th>\n",
       "                        <td id=\"T_ab0b7_row11_col0\" class=\"data row11 col0\" >0</td>\n",
       "                        <td id=\"T_ab0b7_row11_col1\" class=\"data row11 col1\" >1</td>\n",
       "                        <td id=\"T_ab0b7_row11_col2\" class=\"data row11 col2\" >1</td>\n",
       "            </tr>\n",
       "            <tr>\n",
       "                        <th id=\"T_ab0b7_level0_row12\" class=\"row_heading level0 row12\" >cavy</th>\n",
       "                        <td id=\"T_ab0b7_row12_col0\" class=\"data row12 col0\" >1</td>\n",
       "                        <td id=\"T_ab0b7_row12_col1\" class=\"data row12 col1\" >0</td>\n",
       "                        <td id=\"T_ab0b7_row12_col2\" class=\"data row12 col2\" >1</td>\n",
       "            </tr>\n",
       "            <tr>\n",
       "                        <th id=\"T_ab0b7_level0_row13\" class=\"row_heading level0 row13\" >cayman</th>\n",
       "                        <td id=\"T_ab0b7_row13_col0\" class=\"data row13 col0\" >0</td>\n",
       "                        <td id=\"T_ab0b7_row13_col1\" class=\"data row13 col1\" >1</td>\n",
       "                        <td id=\"T_ab0b7_row13_col2\" class=\"data row13 col2\" >1</td>\n",
       "            </tr>\n",
       "            <tr>\n",
       "                        <th id=\"T_ab0b7_level0_row14\" class=\"row_heading level0 row14\" >cheetah</th>\n",
       "                        <td id=\"T_ab0b7_row14_col0\" class=\"data row14 col0\" >1</td>\n",
       "                        <td id=\"T_ab0b7_row14_col1\" class=\"data row14 col1\" >0</td>\n",
       "                        <td id=\"T_ab0b7_row14_col2\" class=\"data row14 col2\" >1</td>\n",
       "            </tr>\n",
       "            <tr>\n",
       "                        <th id=\"T_ab0b7_level0_row15\" class=\"row_heading level0 row15\" >chicken</th>\n",
       "                        <td id=\"T_ab0b7_row15_col0\" class=\"data row15 col0\" >0</td>\n",
       "                        <td id=\"T_ab0b7_row15_col1\" class=\"data row15 col1\" >1</td>\n",
       "                        <td id=\"T_ab0b7_row15_col2\" class=\"data row15 col2\" >1</td>\n",
       "            </tr>\n",
       "            <tr>\n",
       "                        <th id=\"T_ab0b7_level0_row16\" class=\"row_heading level0 row16\" >chub</th>\n",
       "                        <td id=\"T_ab0b7_row16_col0\" class=\"data row16 col0\" >0</td>\n",
       "                        <td id=\"T_ab0b7_row16_col1\" class=\"data row16 col1\" >1</td>\n",
       "                        <td id=\"T_ab0b7_row16_col2\" class=\"data row16 col2\" >1</td>\n",
       "            </tr>\n",
       "            <tr>\n",
       "                        <th id=\"T_ab0b7_level0_row17\" class=\"row_heading level0 row17\" >chupacabra</th>\n",
       "                        <td id=\"T_ab0b7_row17_col0\" class=\"data row17 col0\" >1</td>\n",
       "                        <td id=\"T_ab0b7_row17_col1\" class=\"data row17 col1\" >0</td>\n",
       "                        <td id=\"T_ab0b7_row17_col2\" class=\"data row17 col2\" >1</td>\n",
       "            </tr>\n",
       "            <tr>\n",
       "                        <th id=\"T_ab0b7_level0_row18\" class=\"row_heading level0 row18\" >clam</th>\n",
       "                        <td id=\"T_ab0b7_row18_col0\" class=\"data row18 col0\" >0</td>\n",
       "                        <td id=\"T_ab0b7_row18_col1\" class=\"data row18 col1\" >1</td>\n",
       "                        <td id=\"T_ab0b7_row18_col2\" class=\"data row18 col2\" >1</td>\n",
       "            </tr>\n",
       "            <tr>\n",
       "                        <th id=\"T_ab0b7_level0_row19\" class=\"row_heading level0 row19\" >cow</th>\n",
       "                        <td id=\"T_ab0b7_row19_col0\" class=\"data row19 col0\" >1</td>\n",
       "                        <td id=\"T_ab0b7_row19_col1\" class=\"data row19 col1\" >0</td>\n",
       "                        <td id=\"T_ab0b7_row19_col2\" class=\"data row19 col2\" >1</td>\n",
       "            </tr>\n",
       "            <tr>\n",
       "                        <th id=\"T_ab0b7_level0_row20\" class=\"row_heading level0 row20\" >crab</th>\n",
       "                        <td id=\"T_ab0b7_row20_col0\" class=\"data row20 col0\" >0</td>\n",
       "                        <td id=\"T_ab0b7_row20_col1\" class=\"data row20 col1\" >1</td>\n",
       "                        <td id=\"T_ab0b7_row20_col2\" class=\"data row20 col2\" >1</td>\n",
       "            </tr>\n",
       "            <tr>\n",
       "                        <th id=\"T_ab0b7_level0_row21\" class=\"row_heading level0 row21\" >crayfish</th>\n",
       "                        <td id=\"T_ab0b7_row21_col0\" class=\"data row21 col0\" >0</td>\n",
       "                        <td id=\"T_ab0b7_row21_col1\" class=\"data row21 col1\" >1</td>\n",
       "                        <td id=\"T_ab0b7_row21_col2\" class=\"data row21 col2\" >1</td>\n",
       "            </tr>\n",
       "            <tr>\n",
       "                        <th id=\"T_ab0b7_level0_row22\" class=\"row_heading level0 row22\" >crow</th>\n",
       "                        <td id=\"T_ab0b7_row22_col0\" class=\"data row22 col0\" >0</td>\n",
       "                        <td id=\"T_ab0b7_row22_col1\" class=\"data row22 col1\" >1</td>\n",
       "                        <td id=\"T_ab0b7_row22_col2\" class=\"data row22 col2\" >1</td>\n",
       "            </tr>\n",
       "            <tr>\n",
       "                        <th id=\"T_ab0b7_level0_row23\" class=\"row_heading level0 row23\" >cuttlefish</th>\n",
       "                        <td id=\"T_ab0b7_row23_col0\" class=\"data row23 col0\" >0</td>\n",
       "                        <td id=\"T_ab0b7_row23_col1\" class=\"data row23 col1\" >1</td>\n",
       "                        <td id=\"T_ab0b7_row23_col2\" class=\"data row23 col2\" >1</td>\n",
       "            </tr>\n",
       "            <tr>\n",
       "                        <th id=\"T_ab0b7_level0_row24\" class=\"row_heading level0 row24\" >dartfrog</th>\n",
       "                        <td id=\"T_ab0b7_row24_col0\" class=\"data row24 col0\" >0</td>\n",
       "                        <td id=\"T_ab0b7_row24_col1\" class=\"data row24 col1\" >1</td>\n",
       "                        <td id=\"T_ab0b7_row24_col2\" class=\"data row24 col2\" >1</td>\n",
       "            </tr>\n",
       "            <tr>\n",
       "                        <th id=\"T_ab0b7_level0_row25\" class=\"row_heading level0 row25\" >deer</th>\n",
       "                        <td id=\"T_ab0b7_row25_col0\" class=\"data row25 col0\" >1</td>\n",
       "                        <td id=\"T_ab0b7_row25_col1\" class=\"data row25 col1\" >0</td>\n",
       "                        <td id=\"T_ab0b7_row25_col2\" class=\"data row25 col2\" >1</td>\n",
       "            </tr>\n",
       "            <tr>\n",
       "                        <th id=\"T_ab0b7_level0_row26\" class=\"row_heading level0 row26\" >dogfish</th>\n",
       "                        <td id=\"T_ab0b7_row26_col0\" class=\"data row26 col0\" >0</td>\n",
       "                        <td id=\"T_ab0b7_row26_col1\" class=\"data row26 col1\" >1</td>\n",
       "                        <td id=\"T_ab0b7_row26_col2\" class=\"data row26 col2\" >1</td>\n",
       "            </tr>\n",
       "            <tr>\n",
       "                        <th id=\"T_ab0b7_level0_row27\" class=\"row_heading level0 row27\" >dolphin</th>\n",
       "                        <td id=\"T_ab0b7_row27_col0\" class=\"data row27 col0\" >1</td>\n",
       "                        <td id=\"T_ab0b7_row27_col1\" class=\"data row27 col1\" >0</td>\n",
       "                        <td id=\"T_ab0b7_row27_col2\" class=\"data row27 col2\" >1</td>\n",
       "            </tr>\n",
       "            <tr>\n",
       "                        <th id=\"T_ab0b7_level0_row28\" class=\"row_heading level0 row28\" >dove</th>\n",
       "                        <td id=\"T_ab0b7_row28_col0\" class=\"data row28 col0\" >0</td>\n",
       "                        <td id=\"T_ab0b7_row28_col1\" class=\"data row28 col1\" >1</td>\n",
       "                        <td id=\"T_ab0b7_row28_col2\" class=\"data row28 col2\" >1</td>\n",
       "            </tr>\n",
       "            <tr>\n",
       "                        <th id=\"T_ab0b7_level0_row29\" class=\"row_heading level0 row29\" >elephant</th>\n",
       "                        <td id=\"T_ab0b7_row29_col0\" class=\"data row29 col0\" >1</td>\n",
       "                        <td id=\"T_ab0b7_row29_col1\" class=\"data row29 col1\" >0</td>\n",
       "                        <td id=\"T_ab0b7_row29_col2\" class=\"data row29 col2\" >1</td>\n",
       "            </tr>\n",
       "            <tr>\n",
       "                        <th id=\"T_ab0b7_level0_row30\" class=\"row_heading level0 row30\" >flea</th>\n",
       "                        <td id=\"T_ab0b7_row30_col0\" class=\"data row30 col0\" >0</td>\n",
       "                        <td id=\"T_ab0b7_row30_col1\" class=\"data row30 col1\" >1</td>\n",
       "                        <td id=\"T_ab0b7_row30_col2\" class=\"data row30 col2\" >1</td>\n",
       "            </tr>\n",
       "            <tr>\n",
       "                        <th id=\"T_ab0b7_level0_row31\" class=\"row_heading level0 row31\" >frog</th>\n",
       "                        <td id=\"T_ab0b7_row31_col0\" class=\"data row31 col0\" >0</td>\n",
       "                        <td id=\"T_ab0b7_row31_col1\" class=\"data row31 col1\" >1</td>\n",
       "                        <td id=\"T_ab0b7_row31_col2\" class=\"data row31 col2\" >1</td>\n",
       "            </tr>\n",
       "            <tr>\n",
       "                        <th id=\"T_ab0b7_level0_row32\" class=\"row_heading level0 row32\" >fruitbat</th>\n",
       "                        <td id=\"T_ab0b7_row32_col0\" class=\"data row32 col0\" >1</td>\n",
       "                        <td id=\"T_ab0b7_row32_col1\" class=\"data row32 col1\" >0</td>\n",
       "                        <td id=\"T_ab0b7_row32_col2\" class=\"data row32 col2\" >1</td>\n",
       "            </tr>\n",
       "            <tr>\n",
       "                        <th id=\"T_ab0b7_level0_row33\" class=\"row_heading level0 row33\" >giant panda</th>\n",
       "                        <td id=\"T_ab0b7_row33_col0\" class=\"data row33 col0\" >1</td>\n",
       "                        <td id=\"T_ab0b7_row33_col1\" class=\"data row33 col1\" >0</td>\n",
       "                        <td id=\"T_ab0b7_row33_col2\" class=\"data row33 col2\" >1</td>\n",
       "            </tr>\n",
       "            <tr>\n",
       "                        <th id=\"T_ab0b7_level0_row34\" class=\"row_heading level0 row34\" >giraffe</th>\n",
       "                        <td id=\"T_ab0b7_row34_col0\" class=\"data row34 col0\" >1</td>\n",
       "                        <td id=\"T_ab0b7_row34_col1\" class=\"data row34 col1\" >0</td>\n",
       "                        <td id=\"T_ab0b7_row34_col2\" class=\"data row34 col2\" >1</td>\n",
       "            </tr>\n",
       "            <tr>\n",
       "                        <th id=\"T_ab0b7_level0_row35\" class=\"row_heading level0 row35\" >gnat</th>\n",
       "                        <td id=\"T_ab0b7_row35_col0\" class=\"data row35 col0\" >0</td>\n",
       "                        <td id=\"T_ab0b7_row35_col1\" class=\"data row35 col1\" >1</td>\n",
       "                        <td id=\"T_ab0b7_row35_col2\" class=\"data row35 col2\" >1</td>\n",
       "            </tr>\n",
       "            <tr>\n",
       "                        <th id=\"T_ab0b7_level0_row36\" class=\"row_heading level0 row36\" >goat</th>\n",
       "                        <td id=\"T_ab0b7_row36_col0\" class=\"data row36 col0\" >1</td>\n",
       "                        <td id=\"T_ab0b7_row36_col1\" class=\"data row36 col1\" >0</td>\n",
       "                        <td id=\"T_ab0b7_row36_col2\" class=\"data row36 col2\" >1</td>\n",
       "            </tr>\n",
       "            <tr>\n",
       "                        <th id=\"T_ab0b7_level0_row37\" class=\"row_heading level0 row37\" >great white shark</th>\n",
       "                        <td id=\"T_ab0b7_row37_col0\" class=\"data row37 col0\" >0</td>\n",
       "                        <td id=\"T_ab0b7_row37_col1\" class=\"data row37 col1\" >1</td>\n",
       "                        <td id=\"T_ab0b7_row37_col2\" class=\"data row37 col2\" >1</td>\n",
       "            </tr>\n",
       "            <tr>\n",
       "                        <th id=\"T_ab0b7_level0_row38\" class=\"row_heading level0 row38\" >haddock</th>\n",
       "                        <td id=\"T_ab0b7_row38_col0\" class=\"data row38 col0\" >0</td>\n",
       "                        <td id=\"T_ab0b7_row38_col1\" class=\"data row38 col1\" >1</td>\n",
       "                        <td id=\"T_ab0b7_row38_col2\" class=\"data row38 col2\" >1</td>\n",
       "            </tr>\n",
       "            <tr>\n",
       "                        <th id=\"T_ab0b7_level0_row39\" class=\"row_heading level0 row39\" >hamster</th>\n",
       "                        <td id=\"T_ab0b7_row39_col0\" class=\"data row39 col0\" >1</td>\n",
       "                        <td id=\"T_ab0b7_row39_col1\" class=\"data row39 col1\" >0</td>\n",
       "                        <td id=\"T_ab0b7_row39_col2\" class=\"data row39 col2\" >1</td>\n",
       "            </tr>\n",
       "            <tr>\n",
       "                        <th id=\"T_ab0b7_level0_row40\" class=\"row_heading level0 row40\" >hare</th>\n",
       "                        <td id=\"T_ab0b7_row40_col0\" class=\"data row40 col0\" >1</td>\n",
       "                        <td id=\"T_ab0b7_row40_col1\" class=\"data row40 col1\" >0</td>\n",
       "                        <td id=\"T_ab0b7_row40_col2\" class=\"data row40 col2\" >1</td>\n",
       "            </tr>\n",
       "            <tr>\n",
       "                        <th id=\"T_ab0b7_level0_row41\" class=\"row_heading level0 row41\" >hawk</th>\n",
       "                        <td id=\"T_ab0b7_row41_col0\" class=\"data row41 col0\" >0</td>\n",
       "                        <td id=\"T_ab0b7_row41_col1\" class=\"data row41 col1\" >1</td>\n",
       "                        <td id=\"T_ab0b7_row41_col2\" class=\"data row41 col2\" >1</td>\n",
       "            </tr>\n",
       "            <tr>\n",
       "                        <th id=\"T_ab0b7_level0_row42\" class=\"row_heading level0 row42\" >hellbender</th>\n",
       "                        <td id=\"T_ab0b7_row42_col0\" class=\"data row42 col0\" >0</td>\n",
       "                        <td id=\"T_ab0b7_row42_col1\" class=\"data row42 col1\" >1</td>\n",
       "                        <td id=\"T_ab0b7_row42_col2\" class=\"data row42 col2\" >1</td>\n",
       "            </tr>\n",
       "            <tr>\n",
       "                        <th id=\"T_ab0b7_level0_row43\" class=\"row_heading level0 row43\" >honeybee</th>\n",
       "                        <td id=\"T_ab0b7_row43_col0\" class=\"data row43 col0\" >0</td>\n",
       "                        <td id=\"T_ab0b7_row43_col1\" class=\"data row43 col1\" >1</td>\n",
       "                        <td id=\"T_ab0b7_row43_col2\" class=\"data row43 col2\" >1</td>\n",
       "            </tr>\n",
       "            <tr>\n",
       "                        <th id=\"T_ab0b7_level0_row44\" class=\"row_heading level0 row44\" >human</th>\n",
       "                        <td id=\"T_ab0b7_row44_col0\" class=\"data row44 col0\" >1</td>\n",
       "                        <td id=\"T_ab0b7_row44_col1\" class=\"data row44 col1\" >0</td>\n",
       "                        <td id=\"T_ab0b7_row44_col2\" class=\"data row44 col2\" >1</td>\n",
       "            </tr>\n",
       "            <tr>\n",
       "                        <th id=\"T_ab0b7_level0_row45\" class=\"row_heading level0 row45\" >kiwi</th>\n",
       "                        <td id=\"T_ab0b7_row45_col0\" class=\"data row45 col0\" >0</td>\n",
       "                        <td id=\"T_ab0b7_row45_col1\" class=\"data row45 col1\" >1</td>\n",
       "                        <td id=\"T_ab0b7_row45_col2\" class=\"data row45 col2\" >1</td>\n",
       "            </tr>\n",
       "            <tr>\n",
       "                        <th id=\"T_ab0b7_level0_row46\" class=\"row_heading level0 row46\" >ladybird</th>\n",
       "                        <td id=\"T_ab0b7_row46_col0\" class=\"data row46 col0\" >0</td>\n",
       "                        <td id=\"T_ab0b7_row46_col1\" class=\"data row46 col1\" >1</td>\n",
       "                        <td id=\"T_ab0b7_row46_col2\" class=\"data row46 col2\" >1</td>\n",
       "            </tr>\n",
       "            <tr>\n",
       "                        <th id=\"T_ab0b7_level0_row47\" class=\"row_heading level0 row47\" >lark</th>\n",
       "                        <td id=\"T_ab0b7_row47_col0\" class=\"data row47 col0\" >0</td>\n",
       "                        <td id=\"T_ab0b7_row47_col1\" class=\"data row47 col1\" >1</td>\n",
       "                        <td id=\"T_ab0b7_row47_col2\" class=\"data row47 col2\" >1</td>\n",
       "            </tr>\n",
       "            <tr>\n",
       "                        <th id=\"T_ab0b7_level0_row48\" class=\"row_heading level0 row48\" >leopard</th>\n",
       "                        <td id=\"T_ab0b7_row48_col0\" class=\"data row48 col0\" >1</td>\n",
       "                        <td id=\"T_ab0b7_row48_col1\" class=\"data row48 col1\" >0</td>\n",
       "                        <td id=\"T_ab0b7_row48_col2\" class=\"data row48 col2\" >1</td>\n",
       "            </tr>\n",
       "            <tr>\n",
       "                        <th id=\"T_ab0b7_level0_row49\" class=\"row_heading level0 row49\" >lion</th>\n",
       "                        <td id=\"T_ab0b7_row49_col0\" class=\"data row49 col0\" >1</td>\n",
       "                        <td id=\"T_ab0b7_row49_col1\" class=\"data row49 col1\" >0</td>\n",
       "                        <td id=\"T_ab0b7_row49_col2\" class=\"data row49 col2\" >1</td>\n",
       "            </tr>\n",
       "            <tr>\n",
       "                        <th id=\"T_ab0b7_level0_row50\" class=\"row_heading level0 row50\" >lobster</th>\n",
       "                        <td id=\"T_ab0b7_row50_col0\" class=\"data row50 col0\" >0</td>\n",
       "                        <td id=\"T_ab0b7_row50_col1\" class=\"data row50 col1\" >1</td>\n",
       "                        <td id=\"T_ab0b7_row50_col2\" class=\"data row50 col2\" >1</td>\n",
       "            </tr>\n",
       "            <tr>\n",
       "                        <th id=\"T_ab0b7_level0_row51\" class=\"row_heading level0 row51\" >lynx</th>\n",
       "                        <td id=\"T_ab0b7_row51_col0\" class=\"data row51 col0\" >1</td>\n",
       "                        <td id=\"T_ab0b7_row51_col1\" class=\"data row51 col1\" >0</td>\n",
       "                        <td id=\"T_ab0b7_row51_col2\" class=\"data row51 col2\" >1</td>\n",
       "            </tr>\n",
       "            <tr>\n",
       "                        <th id=\"T_ab0b7_level0_row52\" class=\"row_heading level0 row52\" >malayan sun bear</th>\n",
       "                        <td id=\"T_ab0b7_row52_col0\" class=\"data row52 col0\" >1</td>\n",
       "                        <td id=\"T_ab0b7_row52_col1\" class=\"data row52 col1\" >0</td>\n",
       "                        <td id=\"T_ab0b7_row52_col2\" class=\"data row52 col2\" >1</td>\n",
       "            </tr>\n",
       "            <tr>\n",
       "                        <th id=\"T_ab0b7_level0_row53\" class=\"row_heading level0 row53\" >manta ray</th>\n",
       "                        <td id=\"T_ab0b7_row53_col0\" class=\"data row53 col0\" >0</td>\n",
       "                        <td id=\"T_ab0b7_row53_col1\" class=\"data row53 col1\" >1</td>\n",
       "                        <td id=\"T_ab0b7_row53_col2\" class=\"data row53 col2\" >1</td>\n",
       "            </tr>\n",
       "            <tr>\n",
       "                        <th id=\"T_ab0b7_level0_row54\" class=\"row_heading level0 row54\" >mole</th>\n",
       "                        <td id=\"T_ab0b7_row54_col0\" class=\"data row54 col0\" >1</td>\n",
       "                        <td id=\"T_ab0b7_row54_col1\" class=\"data row54 col1\" >0</td>\n",
       "                        <td id=\"T_ab0b7_row54_col2\" class=\"data row54 col2\" >1</td>\n",
       "            </tr>\n",
       "            <tr>\n",
       "                        <th id=\"T_ab0b7_level0_row55\" class=\"row_heading level0 row55\" >momo</th>\n",
       "                        <td id=\"T_ab0b7_row55_col0\" class=\"data row55 col0\" >1</td>\n",
       "                        <td id=\"T_ab0b7_row55_col1\" class=\"data row55 col1\" >0</td>\n",
       "                        <td id=\"T_ab0b7_row55_col2\" class=\"data row55 col2\" >1</td>\n",
       "            </tr>\n",
       "            <tr>\n",
       "                        <th id=\"T_ab0b7_level0_row56\" class=\"row_heading level0 row56\" >moth</th>\n",
       "                        <td id=\"T_ab0b7_row56_col0\" class=\"data row56 col0\" >0</td>\n",
       "                        <td id=\"T_ab0b7_row56_col1\" class=\"data row56 col1\" >1</td>\n",
       "                        <td id=\"T_ab0b7_row56_col2\" class=\"data row56 col2\" >1</td>\n",
       "            </tr>\n",
       "            <tr>\n",
       "                        <th id=\"T_ab0b7_level0_row57\" class=\"row_heading level0 row57\" >nessie</th>\n",
       "                        <td id=\"T_ab0b7_row57_col0\" class=\"data row57 col0\" >0</td>\n",
       "                        <td id=\"T_ab0b7_row57_col1\" class=\"data row57 col1\" >1</td>\n",
       "                        <td id=\"T_ab0b7_row57_col2\" class=\"data row57 col2\" >1</td>\n",
       "            </tr>\n",
       "            <tr>\n",
       "                        <th id=\"T_ab0b7_level0_row58\" class=\"row_heading level0 row58\" >newt</th>\n",
       "                        <td id=\"T_ab0b7_row58_col0\" class=\"data row58 col0\" >0</td>\n",
       "                        <td id=\"T_ab0b7_row58_col1\" class=\"data row58 col1\" >1</td>\n",
       "                        <td id=\"T_ab0b7_row58_col2\" class=\"data row58 col2\" >1</td>\n",
       "            </tr>\n",
       "            <tr>\n",
       "                        <th id=\"T_ab0b7_level0_row59\" class=\"row_heading level0 row59\" >octopus</th>\n",
       "                        <td id=\"T_ab0b7_row59_col0\" class=\"data row59 col0\" >0</td>\n",
       "                        <td id=\"T_ab0b7_row59_col1\" class=\"data row59 col1\" >1</td>\n",
       "                        <td id=\"T_ab0b7_row59_col2\" class=\"data row59 col2\" >1</td>\n",
       "            </tr>\n",
       "            <tr>\n",
       "                        <th id=\"T_ab0b7_level0_row60\" class=\"row_heading level0 row60\" >opossum</th>\n",
       "                        <td id=\"T_ab0b7_row60_col0\" class=\"data row60 col0\" >1</td>\n",
       "                        <td id=\"T_ab0b7_row60_col1\" class=\"data row60 col1\" >0</td>\n",
       "                        <td id=\"T_ab0b7_row60_col2\" class=\"data row60 col2\" >1</td>\n",
       "            </tr>\n",
       "            <tr>\n",
       "                        <th id=\"T_ab0b7_level0_row61\" class=\"row_heading level0 row61\" >orangutan</th>\n",
       "                        <td id=\"T_ab0b7_row61_col0\" class=\"data row61 col0\" >1</td>\n",
       "                        <td id=\"T_ab0b7_row61_col1\" class=\"data row61 col1\" >0</td>\n",
       "                        <td id=\"T_ab0b7_row61_col2\" class=\"data row61 col2\" >1</td>\n",
       "            </tr>\n",
       "            <tr>\n",
       "                        <th id=\"T_ab0b7_level0_row62\" class=\"row_heading level0 row62\" >ostrich</th>\n",
       "                        <td id=\"T_ab0b7_row62_col0\" class=\"data row62 col0\" >0</td>\n",
       "                        <td id=\"T_ab0b7_row62_col1\" class=\"data row62 col1\" >1</td>\n",
       "                        <td id=\"T_ab0b7_row62_col2\" class=\"data row62 col2\" >1</td>\n",
       "            </tr>\n",
       "            <tr>\n",
       "                        <th id=\"T_ab0b7_level0_row63\" class=\"row_heading level0 row63\" >pangolin</th>\n",
       "                        <td id=\"T_ab0b7_row63_col0\" class=\"data row63 col0\" >1</td>\n",
       "                        <td id=\"T_ab0b7_row63_col1\" class=\"data row63 col1\" >0</td>\n",
       "                        <td id=\"T_ab0b7_row63_col2\" class=\"data row63 col2\" >1</td>\n",
       "            </tr>\n",
       "            <tr>\n",
       "                        <th id=\"T_ab0b7_level0_row64\" class=\"row_heading level0 row64\" >parakeet</th>\n",
       "                        <td id=\"T_ab0b7_row64_col0\" class=\"data row64 col0\" >0</td>\n",
       "                        <td id=\"T_ab0b7_row64_col1\" class=\"data row64 col1\" >1</td>\n",
       "                        <td id=\"T_ab0b7_row64_col2\" class=\"data row64 col2\" >1</td>\n",
       "            </tr>\n",
       "            <tr>\n",
       "                        <th id=\"T_ab0b7_level0_row65\" class=\"row_heading level0 row65\" >penguin</th>\n",
       "                        <td id=\"T_ab0b7_row65_col0\" class=\"data row65 col0\" >0</td>\n",
       "                        <td id=\"T_ab0b7_row65_col1\" class=\"data row65 col1\" >1</td>\n",
       "                        <td id=\"T_ab0b7_row65_col2\" class=\"data row65 col2\" >1</td>\n",
       "            </tr>\n",
       "            <tr>\n",
       "                        <th id=\"T_ab0b7_level0_row66\" class=\"row_heading level0 row66\" >pheasant</th>\n",
       "                        <td id=\"T_ab0b7_row66_col0\" class=\"data row66 col0\" >0</td>\n",
       "                        <td id=\"T_ab0b7_row66_col1\" class=\"data row66 col1\" >1</td>\n",
       "                        <td id=\"T_ab0b7_row66_col2\" class=\"data row66 col2\" >1</td>\n",
       "            </tr>\n",
       "            <tr>\n",
       "                        <th id=\"T_ab0b7_level0_row67\" class=\"row_heading level0 row67\" >piranha</th>\n",
       "                        <td id=\"T_ab0b7_row67_col0\" class=\"data row67 col0\" >0</td>\n",
       "                        <td id=\"T_ab0b7_row67_col1\" class=\"data row67 col1\" >1</td>\n",
       "                        <td id=\"T_ab0b7_row67_col2\" class=\"data row67 col2\" >1</td>\n",
       "            </tr>\n",
       "            <tr>\n",
       "                        <th id=\"T_ab0b7_level0_row68\" class=\"row_heading level0 row68\" >pitviper</th>\n",
       "                        <td id=\"T_ab0b7_row68_col0\" class=\"data row68 col0\" >0</td>\n",
       "                        <td id=\"T_ab0b7_row68_col1\" class=\"data row68 col1\" >1</td>\n",
       "                        <td id=\"T_ab0b7_row68_col2\" class=\"data row68 col2\" >1</td>\n",
       "            </tr>\n",
       "            <tr>\n",
       "                        <th id=\"T_ab0b7_level0_row69\" class=\"row_heading level0 row69\" >platypus</th>\n",
       "                        <td id=\"T_ab0b7_row69_col0\" class=\"data row69 col0\" >1</td>\n",
       "                        <td id=\"T_ab0b7_row69_col1\" class=\"data row69 col1\" >0</td>\n",
       "                        <td id=\"T_ab0b7_row69_col2\" class=\"data row69 col2\" >1</td>\n",
       "            </tr>\n",
       "            <tr>\n",
       "                        <th id=\"T_ab0b7_level0_row70\" class=\"row_heading level0 row70\" >polecat</th>\n",
       "                        <td id=\"T_ab0b7_row70_col0\" class=\"data row70 col0\" >1</td>\n",
       "                        <td id=\"T_ab0b7_row70_col1\" class=\"data row70 col1\" >0</td>\n",
       "                        <td id=\"T_ab0b7_row70_col2\" class=\"data row70 col2\" >1</td>\n",
       "            </tr>\n",
       "            <tr>\n",
       "                        <th id=\"T_ab0b7_level0_row71\" class=\"row_heading level0 row71\" >portuguese man o' war</th>\n",
       "                        <td id=\"T_ab0b7_row71_col0\" class=\"data row71 col0\" >0</td>\n",
       "                        <td id=\"T_ab0b7_row71_col1\" class=\"data row71 col1\" >1</td>\n",
       "                        <td id=\"T_ab0b7_row71_col2\" class=\"data row71 col2\" >1</td>\n",
       "            </tr>\n",
       "            <tr>\n",
       "                        <th id=\"T_ab0b7_level0_row72\" class=\"row_heading level0 row72\" >puma</th>\n",
       "                        <td id=\"T_ab0b7_row72_col0\" class=\"data row72 col0\" >1</td>\n",
       "                        <td id=\"T_ab0b7_row72_col1\" class=\"data row72 col1\" >0</td>\n",
       "                        <td id=\"T_ab0b7_row72_col2\" class=\"data row72 col2\" >1</td>\n",
       "            </tr>\n",
       "            <tr>\n",
       "                        <th id=\"T_ab0b7_level0_row73\" class=\"row_heading level0 row73\" >raccoon</th>\n",
       "                        <td id=\"T_ab0b7_row73_col0\" class=\"data row73 col0\" >1</td>\n",
       "                        <td id=\"T_ab0b7_row73_col1\" class=\"data row73 col1\" >0</td>\n",
       "                        <td id=\"T_ab0b7_row73_col2\" class=\"data row73 col2\" >1</td>\n",
       "            </tr>\n",
       "            <tr>\n",
       "                        <th id=\"T_ab0b7_level0_row74\" class=\"row_heading level0 row74\" >red panda</th>\n",
       "                        <td id=\"T_ab0b7_row74_col0\" class=\"data row74 col0\" >1</td>\n",
       "                        <td id=\"T_ab0b7_row74_col1\" class=\"data row74 col1\" >0</td>\n",
       "                        <td id=\"T_ab0b7_row74_col2\" class=\"data row74 col2\" >1</td>\n",
       "            </tr>\n",
       "            <tr>\n",
       "                        <th id=\"T_ab0b7_level0_row75\" class=\"row_heading level0 row75\" >rhea</th>\n",
       "                        <td id=\"T_ab0b7_row75_col0\" class=\"data row75 col0\" >0</td>\n",
       "                        <td id=\"T_ab0b7_row75_col1\" class=\"data row75 col1\" >1</td>\n",
       "                        <td id=\"T_ab0b7_row75_col2\" class=\"data row75 col2\" >1</td>\n",
       "            </tr>\n",
       "            <tr>\n",
       "                        <th id=\"T_ab0b7_level0_row76\" class=\"row_heading level0 row76\" >scorpion</th>\n",
       "                        <td id=\"T_ab0b7_row76_col0\" class=\"data row76 col0\" >0</td>\n",
       "                        <td id=\"T_ab0b7_row76_col1\" class=\"data row76 col1\" >1</td>\n",
       "                        <td id=\"T_ab0b7_row76_col2\" class=\"data row76 col2\" >1</td>\n",
       "            </tr>\n",
       "            <tr>\n",
       "                        <th id=\"T_ab0b7_level0_row77\" class=\"row_heading level0 row77\" >sea anemone</th>\n",
       "                        <td id=\"T_ab0b7_row77_col0\" class=\"data row77 col0\" >0</td>\n",
       "                        <td id=\"T_ab0b7_row77_col1\" class=\"data row77 col1\" >1</td>\n",
       "                        <td id=\"T_ab0b7_row77_col2\" class=\"data row77 col2\" >1</td>\n",
       "            </tr>\n",
       "            <tr>\n",
       "                        <th id=\"T_ab0b7_level0_row78\" class=\"row_heading level0 row78\" >sea cucumber</th>\n",
       "                        <td id=\"T_ab0b7_row78_col0\" class=\"data row78 col0\" >0</td>\n",
       "                        <td id=\"T_ab0b7_row78_col1\" class=\"data row78 col1\" >1</td>\n",
       "                        <td id=\"T_ab0b7_row78_col2\" class=\"data row78 col2\" >1</td>\n",
       "            </tr>\n",
       "            <tr>\n",
       "                        <th id=\"T_ab0b7_level0_row79\" class=\"row_heading level0 row79\" >seahorse</th>\n",
       "                        <td id=\"T_ab0b7_row79_col0\" class=\"data row79 col0\" >0</td>\n",
       "                        <td id=\"T_ab0b7_row79_col1\" class=\"data row79 col1\" >1</td>\n",
       "                        <td id=\"T_ab0b7_row79_col2\" class=\"data row79 col2\" >1</td>\n",
       "            </tr>\n",
       "            <tr>\n",
       "                        <th id=\"T_ab0b7_level0_row80\" class=\"row_heading level0 row80\" >seal</th>\n",
       "                        <td id=\"T_ab0b7_row80_col0\" class=\"data row80 col0\" >1</td>\n",
       "                        <td id=\"T_ab0b7_row80_col1\" class=\"data row80 col1\" >0</td>\n",
       "                        <td id=\"T_ab0b7_row80_col2\" class=\"data row80 col2\" >1</td>\n",
       "            </tr>\n",
       "            <tr>\n",
       "                        <th id=\"T_ab0b7_level0_row81\" class=\"row_heading level0 row81\" >sealion</th>\n",
       "                        <td id=\"T_ab0b7_row81_col0\" class=\"data row81 col0\" >1</td>\n",
       "                        <td id=\"T_ab0b7_row81_col1\" class=\"data row81 col1\" >0</td>\n",
       "                        <td id=\"T_ab0b7_row81_col2\" class=\"data row81 col2\" >1</td>\n",
       "            </tr>\n",
       "            <tr>\n",
       "                        <th id=\"T_ab0b7_level0_row82\" class=\"row_heading level0 row82\" >seasnake</th>\n",
       "                        <td id=\"T_ab0b7_row82_col0\" class=\"data row82 col0\" >0</td>\n",
       "                        <td id=\"T_ab0b7_row82_col1\" class=\"data row82 col1\" >1</td>\n",
       "                        <td id=\"T_ab0b7_row82_col2\" class=\"data row82 col2\" >1</td>\n",
       "            </tr>\n",
       "            <tr>\n",
       "                        <th id=\"T_ab0b7_level0_row83\" class=\"row_heading level0 row83\" >seawasp</th>\n",
       "                        <td id=\"T_ab0b7_row83_col0\" class=\"data row83 col0\" >0</td>\n",
       "                        <td id=\"T_ab0b7_row83_col1\" class=\"data row83 col1\" >1</td>\n",
       "                        <td id=\"T_ab0b7_row83_col2\" class=\"data row83 col2\" >1</td>\n",
       "            </tr>\n",
       "            <tr>\n",
       "                        <th id=\"T_ab0b7_level0_row84\" class=\"row_heading level0 row84\" >skimmer</th>\n",
       "                        <td id=\"T_ab0b7_row84_col0\" class=\"data row84 col0\" >0</td>\n",
       "                        <td id=\"T_ab0b7_row84_col1\" class=\"data row84 col1\" >1</td>\n",
       "                        <td id=\"T_ab0b7_row84_col2\" class=\"data row84 col2\" >1</td>\n",
       "            </tr>\n",
       "            <tr>\n",
       "                        <th id=\"T_ab0b7_level0_row85\" class=\"row_heading level0 row85\" >skink</th>\n",
       "                        <td id=\"T_ab0b7_row85_col0\" class=\"data row85 col0\" >0</td>\n",
       "                        <td id=\"T_ab0b7_row85_col1\" class=\"data row85 col1\" >1</td>\n",
       "                        <td id=\"T_ab0b7_row85_col2\" class=\"data row85 col2\" >1</td>\n",
       "            </tr>\n",
       "            <tr>\n",
       "                        <th id=\"T_ab0b7_level0_row86\" class=\"row_heading level0 row86\" >slowworm</th>\n",
       "                        <td id=\"T_ab0b7_row86_col0\" class=\"data row86 col0\" >0</td>\n",
       "                        <td id=\"T_ab0b7_row86_col1\" class=\"data row86 col1\" >1</td>\n",
       "                        <td id=\"T_ab0b7_row86_col2\" class=\"data row86 col2\" >1</td>\n",
       "            </tr>\n",
       "            <tr>\n",
       "                        <th id=\"T_ab0b7_level0_row87\" class=\"row_heading level0 row87\" >slug</th>\n",
       "                        <td id=\"T_ab0b7_row87_col0\" class=\"data row87 col0\" >0</td>\n",
       "                        <td id=\"T_ab0b7_row87_col1\" class=\"data row87 col1\" >1</td>\n",
       "                        <td id=\"T_ab0b7_row87_col2\" class=\"data row87 col2\" >1</td>\n",
       "            </tr>\n",
       "            <tr>\n",
       "                        <th id=\"T_ab0b7_level0_row88\" class=\"row_heading level0 row88\" >sparrow</th>\n",
       "                        <td id=\"T_ab0b7_row88_col0\" class=\"data row88 col0\" >0</td>\n",
       "                        <td id=\"T_ab0b7_row88_col1\" class=\"data row88 col1\" >1</td>\n",
       "                        <td id=\"T_ab0b7_row88_col2\" class=\"data row88 col2\" >1</td>\n",
       "            </tr>\n",
       "            <tr>\n",
       "                        <th id=\"T_ab0b7_level0_row89\" class=\"row_heading level0 row89\" >squid</th>\n",
       "                        <td id=\"T_ab0b7_row89_col0\" class=\"data row89 col0\" >0</td>\n",
       "                        <td id=\"T_ab0b7_row89_col1\" class=\"data row89 col1\" >1</td>\n",
       "                        <td id=\"T_ab0b7_row89_col2\" class=\"data row89 col2\" >1</td>\n",
       "            </tr>\n",
       "            <tr>\n",
       "                        <th id=\"T_ab0b7_level0_row90\" class=\"row_heading level0 row90\" >starfish</th>\n",
       "                        <td id=\"T_ab0b7_row90_col0\" class=\"data row90 col0\" >0</td>\n",
       "                        <td id=\"T_ab0b7_row90_col1\" class=\"data row90 col1\" >1</td>\n",
       "                        <td id=\"T_ab0b7_row90_col2\" class=\"data row90 col2\" >1</td>\n",
       "            </tr>\n",
       "            <tr>\n",
       "                        <th id=\"T_ab0b7_level0_row91\" class=\"row_heading level0 row91\" >stingray</th>\n",
       "                        <td id=\"T_ab0b7_row91_col0\" class=\"data row91 col0\" >0</td>\n",
       "                        <td id=\"T_ab0b7_row91_col1\" class=\"data row91 col1\" >1</td>\n",
       "                        <td id=\"T_ab0b7_row91_col2\" class=\"data row91 col2\" >1</td>\n",
       "            </tr>\n",
       "            <tr>\n",
       "                        <th id=\"T_ab0b7_level0_row92\" class=\"row_heading level0 row92\" >swan</th>\n",
       "                        <td id=\"T_ab0b7_row92_col0\" class=\"data row92 col0\" >0</td>\n",
       "                        <td id=\"T_ab0b7_row92_col1\" class=\"data row92 col1\" >1</td>\n",
       "                        <td id=\"T_ab0b7_row92_col2\" class=\"data row92 col2\" >1</td>\n",
       "            </tr>\n",
       "            <tr>\n",
       "                        <th id=\"T_ab0b7_level0_row93\" class=\"row_heading level0 row93\" >termite</th>\n",
       "                        <td id=\"T_ab0b7_row93_col0\" class=\"data row93 col0\" >0</td>\n",
       "                        <td id=\"T_ab0b7_row93_col1\" class=\"data row93 col1\" >1</td>\n",
       "                        <td id=\"T_ab0b7_row93_col2\" class=\"data row93 col2\" >1</td>\n",
       "            </tr>\n",
       "            <tr>\n",
       "                        <th id=\"T_ab0b7_level0_row94\" class=\"row_heading level0 row94\" >thylacine</th>\n",
       "                        <td id=\"T_ab0b7_row94_col0\" class=\"data row94 col0\" >1</td>\n",
       "                        <td id=\"T_ab0b7_row94_col1\" class=\"data row94 col1\" >0</td>\n",
       "                        <td id=\"T_ab0b7_row94_col2\" class=\"data row94 col2\" >1</td>\n",
       "            </tr>\n",
       "            <tr>\n",
       "                        <th id=\"T_ab0b7_level0_row95\" class=\"row_heading level0 row95\" >tortoise</th>\n",
       "                        <td id=\"T_ab0b7_row95_col0\" class=\"data row95 col0\" >0</td>\n",
       "                        <td id=\"T_ab0b7_row95_col1\" class=\"data row95 col1\" >1</td>\n",
       "                        <td id=\"T_ab0b7_row95_col2\" class=\"data row95 col2\" >1</td>\n",
       "            </tr>\n",
       "            <tr>\n",
       "                        <th id=\"T_ab0b7_level0_row96\" class=\"row_heading level0 row96\" >tuatara</th>\n",
       "                        <td id=\"T_ab0b7_row96_col0\" class=\"data row96 col0\" >0</td>\n",
       "                        <td id=\"T_ab0b7_row96_col1\" class=\"data row96 col1\" >1</td>\n",
       "                        <td id=\"T_ab0b7_row96_col2\" class=\"data row96 col2\" >1</td>\n",
       "            </tr>\n",
       "            <tr>\n",
       "                        <th id=\"T_ab0b7_level0_row97\" class=\"row_heading level0 row97\" >tuna</th>\n",
       "                        <td id=\"T_ab0b7_row97_col0\" class=\"data row97 col0\" >0</td>\n",
       "                        <td id=\"T_ab0b7_row97_col1\" class=\"data row97 col1\" >1</td>\n",
       "                        <td id=\"T_ab0b7_row97_col2\" class=\"data row97 col2\" >1</td>\n",
       "            </tr>\n",
       "            <tr>\n",
       "                        <th id=\"T_ab0b7_level0_row98\" class=\"row_heading level0 row98\" >vole</th>\n",
       "                        <td id=\"T_ab0b7_row98_col0\" class=\"data row98 col0\" >1</td>\n",
       "                        <td id=\"T_ab0b7_row98_col1\" class=\"data row98 col1\" >0</td>\n",
       "                        <td id=\"T_ab0b7_row98_col2\" class=\"data row98 col2\" >1</td>\n",
       "            </tr>\n",
       "            <tr>\n",
       "                        <th id=\"T_ab0b7_level0_row99\" class=\"row_heading level0 row99\" >wasp</th>\n",
       "                        <td id=\"T_ab0b7_row99_col0\" class=\"data row99 col0\" >0</td>\n",
       "                        <td id=\"T_ab0b7_row99_col1\" class=\"data row99 col1\" >1</td>\n",
       "                        <td id=\"T_ab0b7_row99_col2\" class=\"data row99 col2\" >1</td>\n",
       "            </tr>\n",
       "            <tr>\n",
       "                        <th id=\"T_ab0b7_level0_row100\" class=\"row_heading level0 row100\" >whale shark</th>\n",
       "                        <td id=\"T_ab0b7_row100_col0\" class=\"data row100 col0\" >0</td>\n",
       "                        <td id=\"T_ab0b7_row100_col1\" class=\"data row100 col1\" >1</td>\n",
       "                        <td id=\"T_ab0b7_row100_col2\" class=\"data row100 col2\" >1</td>\n",
       "            </tr>\n",
       "            <tr>\n",
       "                        <th id=\"T_ab0b7_level0_row101\" class=\"row_heading level0 row101\" >wolf</th>\n",
       "                        <td id=\"T_ab0b7_row101_col0\" class=\"data row101 col0\" >1</td>\n",
       "                        <td id=\"T_ab0b7_row101_col1\" class=\"data row101 col1\" >0</td>\n",
       "                        <td id=\"T_ab0b7_row101_col2\" class=\"data row101 col2\" >1</td>\n",
       "            </tr>\n",
       "            <tr>\n",
       "                        <th id=\"T_ab0b7_level0_row102\" class=\"row_heading level0 row102\" >worm</th>\n",
       "                        <td id=\"T_ab0b7_row102_col0\" class=\"data row102 col0\" >0</td>\n",
       "                        <td id=\"T_ab0b7_row102_col1\" class=\"data row102 col1\" >1</td>\n",
       "                        <td id=\"T_ab0b7_row102_col2\" class=\"data row102 col2\" >1</td>\n",
       "            </tr>\n",
       "            <tr>\n",
       "                        <th id=\"T_ab0b7_level0_row103\" class=\"row_heading level0 row103\" >wren</th>\n",
       "                        <td id=\"T_ab0b7_row103_col0\" class=\"data row103 col0\" >0</td>\n",
       "                        <td id=\"T_ab0b7_row103_col1\" class=\"data row103 col1\" >1</td>\n",
       "                        <td id=\"T_ab0b7_row103_col2\" class=\"data row103 col2\" >1</td>\n",
       "            </tr>\n",
       "            <tr>\n",
       "                        <th id=\"T_ab0b7_level0_row104\" class=\"row_heading level0 row104\" >All</th>\n",
       "                        <td id=\"T_ab0b7_row104_col0\" class=\"data row104 col0\" >39</td>\n",
       "                        <td id=\"T_ab0b7_row104_col1\" class=\"data row104 col1\" >65</td>\n",
       "                        <td id=\"T_ab0b7_row104_col2\" class=\"data row104 col2\" >104</td>\n",
       "            </tr>\n",
       "    </tbody></table>"
      ],
      "text/plain": [
       "<pandas.io.formats.style.Styler at 0xf00f6d0>"
      ]
     },
     "metadata": {},
     "output_type": "display_data"
    },
    {
     "data": {
      "text/html": [
       "<style  type=\"text/css\" >\n",
       "</style><table id=\"T_10836_\" ><caption>Rule set for animal name</caption><thead>    <tr>        <th class=\"blank level0\" ></th>        <th class=\"col_heading level0 col0\" >rule</th>        <th class=\"col_heading level0 col1\" >error</th>    </tr>    <tr>        <th class=\"index_name level0\" >animal name</th>        <th class=\"blank\" ></th>        <th class=\"blank\" ></th>    </tr></thead><tbody>\n",
       "                <tr>\n",
       "                        <th id=\"T_10836_level0_row0\" class=\"row_heading level0 row0\" >aardvark</th>\n",
       "                        <td id=\"T_10836_row0_col0\" class=\"data row0 col0\" >mammal</td>\n",
       "                        <td id=\"T_10836_row0_col1\" class=\"data row0 col1\" >0</td>\n",
       "            </tr>\n",
       "            <tr>\n",
       "                        <th id=\"T_10836_level0_row1\" class=\"row_heading level0 row1\" >anole</th>\n",
       "                        <td id=\"T_10836_row1_col0\" class=\"data row1 col0\" >non-mammal</td>\n",
       "                        <td id=\"T_10836_row1_col1\" class=\"data row1 col1\" >0</td>\n",
       "            </tr>\n",
       "            <tr>\n",
       "                        <th id=\"T_10836_level0_row2\" class=\"row_heading level0 row2\" >antelope</th>\n",
       "                        <td id=\"T_10836_row2_col0\" class=\"data row2 col0\" >mammal</td>\n",
       "                        <td id=\"T_10836_row2_col1\" class=\"data row2 col1\" >0</td>\n",
       "            </tr>\n",
       "            <tr>\n",
       "                        <th id=\"T_10836_level0_row3\" class=\"row_heading level0 row3\" >axolotl</th>\n",
       "                        <td id=\"T_10836_row3_col0\" class=\"data row3 col0\" >non-mammal</td>\n",
       "                        <td id=\"T_10836_row3_col1\" class=\"data row3 col1\" >0</td>\n",
       "            </tr>\n",
       "            <tr>\n",
       "                        <th id=\"T_10836_level0_row4\" class=\"row_heading level0 row4\" >bear</th>\n",
       "                        <td id=\"T_10836_row4_col0\" class=\"data row4 col0\" >mammal</td>\n",
       "                        <td id=\"T_10836_row4_col1\" class=\"data row4 col1\" >0</td>\n",
       "            </tr>\n",
       "            <tr>\n",
       "                        <th id=\"T_10836_level0_row5\" class=\"row_heading level0 row5\" >blue dragon</th>\n",
       "                        <td id=\"T_10836_row5_col0\" class=\"data row5 col0\" >non-mammal</td>\n",
       "                        <td id=\"T_10836_row5_col1\" class=\"data row5 col1\" >0</td>\n",
       "            </tr>\n",
       "            <tr>\n",
       "                        <th id=\"T_10836_level0_row6\" class=\"row_heading level0 row6\" >boar</th>\n",
       "                        <td id=\"T_10836_row6_col0\" class=\"data row6 col0\" >mammal</td>\n",
       "                        <td id=\"T_10836_row6_col1\" class=\"data row6 col1\" >0</td>\n",
       "            </tr>\n",
       "            <tr>\n",
       "                        <th id=\"T_10836_level0_row7\" class=\"row_heading level0 row7\" >buffalo</th>\n",
       "                        <td id=\"T_10836_row7_col0\" class=\"data row7 col0\" >mammal</td>\n",
       "                        <td id=\"T_10836_row7_col1\" class=\"data row7 col1\" >0</td>\n",
       "            </tr>\n",
       "            <tr>\n",
       "                        <th id=\"T_10836_level0_row8\" class=\"row_heading level0 row8\" >caecilians</th>\n",
       "                        <td id=\"T_10836_row8_col0\" class=\"data row8 col0\" >non-mammal</td>\n",
       "                        <td id=\"T_10836_row8_col1\" class=\"data row8 col1\" >0</td>\n",
       "            </tr>\n",
       "            <tr>\n",
       "                        <th id=\"T_10836_level0_row9\" class=\"row_heading level0 row9\" >capybara</th>\n",
       "                        <td id=\"T_10836_row9_col0\" class=\"data row9 col0\" >mammal</td>\n",
       "                        <td id=\"T_10836_row9_col1\" class=\"data row9 col1\" >0</td>\n",
       "            </tr>\n",
       "            <tr>\n",
       "                        <th id=\"T_10836_level0_row10\" class=\"row_heading level0 row10\" >carp</th>\n",
       "                        <td id=\"T_10836_row10_col0\" class=\"data row10 col0\" >non-mammal</td>\n",
       "                        <td id=\"T_10836_row10_col1\" class=\"data row10 col1\" >0</td>\n",
       "            </tr>\n",
       "            <tr>\n",
       "                        <th id=\"T_10836_level0_row11\" class=\"row_heading level0 row11\" >catfish</th>\n",
       "                        <td id=\"T_10836_row11_col0\" class=\"data row11 col0\" >non-mammal</td>\n",
       "                        <td id=\"T_10836_row11_col1\" class=\"data row11 col1\" >0</td>\n",
       "            </tr>\n",
       "            <tr>\n",
       "                        <th id=\"T_10836_level0_row12\" class=\"row_heading level0 row12\" >cavy</th>\n",
       "                        <td id=\"T_10836_row12_col0\" class=\"data row12 col0\" >mammal</td>\n",
       "                        <td id=\"T_10836_row12_col1\" class=\"data row12 col1\" >0</td>\n",
       "            </tr>\n",
       "            <tr>\n",
       "                        <th id=\"T_10836_level0_row13\" class=\"row_heading level0 row13\" >cayman</th>\n",
       "                        <td id=\"T_10836_row13_col0\" class=\"data row13 col0\" >non-mammal</td>\n",
       "                        <td id=\"T_10836_row13_col1\" class=\"data row13 col1\" >0</td>\n",
       "            </tr>\n",
       "            <tr>\n",
       "                        <th id=\"T_10836_level0_row14\" class=\"row_heading level0 row14\" >cheetah</th>\n",
       "                        <td id=\"T_10836_row14_col0\" class=\"data row14 col0\" >mammal</td>\n",
       "                        <td id=\"T_10836_row14_col1\" class=\"data row14 col1\" >0</td>\n",
       "            </tr>\n",
       "            <tr>\n",
       "                        <th id=\"T_10836_level0_row15\" class=\"row_heading level0 row15\" >chicken</th>\n",
       "                        <td id=\"T_10836_row15_col0\" class=\"data row15 col0\" >non-mammal</td>\n",
       "                        <td id=\"T_10836_row15_col1\" class=\"data row15 col1\" >0</td>\n",
       "            </tr>\n",
       "            <tr>\n",
       "                        <th id=\"T_10836_level0_row16\" class=\"row_heading level0 row16\" >chub</th>\n",
       "                        <td id=\"T_10836_row16_col0\" class=\"data row16 col0\" >non-mammal</td>\n",
       "                        <td id=\"T_10836_row16_col1\" class=\"data row16 col1\" >0</td>\n",
       "            </tr>\n",
       "            <tr>\n",
       "                        <th id=\"T_10836_level0_row17\" class=\"row_heading level0 row17\" >chupacabra</th>\n",
       "                        <td id=\"T_10836_row17_col0\" class=\"data row17 col0\" >mammal</td>\n",
       "                        <td id=\"T_10836_row17_col1\" class=\"data row17 col1\" >0</td>\n",
       "            </tr>\n",
       "            <tr>\n",
       "                        <th id=\"T_10836_level0_row18\" class=\"row_heading level0 row18\" >clam</th>\n",
       "                        <td id=\"T_10836_row18_col0\" class=\"data row18 col0\" >non-mammal</td>\n",
       "                        <td id=\"T_10836_row18_col1\" class=\"data row18 col1\" >0</td>\n",
       "            </tr>\n",
       "            <tr>\n",
       "                        <th id=\"T_10836_level0_row19\" class=\"row_heading level0 row19\" >cow</th>\n",
       "                        <td id=\"T_10836_row19_col0\" class=\"data row19 col0\" >mammal</td>\n",
       "                        <td id=\"T_10836_row19_col1\" class=\"data row19 col1\" >0</td>\n",
       "            </tr>\n",
       "            <tr>\n",
       "                        <th id=\"T_10836_level0_row20\" class=\"row_heading level0 row20\" >crab</th>\n",
       "                        <td id=\"T_10836_row20_col0\" class=\"data row20 col0\" >non-mammal</td>\n",
       "                        <td id=\"T_10836_row20_col1\" class=\"data row20 col1\" >0</td>\n",
       "            </tr>\n",
       "            <tr>\n",
       "                        <th id=\"T_10836_level0_row21\" class=\"row_heading level0 row21\" >crayfish</th>\n",
       "                        <td id=\"T_10836_row21_col0\" class=\"data row21 col0\" >non-mammal</td>\n",
       "                        <td id=\"T_10836_row21_col1\" class=\"data row21 col1\" >0</td>\n",
       "            </tr>\n",
       "            <tr>\n",
       "                        <th id=\"T_10836_level0_row22\" class=\"row_heading level0 row22\" >crow</th>\n",
       "                        <td id=\"T_10836_row22_col0\" class=\"data row22 col0\" >non-mammal</td>\n",
       "                        <td id=\"T_10836_row22_col1\" class=\"data row22 col1\" >0</td>\n",
       "            </tr>\n",
       "            <tr>\n",
       "                        <th id=\"T_10836_level0_row23\" class=\"row_heading level0 row23\" >cuttlefish</th>\n",
       "                        <td id=\"T_10836_row23_col0\" class=\"data row23 col0\" >non-mammal</td>\n",
       "                        <td id=\"T_10836_row23_col1\" class=\"data row23 col1\" >0</td>\n",
       "            </tr>\n",
       "            <tr>\n",
       "                        <th id=\"T_10836_level0_row24\" class=\"row_heading level0 row24\" >dartfrog</th>\n",
       "                        <td id=\"T_10836_row24_col0\" class=\"data row24 col0\" >non-mammal</td>\n",
       "                        <td id=\"T_10836_row24_col1\" class=\"data row24 col1\" >0</td>\n",
       "            </tr>\n",
       "            <tr>\n",
       "                        <th id=\"T_10836_level0_row25\" class=\"row_heading level0 row25\" >deer</th>\n",
       "                        <td id=\"T_10836_row25_col0\" class=\"data row25 col0\" >mammal</td>\n",
       "                        <td id=\"T_10836_row25_col1\" class=\"data row25 col1\" >0</td>\n",
       "            </tr>\n",
       "            <tr>\n",
       "                        <th id=\"T_10836_level0_row26\" class=\"row_heading level0 row26\" >dogfish</th>\n",
       "                        <td id=\"T_10836_row26_col0\" class=\"data row26 col0\" >non-mammal</td>\n",
       "                        <td id=\"T_10836_row26_col1\" class=\"data row26 col1\" >0</td>\n",
       "            </tr>\n",
       "            <tr>\n",
       "                        <th id=\"T_10836_level0_row27\" class=\"row_heading level0 row27\" >dolphin</th>\n",
       "                        <td id=\"T_10836_row27_col0\" class=\"data row27 col0\" >mammal</td>\n",
       "                        <td id=\"T_10836_row27_col1\" class=\"data row27 col1\" >0</td>\n",
       "            </tr>\n",
       "            <tr>\n",
       "                        <th id=\"T_10836_level0_row28\" class=\"row_heading level0 row28\" >dove</th>\n",
       "                        <td id=\"T_10836_row28_col0\" class=\"data row28 col0\" >non-mammal</td>\n",
       "                        <td id=\"T_10836_row28_col1\" class=\"data row28 col1\" >0</td>\n",
       "            </tr>\n",
       "            <tr>\n",
       "                        <th id=\"T_10836_level0_row29\" class=\"row_heading level0 row29\" >elephant</th>\n",
       "                        <td id=\"T_10836_row29_col0\" class=\"data row29 col0\" >mammal</td>\n",
       "                        <td id=\"T_10836_row29_col1\" class=\"data row29 col1\" >0</td>\n",
       "            </tr>\n",
       "            <tr>\n",
       "                        <th id=\"T_10836_level0_row30\" class=\"row_heading level0 row30\" >flea</th>\n",
       "                        <td id=\"T_10836_row30_col0\" class=\"data row30 col0\" >non-mammal</td>\n",
       "                        <td id=\"T_10836_row30_col1\" class=\"data row30 col1\" >0</td>\n",
       "            </tr>\n",
       "            <tr>\n",
       "                        <th id=\"T_10836_level0_row31\" class=\"row_heading level0 row31\" >frog</th>\n",
       "                        <td id=\"T_10836_row31_col0\" class=\"data row31 col0\" >non-mammal</td>\n",
       "                        <td id=\"T_10836_row31_col1\" class=\"data row31 col1\" >0</td>\n",
       "            </tr>\n",
       "            <tr>\n",
       "                        <th id=\"T_10836_level0_row32\" class=\"row_heading level0 row32\" >fruitbat</th>\n",
       "                        <td id=\"T_10836_row32_col0\" class=\"data row32 col0\" >mammal</td>\n",
       "                        <td id=\"T_10836_row32_col1\" class=\"data row32 col1\" >0</td>\n",
       "            </tr>\n",
       "            <tr>\n",
       "                        <th id=\"T_10836_level0_row33\" class=\"row_heading level0 row33\" >giant panda</th>\n",
       "                        <td id=\"T_10836_row33_col0\" class=\"data row33 col0\" >mammal</td>\n",
       "                        <td id=\"T_10836_row33_col1\" class=\"data row33 col1\" >0</td>\n",
       "            </tr>\n",
       "            <tr>\n",
       "                        <th id=\"T_10836_level0_row34\" class=\"row_heading level0 row34\" >giraffe</th>\n",
       "                        <td id=\"T_10836_row34_col0\" class=\"data row34 col0\" >mammal</td>\n",
       "                        <td id=\"T_10836_row34_col1\" class=\"data row34 col1\" >0</td>\n",
       "            </tr>\n",
       "            <tr>\n",
       "                        <th id=\"T_10836_level0_row35\" class=\"row_heading level0 row35\" >gnat</th>\n",
       "                        <td id=\"T_10836_row35_col0\" class=\"data row35 col0\" >non-mammal</td>\n",
       "                        <td id=\"T_10836_row35_col1\" class=\"data row35 col1\" >0</td>\n",
       "            </tr>\n",
       "            <tr>\n",
       "                        <th id=\"T_10836_level0_row36\" class=\"row_heading level0 row36\" >goat</th>\n",
       "                        <td id=\"T_10836_row36_col0\" class=\"data row36 col0\" >mammal</td>\n",
       "                        <td id=\"T_10836_row36_col1\" class=\"data row36 col1\" >0</td>\n",
       "            </tr>\n",
       "            <tr>\n",
       "                        <th id=\"T_10836_level0_row37\" class=\"row_heading level0 row37\" >great white shark</th>\n",
       "                        <td id=\"T_10836_row37_col0\" class=\"data row37 col0\" >non-mammal</td>\n",
       "                        <td id=\"T_10836_row37_col1\" class=\"data row37 col1\" >0</td>\n",
       "            </tr>\n",
       "            <tr>\n",
       "                        <th id=\"T_10836_level0_row38\" class=\"row_heading level0 row38\" >haddock</th>\n",
       "                        <td id=\"T_10836_row38_col0\" class=\"data row38 col0\" >non-mammal</td>\n",
       "                        <td id=\"T_10836_row38_col1\" class=\"data row38 col1\" >0</td>\n",
       "            </tr>\n",
       "            <tr>\n",
       "                        <th id=\"T_10836_level0_row39\" class=\"row_heading level0 row39\" >hamster</th>\n",
       "                        <td id=\"T_10836_row39_col0\" class=\"data row39 col0\" >mammal</td>\n",
       "                        <td id=\"T_10836_row39_col1\" class=\"data row39 col1\" >0</td>\n",
       "            </tr>\n",
       "            <tr>\n",
       "                        <th id=\"T_10836_level0_row40\" class=\"row_heading level0 row40\" >hare</th>\n",
       "                        <td id=\"T_10836_row40_col0\" class=\"data row40 col0\" >mammal</td>\n",
       "                        <td id=\"T_10836_row40_col1\" class=\"data row40 col1\" >0</td>\n",
       "            </tr>\n",
       "            <tr>\n",
       "                        <th id=\"T_10836_level0_row41\" class=\"row_heading level0 row41\" >hawk</th>\n",
       "                        <td id=\"T_10836_row41_col0\" class=\"data row41 col0\" >non-mammal</td>\n",
       "                        <td id=\"T_10836_row41_col1\" class=\"data row41 col1\" >0</td>\n",
       "            </tr>\n",
       "            <tr>\n",
       "                        <th id=\"T_10836_level0_row42\" class=\"row_heading level0 row42\" >hellbender</th>\n",
       "                        <td id=\"T_10836_row42_col0\" class=\"data row42 col0\" >non-mammal</td>\n",
       "                        <td id=\"T_10836_row42_col1\" class=\"data row42 col1\" >0</td>\n",
       "            </tr>\n",
       "            <tr>\n",
       "                        <th id=\"T_10836_level0_row43\" class=\"row_heading level0 row43\" >honeybee</th>\n",
       "                        <td id=\"T_10836_row43_col0\" class=\"data row43 col0\" >non-mammal</td>\n",
       "                        <td id=\"T_10836_row43_col1\" class=\"data row43 col1\" >0</td>\n",
       "            </tr>\n",
       "            <tr>\n",
       "                        <th id=\"T_10836_level0_row44\" class=\"row_heading level0 row44\" >human</th>\n",
       "                        <td id=\"T_10836_row44_col0\" class=\"data row44 col0\" >mammal</td>\n",
       "                        <td id=\"T_10836_row44_col1\" class=\"data row44 col1\" >0</td>\n",
       "            </tr>\n",
       "            <tr>\n",
       "                        <th id=\"T_10836_level0_row45\" class=\"row_heading level0 row45\" >kiwi</th>\n",
       "                        <td id=\"T_10836_row45_col0\" class=\"data row45 col0\" >non-mammal</td>\n",
       "                        <td id=\"T_10836_row45_col1\" class=\"data row45 col1\" >0</td>\n",
       "            </tr>\n",
       "            <tr>\n",
       "                        <th id=\"T_10836_level0_row46\" class=\"row_heading level0 row46\" >ladybird</th>\n",
       "                        <td id=\"T_10836_row46_col0\" class=\"data row46 col0\" >non-mammal</td>\n",
       "                        <td id=\"T_10836_row46_col1\" class=\"data row46 col1\" >0</td>\n",
       "            </tr>\n",
       "            <tr>\n",
       "                        <th id=\"T_10836_level0_row47\" class=\"row_heading level0 row47\" >lark</th>\n",
       "                        <td id=\"T_10836_row47_col0\" class=\"data row47 col0\" >non-mammal</td>\n",
       "                        <td id=\"T_10836_row47_col1\" class=\"data row47 col1\" >0</td>\n",
       "            </tr>\n",
       "            <tr>\n",
       "                        <th id=\"T_10836_level0_row48\" class=\"row_heading level0 row48\" >leopard</th>\n",
       "                        <td id=\"T_10836_row48_col0\" class=\"data row48 col0\" >mammal</td>\n",
       "                        <td id=\"T_10836_row48_col1\" class=\"data row48 col1\" >0</td>\n",
       "            </tr>\n",
       "            <tr>\n",
       "                        <th id=\"T_10836_level0_row49\" class=\"row_heading level0 row49\" >lion</th>\n",
       "                        <td id=\"T_10836_row49_col0\" class=\"data row49 col0\" >mammal</td>\n",
       "                        <td id=\"T_10836_row49_col1\" class=\"data row49 col1\" >0</td>\n",
       "            </tr>\n",
       "            <tr>\n",
       "                        <th id=\"T_10836_level0_row50\" class=\"row_heading level0 row50\" >lobster</th>\n",
       "                        <td id=\"T_10836_row50_col0\" class=\"data row50 col0\" >non-mammal</td>\n",
       "                        <td id=\"T_10836_row50_col1\" class=\"data row50 col1\" >0</td>\n",
       "            </tr>\n",
       "            <tr>\n",
       "                        <th id=\"T_10836_level0_row51\" class=\"row_heading level0 row51\" >lynx</th>\n",
       "                        <td id=\"T_10836_row51_col0\" class=\"data row51 col0\" >mammal</td>\n",
       "                        <td id=\"T_10836_row51_col1\" class=\"data row51 col1\" >0</td>\n",
       "            </tr>\n",
       "            <tr>\n",
       "                        <th id=\"T_10836_level0_row52\" class=\"row_heading level0 row52\" >malayan sun bear</th>\n",
       "                        <td id=\"T_10836_row52_col0\" class=\"data row52 col0\" >mammal</td>\n",
       "                        <td id=\"T_10836_row52_col1\" class=\"data row52 col1\" >0</td>\n",
       "            </tr>\n",
       "            <tr>\n",
       "                        <th id=\"T_10836_level0_row53\" class=\"row_heading level0 row53\" >manta ray</th>\n",
       "                        <td id=\"T_10836_row53_col0\" class=\"data row53 col0\" >non-mammal</td>\n",
       "                        <td id=\"T_10836_row53_col1\" class=\"data row53 col1\" >0</td>\n",
       "            </tr>\n",
       "            <tr>\n",
       "                        <th id=\"T_10836_level0_row54\" class=\"row_heading level0 row54\" >mole</th>\n",
       "                        <td id=\"T_10836_row54_col0\" class=\"data row54 col0\" >mammal</td>\n",
       "                        <td id=\"T_10836_row54_col1\" class=\"data row54 col1\" >0</td>\n",
       "            </tr>\n",
       "            <tr>\n",
       "                        <th id=\"T_10836_level0_row55\" class=\"row_heading level0 row55\" >momo</th>\n",
       "                        <td id=\"T_10836_row55_col0\" class=\"data row55 col0\" >mammal</td>\n",
       "                        <td id=\"T_10836_row55_col1\" class=\"data row55 col1\" >0</td>\n",
       "            </tr>\n",
       "            <tr>\n",
       "                        <th id=\"T_10836_level0_row56\" class=\"row_heading level0 row56\" >moth</th>\n",
       "                        <td id=\"T_10836_row56_col0\" class=\"data row56 col0\" >non-mammal</td>\n",
       "                        <td id=\"T_10836_row56_col1\" class=\"data row56 col1\" >0</td>\n",
       "            </tr>\n",
       "            <tr>\n",
       "                        <th id=\"T_10836_level0_row57\" class=\"row_heading level0 row57\" >nessie</th>\n",
       "                        <td id=\"T_10836_row57_col0\" class=\"data row57 col0\" >non-mammal</td>\n",
       "                        <td id=\"T_10836_row57_col1\" class=\"data row57 col1\" >0</td>\n",
       "            </tr>\n",
       "            <tr>\n",
       "                        <th id=\"T_10836_level0_row58\" class=\"row_heading level0 row58\" >newt</th>\n",
       "                        <td id=\"T_10836_row58_col0\" class=\"data row58 col0\" >non-mammal</td>\n",
       "                        <td id=\"T_10836_row58_col1\" class=\"data row58 col1\" >0</td>\n",
       "            </tr>\n",
       "            <tr>\n",
       "                        <th id=\"T_10836_level0_row59\" class=\"row_heading level0 row59\" >octopus</th>\n",
       "                        <td id=\"T_10836_row59_col0\" class=\"data row59 col0\" >non-mammal</td>\n",
       "                        <td id=\"T_10836_row59_col1\" class=\"data row59 col1\" >0</td>\n",
       "            </tr>\n",
       "            <tr>\n",
       "                        <th id=\"T_10836_level0_row60\" class=\"row_heading level0 row60\" >opossum</th>\n",
       "                        <td id=\"T_10836_row60_col0\" class=\"data row60 col0\" >mammal</td>\n",
       "                        <td id=\"T_10836_row60_col1\" class=\"data row60 col1\" >0</td>\n",
       "            </tr>\n",
       "            <tr>\n",
       "                        <th id=\"T_10836_level0_row61\" class=\"row_heading level0 row61\" >orangutan</th>\n",
       "                        <td id=\"T_10836_row61_col0\" class=\"data row61 col0\" >mammal</td>\n",
       "                        <td id=\"T_10836_row61_col1\" class=\"data row61 col1\" >0</td>\n",
       "            </tr>\n",
       "            <tr>\n",
       "                        <th id=\"T_10836_level0_row62\" class=\"row_heading level0 row62\" >ostrich</th>\n",
       "                        <td id=\"T_10836_row62_col0\" class=\"data row62 col0\" >non-mammal</td>\n",
       "                        <td id=\"T_10836_row62_col1\" class=\"data row62 col1\" >0</td>\n",
       "            </tr>\n",
       "            <tr>\n",
       "                        <th id=\"T_10836_level0_row63\" class=\"row_heading level0 row63\" >pangolin</th>\n",
       "                        <td id=\"T_10836_row63_col0\" class=\"data row63 col0\" >mammal</td>\n",
       "                        <td id=\"T_10836_row63_col1\" class=\"data row63 col1\" >0</td>\n",
       "            </tr>\n",
       "            <tr>\n",
       "                        <th id=\"T_10836_level0_row64\" class=\"row_heading level0 row64\" >parakeet</th>\n",
       "                        <td id=\"T_10836_row64_col0\" class=\"data row64 col0\" >non-mammal</td>\n",
       "                        <td id=\"T_10836_row64_col1\" class=\"data row64 col1\" >0</td>\n",
       "            </tr>\n",
       "            <tr>\n",
       "                        <th id=\"T_10836_level0_row65\" class=\"row_heading level0 row65\" >penguin</th>\n",
       "                        <td id=\"T_10836_row65_col0\" class=\"data row65 col0\" >non-mammal</td>\n",
       "                        <td id=\"T_10836_row65_col1\" class=\"data row65 col1\" >0</td>\n",
       "            </tr>\n",
       "            <tr>\n",
       "                        <th id=\"T_10836_level0_row66\" class=\"row_heading level0 row66\" >pheasant</th>\n",
       "                        <td id=\"T_10836_row66_col0\" class=\"data row66 col0\" >non-mammal</td>\n",
       "                        <td id=\"T_10836_row66_col1\" class=\"data row66 col1\" >0</td>\n",
       "            </tr>\n",
       "            <tr>\n",
       "                        <th id=\"T_10836_level0_row67\" class=\"row_heading level0 row67\" >piranha</th>\n",
       "                        <td id=\"T_10836_row67_col0\" class=\"data row67 col0\" >non-mammal</td>\n",
       "                        <td id=\"T_10836_row67_col1\" class=\"data row67 col1\" >0</td>\n",
       "            </tr>\n",
       "            <tr>\n",
       "                        <th id=\"T_10836_level0_row68\" class=\"row_heading level0 row68\" >pitviper</th>\n",
       "                        <td id=\"T_10836_row68_col0\" class=\"data row68 col0\" >non-mammal</td>\n",
       "                        <td id=\"T_10836_row68_col1\" class=\"data row68 col1\" >0</td>\n",
       "            </tr>\n",
       "            <tr>\n",
       "                        <th id=\"T_10836_level0_row69\" class=\"row_heading level0 row69\" >platypus</th>\n",
       "                        <td id=\"T_10836_row69_col0\" class=\"data row69 col0\" >mammal</td>\n",
       "                        <td id=\"T_10836_row69_col1\" class=\"data row69 col1\" >0</td>\n",
       "            </tr>\n",
       "            <tr>\n",
       "                        <th id=\"T_10836_level0_row70\" class=\"row_heading level0 row70\" >polecat</th>\n",
       "                        <td id=\"T_10836_row70_col0\" class=\"data row70 col0\" >mammal</td>\n",
       "                        <td id=\"T_10836_row70_col1\" class=\"data row70 col1\" >0</td>\n",
       "            </tr>\n",
       "            <tr>\n",
       "                        <th id=\"T_10836_level0_row71\" class=\"row_heading level0 row71\" >portuguese man o' war</th>\n",
       "                        <td id=\"T_10836_row71_col0\" class=\"data row71 col0\" >non-mammal</td>\n",
       "                        <td id=\"T_10836_row71_col1\" class=\"data row71 col1\" >0</td>\n",
       "            </tr>\n",
       "            <tr>\n",
       "                        <th id=\"T_10836_level0_row72\" class=\"row_heading level0 row72\" >puma</th>\n",
       "                        <td id=\"T_10836_row72_col0\" class=\"data row72 col0\" >mammal</td>\n",
       "                        <td id=\"T_10836_row72_col1\" class=\"data row72 col1\" >0</td>\n",
       "            </tr>\n",
       "            <tr>\n",
       "                        <th id=\"T_10836_level0_row73\" class=\"row_heading level0 row73\" >raccoon</th>\n",
       "                        <td id=\"T_10836_row73_col0\" class=\"data row73 col0\" >mammal</td>\n",
       "                        <td id=\"T_10836_row73_col1\" class=\"data row73 col1\" >0</td>\n",
       "            </tr>\n",
       "            <tr>\n",
       "                        <th id=\"T_10836_level0_row74\" class=\"row_heading level0 row74\" >red panda</th>\n",
       "                        <td id=\"T_10836_row74_col0\" class=\"data row74 col0\" >mammal</td>\n",
       "                        <td id=\"T_10836_row74_col1\" class=\"data row74 col1\" >0</td>\n",
       "            </tr>\n",
       "            <tr>\n",
       "                        <th id=\"T_10836_level0_row75\" class=\"row_heading level0 row75\" >rhea</th>\n",
       "                        <td id=\"T_10836_row75_col0\" class=\"data row75 col0\" >non-mammal</td>\n",
       "                        <td id=\"T_10836_row75_col1\" class=\"data row75 col1\" >0</td>\n",
       "            </tr>\n",
       "            <tr>\n",
       "                        <th id=\"T_10836_level0_row76\" class=\"row_heading level0 row76\" >scorpion</th>\n",
       "                        <td id=\"T_10836_row76_col0\" class=\"data row76 col0\" >non-mammal</td>\n",
       "                        <td id=\"T_10836_row76_col1\" class=\"data row76 col1\" >0</td>\n",
       "            </tr>\n",
       "            <tr>\n",
       "                        <th id=\"T_10836_level0_row77\" class=\"row_heading level0 row77\" >sea anemone</th>\n",
       "                        <td id=\"T_10836_row77_col0\" class=\"data row77 col0\" >non-mammal</td>\n",
       "                        <td id=\"T_10836_row77_col1\" class=\"data row77 col1\" >0</td>\n",
       "            </tr>\n",
       "            <tr>\n",
       "                        <th id=\"T_10836_level0_row78\" class=\"row_heading level0 row78\" >sea cucumber</th>\n",
       "                        <td id=\"T_10836_row78_col0\" class=\"data row78 col0\" >non-mammal</td>\n",
       "                        <td id=\"T_10836_row78_col1\" class=\"data row78 col1\" >0</td>\n",
       "            </tr>\n",
       "            <tr>\n",
       "                        <th id=\"T_10836_level0_row79\" class=\"row_heading level0 row79\" >seahorse</th>\n",
       "                        <td id=\"T_10836_row79_col0\" class=\"data row79 col0\" >non-mammal</td>\n",
       "                        <td id=\"T_10836_row79_col1\" class=\"data row79 col1\" >0</td>\n",
       "            </tr>\n",
       "            <tr>\n",
       "                        <th id=\"T_10836_level0_row80\" class=\"row_heading level0 row80\" >seal</th>\n",
       "                        <td id=\"T_10836_row80_col0\" class=\"data row80 col0\" >mammal</td>\n",
       "                        <td id=\"T_10836_row80_col1\" class=\"data row80 col1\" >0</td>\n",
       "            </tr>\n",
       "            <tr>\n",
       "                        <th id=\"T_10836_level0_row81\" class=\"row_heading level0 row81\" >sealion</th>\n",
       "                        <td id=\"T_10836_row81_col0\" class=\"data row81 col0\" >mammal</td>\n",
       "                        <td id=\"T_10836_row81_col1\" class=\"data row81 col1\" >0</td>\n",
       "            </tr>\n",
       "            <tr>\n",
       "                        <th id=\"T_10836_level0_row82\" class=\"row_heading level0 row82\" >seasnake</th>\n",
       "                        <td id=\"T_10836_row82_col0\" class=\"data row82 col0\" >non-mammal</td>\n",
       "                        <td id=\"T_10836_row82_col1\" class=\"data row82 col1\" >0</td>\n",
       "            </tr>\n",
       "            <tr>\n",
       "                        <th id=\"T_10836_level0_row83\" class=\"row_heading level0 row83\" >seawasp</th>\n",
       "                        <td id=\"T_10836_row83_col0\" class=\"data row83 col0\" >non-mammal</td>\n",
       "                        <td id=\"T_10836_row83_col1\" class=\"data row83 col1\" >0</td>\n",
       "            </tr>\n",
       "            <tr>\n",
       "                        <th id=\"T_10836_level0_row84\" class=\"row_heading level0 row84\" >skimmer</th>\n",
       "                        <td id=\"T_10836_row84_col0\" class=\"data row84 col0\" >non-mammal</td>\n",
       "                        <td id=\"T_10836_row84_col1\" class=\"data row84 col1\" >0</td>\n",
       "            </tr>\n",
       "            <tr>\n",
       "                        <th id=\"T_10836_level0_row85\" class=\"row_heading level0 row85\" >skink</th>\n",
       "                        <td id=\"T_10836_row85_col0\" class=\"data row85 col0\" >non-mammal</td>\n",
       "                        <td id=\"T_10836_row85_col1\" class=\"data row85 col1\" >0</td>\n",
       "            </tr>\n",
       "            <tr>\n",
       "                        <th id=\"T_10836_level0_row86\" class=\"row_heading level0 row86\" >slowworm</th>\n",
       "                        <td id=\"T_10836_row86_col0\" class=\"data row86 col0\" >non-mammal</td>\n",
       "                        <td id=\"T_10836_row86_col1\" class=\"data row86 col1\" >0</td>\n",
       "            </tr>\n",
       "            <tr>\n",
       "                        <th id=\"T_10836_level0_row87\" class=\"row_heading level0 row87\" >slug</th>\n",
       "                        <td id=\"T_10836_row87_col0\" class=\"data row87 col0\" >non-mammal</td>\n",
       "                        <td id=\"T_10836_row87_col1\" class=\"data row87 col1\" >0</td>\n",
       "            </tr>\n",
       "            <tr>\n",
       "                        <th id=\"T_10836_level0_row88\" class=\"row_heading level0 row88\" >sparrow</th>\n",
       "                        <td id=\"T_10836_row88_col0\" class=\"data row88 col0\" >non-mammal</td>\n",
       "                        <td id=\"T_10836_row88_col1\" class=\"data row88 col1\" >0</td>\n",
       "            </tr>\n",
       "            <tr>\n",
       "                        <th id=\"T_10836_level0_row89\" class=\"row_heading level0 row89\" >squid</th>\n",
       "                        <td id=\"T_10836_row89_col0\" class=\"data row89 col0\" >non-mammal</td>\n",
       "                        <td id=\"T_10836_row89_col1\" class=\"data row89 col1\" >0</td>\n",
       "            </tr>\n",
       "            <tr>\n",
       "                        <th id=\"T_10836_level0_row90\" class=\"row_heading level0 row90\" >starfish</th>\n",
       "                        <td id=\"T_10836_row90_col0\" class=\"data row90 col0\" >non-mammal</td>\n",
       "                        <td id=\"T_10836_row90_col1\" class=\"data row90 col1\" >0</td>\n",
       "            </tr>\n",
       "            <tr>\n",
       "                        <th id=\"T_10836_level0_row91\" class=\"row_heading level0 row91\" >stingray</th>\n",
       "                        <td id=\"T_10836_row91_col0\" class=\"data row91 col0\" >non-mammal</td>\n",
       "                        <td id=\"T_10836_row91_col1\" class=\"data row91 col1\" >0</td>\n",
       "            </tr>\n",
       "            <tr>\n",
       "                        <th id=\"T_10836_level0_row92\" class=\"row_heading level0 row92\" >swan</th>\n",
       "                        <td id=\"T_10836_row92_col0\" class=\"data row92 col0\" >non-mammal</td>\n",
       "                        <td id=\"T_10836_row92_col1\" class=\"data row92 col1\" >0</td>\n",
       "            </tr>\n",
       "            <tr>\n",
       "                        <th id=\"T_10836_level0_row93\" class=\"row_heading level0 row93\" >termite</th>\n",
       "                        <td id=\"T_10836_row93_col0\" class=\"data row93 col0\" >non-mammal</td>\n",
       "                        <td id=\"T_10836_row93_col1\" class=\"data row93 col1\" >0</td>\n",
       "            </tr>\n",
       "            <tr>\n",
       "                        <th id=\"T_10836_level0_row94\" class=\"row_heading level0 row94\" >thylacine</th>\n",
       "                        <td id=\"T_10836_row94_col0\" class=\"data row94 col0\" >mammal</td>\n",
       "                        <td id=\"T_10836_row94_col1\" class=\"data row94 col1\" >0</td>\n",
       "            </tr>\n",
       "            <tr>\n",
       "                        <th id=\"T_10836_level0_row95\" class=\"row_heading level0 row95\" >tortoise</th>\n",
       "                        <td id=\"T_10836_row95_col0\" class=\"data row95 col0\" >non-mammal</td>\n",
       "                        <td id=\"T_10836_row95_col1\" class=\"data row95 col1\" >0</td>\n",
       "            </tr>\n",
       "            <tr>\n",
       "                        <th id=\"T_10836_level0_row96\" class=\"row_heading level0 row96\" >tuatara</th>\n",
       "                        <td id=\"T_10836_row96_col0\" class=\"data row96 col0\" >non-mammal</td>\n",
       "                        <td id=\"T_10836_row96_col1\" class=\"data row96 col1\" >0</td>\n",
       "            </tr>\n",
       "            <tr>\n",
       "                        <th id=\"T_10836_level0_row97\" class=\"row_heading level0 row97\" >tuna</th>\n",
       "                        <td id=\"T_10836_row97_col0\" class=\"data row97 col0\" >non-mammal</td>\n",
       "                        <td id=\"T_10836_row97_col1\" class=\"data row97 col1\" >0</td>\n",
       "            </tr>\n",
       "            <tr>\n",
       "                        <th id=\"T_10836_level0_row98\" class=\"row_heading level0 row98\" >vole</th>\n",
       "                        <td id=\"T_10836_row98_col0\" class=\"data row98 col0\" >mammal</td>\n",
       "                        <td id=\"T_10836_row98_col1\" class=\"data row98 col1\" >0</td>\n",
       "            </tr>\n",
       "            <tr>\n",
       "                        <th id=\"T_10836_level0_row99\" class=\"row_heading level0 row99\" >wasp</th>\n",
       "                        <td id=\"T_10836_row99_col0\" class=\"data row99 col0\" >non-mammal</td>\n",
       "                        <td id=\"T_10836_row99_col1\" class=\"data row99 col1\" >0</td>\n",
       "            </tr>\n",
       "            <tr>\n",
       "                        <th id=\"T_10836_level0_row100\" class=\"row_heading level0 row100\" >whale shark</th>\n",
       "                        <td id=\"T_10836_row100_col0\" class=\"data row100 col0\" >non-mammal</td>\n",
       "                        <td id=\"T_10836_row100_col1\" class=\"data row100 col1\" >0</td>\n",
       "            </tr>\n",
       "            <tr>\n",
       "                        <th id=\"T_10836_level0_row101\" class=\"row_heading level0 row101\" >wolf</th>\n",
       "                        <td id=\"T_10836_row101_col0\" class=\"data row101 col0\" >mammal</td>\n",
       "                        <td id=\"T_10836_row101_col1\" class=\"data row101 col1\" >0</td>\n",
       "            </tr>\n",
       "            <tr>\n",
       "                        <th id=\"T_10836_level0_row102\" class=\"row_heading level0 row102\" >worm</th>\n",
       "                        <td id=\"T_10836_row102_col0\" class=\"data row102 col0\" >non-mammal</td>\n",
       "                        <td id=\"T_10836_row102_col1\" class=\"data row102 col1\" >0</td>\n",
       "            </tr>\n",
       "            <tr>\n",
       "                        <th id=\"T_10836_level0_row103\" class=\"row_heading level0 row103\" >wren</th>\n",
       "                        <td id=\"T_10836_row103_col0\" class=\"data row103 col0\" >non-mammal</td>\n",
       "                        <td id=\"T_10836_row103_col1\" class=\"data row103 col1\" >0</td>\n",
       "            </tr>\n",
       "    </tbody></table>"
      ],
      "text/plain": [
       "<pandas.io.formats.style.Styler at 0xf065640>"
      ]
     },
     "metadata": {},
     "output_type": "display_data"
    },
    {
     "name": "stdout",
     "output_type": "stream",
     "text": [
      "\n",
      "\n",
      "\u001b[1m\u001b[91mError Rate: 0.000 \u001b[91m \u001b[1m\n"
     ]
    }
   ],
   "source": [
    "dislayer(xtrain, 'animal name')"
   ]
  },
  {
   "cell_type": "markdown",
   "id": "9613b1b5",
   "metadata": {},
   "source": [
    "- This rule set can not be used since it closes the whole purpose of using classification technique. "
   ]
  },
  {
   "cell_type": "markdown",
   "id": "5896e31d",
   "metadata": {},
   "source": [
    "#### Note\n",
    "- Most of the rule-sets were only applicable for predicting non-mammal animals. This shows the number of non-mammal animals is greater than mammal animals.\n"
   ]
  },
  {
   "cell_type": "markdown",
   "id": "113e5870",
   "metadata": {},
   "source": [
    "### Evaluation"
   ]
  },
  {
   "cell_type": "markdown",
   "id": "097ae047",
   "metadata": {},
   "source": [
    "Milk rule set is selected because of its minimum error rate (0 error rate). <br>\n",
    "<b> Cross table and rule set for milk attribute <b>"
   ]
  },
  {
   "cell_type": "code",
   "execution_count": 149,
   "id": "51a61272",
   "metadata": {
    "tags": []
   },
   "outputs": [
    {
     "data": {
      "text/html": [
       "<style  type=\"text/css\" >\n",
       "</style><table id=\"T_9a52f_\" ><caption>Cross Table</caption><thead>    <tr>        <th class=\"index_name level0\" >mammal</th>        <th class=\"col_heading level0 col0\" >mammal</th>        <th class=\"col_heading level0 col1\" >non-mammal</th>        <th class=\"col_heading level0 col2\" >All</th>    </tr>    <tr>        <th class=\"index_name level0\" >milk</th>        <th class=\"blank\" ></th>        <th class=\"blank\" ></th>        <th class=\"blank\" ></th>    </tr></thead><tbody>\n",
       "                <tr>\n",
       "                        <th id=\"T_9a52f_level0_row0\" class=\"row_heading level0 row0\" >False</th>\n",
       "                        <td id=\"T_9a52f_row0_col0\" class=\"data row0 col0\" >0</td>\n",
       "                        <td id=\"T_9a52f_row0_col1\" class=\"data row0 col1\" >65</td>\n",
       "                        <td id=\"T_9a52f_row0_col2\" class=\"data row0 col2\" >65</td>\n",
       "            </tr>\n",
       "            <tr>\n",
       "                        <th id=\"T_9a52f_level0_row1\" class=\"row_heading level0 row1\" >True</th>\n",
       "                        <td id=\"T_9a52f_row1_col0\" class=\"data row1 col0\" >39</td>\n",
       "                        <td id=\"T_9a52f_row1_col1\" class=\"data row1 col1\" >0</td>\n",
       "                        <td id=\"T_9a52f_row1_col2\" class=\"data row1 col2\" >39</td>\n",
       "            </tr>\n",
       "            <tr>\n",
       "                        <th id=\"T_9a52f_level0_row2\" class=\"row_heading level0 row2\" >All</th>\n",
       "                        <td id=\"T_9a52f_row2_col0\" class=\"data row2 col0\" >39</td>\n",
       "                        <td id=\"T_9a52f_row2_col1\" class=\"data row2 col1\" >65</td>\n",
       "                        <td id=\"T_9a52f_row2_col2\" class=\"data row2 col2\" >104</td>\n",
       "            </tr>\n",
       "    </tbody></table>"
      ],
      "text/plain": [
       "<pandas.io.formats.style.Styler at 0xeff2820>"
      ]
     },
     "metadata": {},
     "output_type": "display_data"
    },
    {
     "data": {
      "text/html": [
       "<style  type=\"text/css\" >\n",
       "</style><table id=\"T_02db0_\" ><caption>Rule set for milk</caption><thead>    <tr>        <th class=\"blank level0\" ></th>        <th class=\"col_heading level0 col0\" >rule</th>        <th class=\"col_heading level0 col1\" >error</th>    </tr>    <tr>        <th class=\"index_name level0\" >milk</th>        <th class=\"blank\" ></th>        <th class=\"blank\" ></th>    </tr></thead><tbody>\n",
       "                <tr>\n",
       "                        <th id=\"T_02db0_level0_row0\" class=\"row_heading level0 row0\" >False</th>\n",
       "                        <td id=\"T_02db0_row0_col0\" class=\"data row0 col0\" >non-mammal</td>\n",
       "                        <td id=\"T_02db0_row0_col1\" class=\"data row0 col1\" >0</td>\n",
       "            </tr>\n",
       "            <tr>\n",
       "                        <th id=\"T_02db0_level0_row1\" class=\"row_heading level0 row1\" >True</th>\n",
       "                        <td id=\"T_02db0_row1_col0\" class=\"data row1 col0\" >mammal</td>\n",
       "                        <td id=\"T_02db0_row1_col1\" class=\"data row1 col1\" >0</td>\n",
       "            </tr>\n",
       "    </tbody></table>"
      ],
      "text/plain": [
       "<pandas.io.formats.style.Styler at 0x1c724e50>"
      ]
     },
     "metadata": {},
     "output_type": "display_data"
    },
    {
     "name": "stdout",
     "output_type": "stream",
     "text": [
      "\n",
      "\n",
      "\u001b[1m\u001b[91mError Rate: 0.000 \u001b[91m \u001b[1m\n"
     ]
    }
   ],
   "source": [
    "dislayer(xtrain, 'milk')"
   ]
  },
  {
   "cell_type": "code",
   "execution_count": 150,
   "id": "ffcd0f1a",
   "metadata": {
    "scrolled": true
   },
   "outputs": [],
   "source": [
    "prediction = pd.DataFrame(xtest['milk'])\n",
    "prediction = prediction.rename(columns={'milk': 'prediction'})\n",
    "\n",
    "prediction[prediction['prediction'] ==  True] = 'mammal'\n",
    "prediction[prediction['prediction'] ==  False] = 'non-mammal'"
   ]
  },
  {
   "cell_type": "markdown",
   "id": "03629214",
   "metadata": {},
   "source": [
    "### Confusion Matrix"
   ]
  },
  {
   "cell_type": "code",
   "execution_count": 151,
   "id": "79fe0dc9",
   "metadata": {
    "tags": []
   },
   "outputs": [
    {
     "name": "stdout",
     "output_type": "stream",
     "text": [
      "[[ 0  0  0  0]\n",
      " [ 0  0  0  0]\n",
      " [ 0 12  0  0]\n",
      " [14  0  0  0]]\n"
     ]
    }
   ],
   "source": [
    "confusionMatrix = confusion_matrix(ytest['mammal'], prediction['prediction'])\n",
    "print(confusionMatrix)"
   ]
  },
  {
   "cell_type": "code",
   "execution_count": 152,
   "id": "9f326471",
   "metadata": {
    "tags": []
   },
   "outputs": [
    {
     "name": "stdout",
     "output_type": "stream",
     "text": [
      "---------------------------\n",
      "|   ytest    | prediction |\n",
      "---------------------------\n",
      "| non-mammal | False      |\n",
      "| non-mammal | False      |\n",
      "| mammal     | True       |\n",
      "| mammal     | True       |\n",
      "| mammal     | True       |\n",
      "| mammal     | True       |\n",
      "| mammal     | True       |\n",
      "| non-mammal | False      |\n",
      "| mammal     | True       |\n",
      "| mammal     | True       |\n",
      "| non-mammal | False      |\n",
      "| mammal     | True       |\n",
      "| mammal     | True       |\n",
      "| mammal     | True       |\n",
      "| mammal     | True       |\n",
      "| non-mammal | False      |\n",
      "| non-mammal | False      |\n",
      "| non-mammal | False      |\n",
      "| non-mammal | False      |\n",
      "| mammal     | True       |\n",
      "| non-mammal | False      |\n",
      "| non-mammal | False      |\n",
      "| non-mammal | False      |\n",
      "| non-mammal | False      |\n",
      "| non-mammal | False      |\n",
      "| non-mammal | False      |\n",
      "---------------------------\n"
     ]
    }
   ],
   "source": [
    "print(\"---------------------------\")\n",
    "print(\"|   ytest    | prediction |\")\n",
    "print(\"---------------------------\")\n",
    "for test, predict in zip (list(ytest['mammal']), list(prediction['prediction'])):\n",
    "    print('| {:<10} | {: <10} |'.format(test, predict))\n",
    "print(\"---------------------------\")"
   ]
  },
  {
   "cell_type": "markdown",
   "id": "919281e2",
   "metadata": {},
   "source": [
    "###  Check the accuracy of the data"
   ]
  },
  {
   "cell_type": "code",
   "execution_count": 153,
   "id": "11cb7e5c",
   "metadata": {
    "scrolled": true
   },
   "outputs": [],
   "source": [
    "TruePostive = 0\n",
    "TrueNegative = 0\n",
    "FalsePositive = 0\n",
    "FalseNegative = 0\n",
    "for i, d in ytest.iterrows():\n",
    "    if (prediction.at[i,'prediction'] == 'True'):\n",
    "        case = True\n",
    "    else:\n",
    "        case = False\n",
    "    if str(ytest.at[i,'mammal']) ==  'mammal'  and case ==  True:\n",
    "        TruePostive += 1\n",
    "    elif str(ytest.at[i,'mammal']) ==  'non-mammal'  and case ==  False:\n",
    "        TrueNegative += 1\n",
    "    elif str(ytest.at[i,'mammal']) ==  'mammal'  and case  ==  False:\n",
    "        FalsePositive += 1\n",
    "    elif str(ytest.at[i,'mammal']) ==  'non-mammal'  and case ==  True:\n",
    "        FalseNegative +=1"
   ]
  },
  {
   "cell_type": "code",
   "execution_count": 154,
   "id": "c45ed32d",
   "metadata": {
    "tags": []
   },
   "outputs": [
    {
     "name": "stdout",
     "output_type": "stream",
     "text": [
      "\n",
      "\n",
      "\u001b[1m\u001b[91mTrue Postive: 12 \u001b[91m \u001b[1m\n",
      "\n",
      "\n",
      "\u001b[1m\u001b[91mTrue Negative: 14 \u001b[91m \u001b[1m\n",
      "\n",
      "\n",
      "\u001b[1m\u001b[91mFalse Positive: 0 \u001b[91m \u001b[1m\n",
      "\n",
      "\n",
      "\u001b[1m\u001b[91mFalse Negative: 0 \u001b[91m \u001b[1m\n"
     ]
    }
   ],
   "source": [
    "value =  {'True Postive': TruePostive , \n",
    "          'True Negative': TrueNegative, \n",
    "          'False Positive': FalsePositive,\n",
    "           'False Negative': FalseNegative }\n",
    "\n",
    "for key, value in value.items():\n",
    "    print(\"\\n\\n\"+ '\\033[1m' + '\\033[91m'+ str(key) + ': '+ str(value), '\\033[91m', '\\033[1m')"
   ]
  },
  {
   "cell_type": "markdown",
   "id": "6f12f284",
   "metadata": {},
   "source": [
    "### Accuracy"
   ]
  },
  {
   "cell_type": "markdown",
   "id": "fc31856e",
   "metadata": {},
   "source": [
    "Accuracy =  {number of correct prediction/ number of all prediction}"
   ]
  },
  {
   "cell_type": "code",
   "execution_count": 155,
   "id": "27a54752",
   "metadata": {
    "tags": []
   },
   "outputs": [
    {
     "data": {
      "text/plain": [
       "1.0"
      ]
     },
     "execution_count": 155,
     "metadata": {},
     "output_type": "execute_result"
    }
   ],
   "source": [
    "Accuracy  = (TruePostive + TrueNegative)/(TruePostive + TrueNegative + FalsePositive + FalseNegative)\n",
    "Accuracy"
   ]
  },
  {
   "cell_type": "markdown",
   "id": "193bec25",
   "metadata": {},
   "source": [
    "### Error Rate"
   ]
  },
  {
   "cell_type": "code",
   "execution_count": 156,
   "id": "00c4f517",
   "metadata": {
    "tags": []
   },
   "outputs": [
    {
     "data": {
      "text/plain": [
       "0.0"
      ]
     },
     "execution_count": 156,
     "metadata": {},
     "output_type": "execute_result"
    }
   ],
   "source": [
    "ErrorRate  = (FalsePositive + FalseNegative)/(TruePostive + TrueNegative + FalsePositive + FalseNegative)\n",
    "ErrorRate"
   ]
  },
  {
   "cell_type": "markdown",
   "id": "263e20a9",
   "metadata": {},
   "source": [
    "### Precsion"
   ]
  },
  {
   "cell_type": "code",
   "execution_count": 157,
   "id": "cf6b67cb",
   "metadata": {
    "tags": []
   },
   "outputs": [
    {
     "data": {
      "text/plain": [
       "1.0"
      ]
     },
     "execution_count": 157,
     "metadata": {},
     "output_type": "execute_result"
    }
   ],
   "source": [
    "precsion =  (TruePostive)/(TruePostive + FalsePositive)\n",
    "precsion"
   ]
  },
  {
   "cell_type": "markdown",
   "id": "4f4eb43a",
   "metadata": {},
   "source": [
    "### Specificity"
   ]
  },
  {
   "cell_type": "code",
   "execution_count": 158,
   "id": "d5cdb087",
   "metadata": {
    "tags": []
   },
   "outputs": [
    {
     "data": {
      "text/plain": [
       "1.0"
      ]
     },
     "execution_count": 158,
     "metadata": {},
     "output_type": "execute_result"
    }
   ],
   "source": [
    "specificity = (TrueNegative)/( TrueNegative + FalsePositive)\n",
    "specificity"
   ]
  },
  {
   "cell_type": "markdown",
   "id": "c9e6dc62",
   "metadata": {},
   "source": [
    "### Negative Prediction"
   ]
  },
  {
   "cell_type": "code",
   "execution_count": 159,
   "id": "c1ae82f6",
   "metadata": {
    "tags": []
   },
   "outputs": [
    {
     "data": {
      "text/plain": [
       "1.0"
      ]
     },
     "execution_count": 159,
     "metadata": {},
     "output_type": "execute_result"
    }
   ],
   "source": [
    "NegativePrediction =  TrueNegative /(TrueNegative + FalseNegative)\n",
    "NegativePrediction"
   ]
  },
  {
   "cell_type": "markdown",
   "id": "10e720dd",
   "metadata": {},
   "source": [
    "### Sensetivity or Recall"
   ]
  },
  {
   "cell_type": "code",
   "execution_count": 160,
   "id": "111892d9",
   "metadata": {
    "tags": []
   },
   "outputs": [
    {
     "data": {
      "text/plain": [
       "1.0"
      ]
     },
     "execution_count": 160,
     "metadata": {},
     "output_type": "execute_result"
    }
   ],
   "source": [
    "sensitivity = TruePostive /(TruePostive + FalseNegative)\n",
    "sensitivity"
   ]
  },
  {
   "cell_type": "markdown",
   "id": "3d5187a9",
   "metadata": {},
   "source": [
    "### F-Measure"
   ]
  },
  {
   "cell_type": "code",
   "execution_count": 161,
   "id": "663b9b60",
   "metadata": {
    "tags": []
   },
   "outputs": [
    {
     "data": {
      "text/plain": [
       "1.0"
      ]
     },
     "execution_count": 161,
     "metadata": {},
     "output_type": "execute_result"
    }
   ],
   "source": [
    "fmeasure = (2*sensitivity * precsion)/(sensitivity + precsion)\n",
    "fmeasure"
   ]
  },
  {
   "cell_type": "code",
   "execution_count": 162,
   "id": "f3f27fb0",
   "metadata": {
    "scrolled": true
   },
   "outputs": [],
   "source": [
    "# accuracy_score(ytest['mammal'], prediction['prediction'])"
   ]
  },
  {
   "cell_type": "code",
   "execution_count": 163,
   "id": "fe01e35a",
   "metadata": {
    "scrolled": true
   },
   "outputs": [],
   "source": [
    "# print(classification_report(ytest['mammal'], prediction['prediction']))"
   ]
  },
  {
   "cell_type": "markdown",
   "id": "a0903bc5",
   "metadata": {},
   "source": [
    "## Results:"
   ]
  },
  {
   "cell_type": "markdown",
   "id": "5a2ca28b",
   "metadata": {},
   "source": [
    "As we can see above, the error rate of our model 0 which indicates milk rule set is a good rule for determinging wheather an animal is mammal or not. "
   ]
  },
  {
   "cell_type": "code",
   "execution_count": 164,
   "id": "fb506ea5",
   "metadata": {
    "slideshow": {
     "slide_type": "subslide"
    },
    "tags": []
   },
   "outputs": [
    {
     "data": {
      "text/html": [
       "<style  type=\"text/css\" >\n",
       "</style><table id=\"T_252a8_\" ><caption>Cross Table</caption><thead>    <tr>        <th class=\"index_name level0\" >mammal</th>        <th class=\"col_heading level0 col0\" >mammal</th>        <th class=\"col_heading level0 col1\" >non-mammal</th>        <th class=\"col_heading level0 col2\" >All</th>    </tr>    <tr>        <th class=\"index_name level0\" >milk</th>        <th class=\"blank\" ></th>        <th class=\"blank\" ></th>        <th class=\"blank\" ></th>    </tr></thead><tbody>\n",
       "                <tr>\n",
       "                        <th id=\"T_252a8_level0_row0\" class=\"row_heading level0 row0\" >False</th>\n",
       "                        <td id=\"T_252a8_row0_col0\" class=\"data row0 col0\" >0</td>\n",
       "                        <td id=\"T_252a8_row0_col1\" class=\"data row0 col1\" >65</td>\n",
       "                        <td id=\"T_252a8_row0_col2\" class=\"data row0 col2\" >65</td>\n",
       "            </tr>\n",
       "            <tr>\n",
       "                        <th id=\"T_252a8_level0_row1\" class=\"row_heading level0 row1\" >True</th>\n",
       "                        <td id=\"T_252a8_row1_col0\" class=\"data row1 col0\" >39</td>\n",
       "                        <td id=\"T_252a8_row1_col1\" class=\"data row1 col1\" >0</td>\n",
       "                        <td id=\"T_252a8_row1_col2\" class=\"data row1 col2\" >39</td>\n",
       "            </tr>\n",
       "            <tr>\n",
       "                        <th id=\"T_252a8_level0_row2\" class=\"row_heading level0 row2\" >All</th>\n",
       "                        <td id=\"T_252a8_row2_col0\" class=\"data row2 col0\" >39</td>\n",
       "                        <td id=\"T_252a8_row2_col1\" class=\"data row2 col1\" >65</td>\n",
       "                        <td id=\"T_252a8_row2_col2\" class=\"data row2 col2\" >104</td>\n",
       "            </tr>\n",
       "    </tbody></table>"
      ],
      "text/plain": [
       "<pandas.io.formats.style.Styler at 0xf002670>"
      ]
     },
     "metadata": {},
     "output_type": "display_data"
    },
    {
     "data": {
      "text/html": [
       "<style  type=\"text/css\" >\n",
       "</style><table id=\"T_ae60f_\" ><caption>Rule set for milk</caption><thead>    <tr>        <th class=\"blank level0\" ></th>        <th class=\"col_heading level0 col0\" >rule</th>        <th class=\"col_heading level0 col1\" >error</th>    </tr>    <tr>        <th class=\"index_name level0\" >milk</th>        <th class=\"blank\" ></th>        <th class=\"blank\" ></th>    </tr></thead><tbody>\n",
       "                <tr>\n",
       "                        <th id=\"T_ae60f_level0_row0\" class=\"row_heading level0 row0\" >False</th>\n",
       "                        <td id=\"T_ae60f_row0_col0\" class=\"data row0 col0\" >non-mammal</td>\n",
       "                        <td id=\"T_ae60f_row0_col1\" class=\"data row0 col1\" >0</td>\n",
       "            </tr>\n",
       "            <tr>\n",
       "                        <th id=\"T_ae60f_level0_row1\" class=\"row_heading level0 row1\" >True</th>\n",
       "                        <td id=\"T_ae60f_row1_col0\" class=\"data row1 col0\" >mammal</td>\n",
       "                        <td id=\"T_ae60f_row1_col1\" class=\"data row1 col1\" >0</td>\n",
       "            </tr>\n",
       "    </tbody></table>"
      ],
      "text/plain": [
       "<pandas.io.formats.style.Styler at 0xf0448e0>"
      ]
     },
     "metadata": {},
     "output_type": "display_data"
    },
    {
     "name": "stdout",
     "output_type": "stream",
     "text": [
      "\n",
      "\n",
      "\u001b[1m\u001b[91mError Rate: 0.000 \u001b[91m \u001b[1m\n"
     ]
    }
   ],
   "source": [
    "dislayer(xtrain, 'milk')"
   ]
  },
  {
   "cell_type": "markdown",
   "id": "eaec4451",
   "metadata": {},
   "source": [
    "- If an animal has milk, then it is mammal.\n",
    "- If an animal does not have milk, then it is is non-mammal."
   ]
  },
  {
   "cell_type": "markdown",
   "id": "77a7e1bb",
   "metadata": {},
   "source": [
    "## References:"
   ]
  },
  {
   "cell_type": "markdown",
   "id": "b3e4233a",
   "metadata": {},
   "source": [
    "- Craig Nevill-Manning and Geoffrey Holmes and Ian H. Witten (?) The Development of Holte’s 1R Classifier Retrived (2021, July 4) from https://www.cs.waikato.ac.nz/~ihw/papers/95NM-GH-IHW-Develop.pdf.\n",
    "- Perry B. Koob (2020) koobp-classifier-1r. retrived (2021, July 1) from Missiour S&T canvas.\n",
    "- Stackoverflow (2021). General python questions. Retrived (2021, July 1) from https://stackoverflow.com/"
   ]
  }
 ],
 "metadata": {
  "kernelspec": {
   "display_name": "Python 3",
   "language": "python",
   "name": "python3"
  },
  "language_info": {
   "codemirror_mode": {
    "name": "ipython",
    "version": 3
   },
   "file_extension": ".py",
   "mimetype": "text/x-python",
   "name": "python",
   "nbconvert_exporter": "python",
   "pygments_lexer": "ipython3",
   "version": "3.8.5"
  },
  "widgets": {
   "application/vnd.jupyter.widget-state+json": {
    "state": {},
    "version_major": 2,
    "version_minor": 0
   }
  }
 },
 "nbformat": 4,
 "nbformat_minor": 5
}
