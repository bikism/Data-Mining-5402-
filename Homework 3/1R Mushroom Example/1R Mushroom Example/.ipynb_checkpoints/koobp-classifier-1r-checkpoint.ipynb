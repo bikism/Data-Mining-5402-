{
 "cells": [
  {
   "cell_type": "markdown",
   "metadata": {},
   "source": [
    "<table width = 400 align=\"left\" style=\"font-size:20px\">\n",
    "<tr>\n",
    "    <td style=\"text-align:left\"><b>Name</b></td>\n",
    "    <td style=\"text-align:left\">Perry B. Koob</td>\n",
    "</tr>\n",
    "<tr>\n",
    "    <td> </td>\n",
    "    <td style=\"text-align:left\">koobp@mst.edu</td> \n",
    "</tr>\n",
    "<tr>\n",
    "    <td style=\"text-align:left\"><b>Course:</b></td>\n",
    "    <td style=\"text-align:left\">CS 5402</td>\n",
    "</tr>\n",
    "<tr>\n",
    "    <td style=\"text-align:left\"><b>Week03: Example:</b></td>\n",
    "    <td style=\"text-align:left\">1R Mushroom Example</td>\n",
    "</tr>\n",
    "<tr>\n",
    "    <td style=\"text-align:left\"><b>Date:</b></td>\n",
    "    <td style=\"text-align:left\">2020-06-22</td>\n",
    "</tr>\n",
    "</table>"
   ]
  },
  {
   "cell_type": "code",
   "execution_count": 1,
   "metadata": {},
   "outputs": [],
   "source": [
    "# Imported for data management (dataframes)\n",
    "import pandas as pd\n",
    "\n",
    "# This package needs part of anaconda and needs to be installed\n",
    "#    conda install -c conda-forge wordcloud\n",
    "\n",
    "# Imported to allow for the display of word clouds\n",
    "import matplotlib.pyplot as plt\n",
    "\n",
    "# Imported to create train/test partitioning of the data.\n",
    "from sklearn.model_selection import train_test_split\n",
    "\n",
    "# Imported to get frequency counts\n",
    "import collections\n",
    "\n",
    "# Imported to use confusion matrix.\n",
    "from sklearn.metrics import confusion_matrix\n",
    "from sklearn.metrics import accuracy_score\n",
    "from sklearn.metrics import classification_report "
   ]
  },
  {
   "cell_type": "markdown",
   "metadata": {},
   "source": [
    "## Concept Description:\n",
    "Train a system from existing data to classify mushrooms as either edible or inedible.\n"
   ]
  },
  {
   "cell_type": "markdown",
   "metadata": {},
   "source": [
    "## Data Collection:\n",
    "The data has been provided by Perry B. Koob, not professor or doctor.  It is a modified version of the UCI Mushroom data set found here: https://archive.ics.uci.edu/ml/datasets/mushroom\n"
   ]
  },
  {
   "cell_type": "markdown",
   "metadata": {},
   "source": [
    "## Example Description:\n",
    "<img src=\"images/mushroom-diagram.gif\" alt=\"Mushroom Diagram\">\n",
    "\n",
    "\n",
    "### edible.poisonous\n",
    "\n",
    "This is the class label.\n",
    "\n",
    "### cap.shape\n",
    "\n",
    "Nominal attribute that describes the cap shape of the mushroom as: \n",
    "\n",
    "bell     \n",
    "conical  \n",
    "convex   \n",
    "flat     \n",
    "knobbed  \n",
    "sunken   \n",
    "\n",
    "### cap.surface\n",
    "\n",
    "Nominal attribute that describes the cap surface of the mushroom as: \n",
    "\n",
    "fibrous  \n",
    "grooves  \n",
    "scaly    \n",
    "smooth    \n",
    "\n",
    "### cap.color\n",
    "\n",
    "Nominal attribute that describes the cap color of the mushroom as:\n",
    "\n",
    "brown    \n",
    "buff  \n",
    "cinnamon  \n",
    "green  \n",
    "grey     \n",
    "pink     \n",
    "purple   \n",
    "red      \n",
    "white    \n",
    "yellow   \n",
    "\n",
    "### bruises\n",
    "\n",
    "Nominal attribute, boolean in nature, that describes if the mushroom has bruises.\n",
    "\n",
    "### odor\n",
    "\n",
    "Nominal attribute that describes the odor of the mushroom as: \n",
    "\n",
    "almond   \n",
    "anise    \n",
    "creosote  \n",
    "fishy    \n",
    "foul     \n",
    "musty    \n",
    "none     \n",
    "pungent  \n",
    "spicy    \n",
    "\n",
    "### colony\n",
    "\n",
    "Interval attribute that describes the approximate size of the mushroom colony: \n",
    "\n",
    "### edible\n",
    "\n",
    "This is a binary class label generated from the edible.poisonous class label.  It is a transformation of a nominal Class label, so it is also nominal.The labels are now edible or inedible.\n",
    "\n",
    "There are no missing values.\n"
   ]
  },
  {
   "cell_type": "markdown",
   "metadata": {},
   "source": [
    "## Data Import and Wrangling: "
   ]
  },
  {
   "cell_type": "markdown",
   "metadata": {},
   "source": [
    "The results of each search is read from the respective comma separated value file (csv) into separate dataframes.  Careful attention is paid to make sure the data is read in as character strings."
   ]
  },
  {
   "cell_type": "code",
   "execution_count": 4,
   "metadata": {},
   "outputs": [],
   "source": [
    "df = pd.read_csv(\"mushroom.csv\", dtype=str)"
   ]
  },
  {
   "cell_type": "code",
   "execution_count": 5,
   "metadata": {},
   "outputs": [
    {
     "data": {
      "text/plain": [
       "Index(['edible-poisonous', 'cap-shape', 'cap-surface', 'cap-color', 'bruises',\n",
       "       'odor', 'colony'],\n",
       "      dtype='object')"
      ]
     },
     "execution_count": 5,
     "metadata": {},
     "output_type": "execute_result"
    }
   ],
   "source": [
    "df.columns"
   ]
  },
  {
   "cell_type": "code",
   "execution_count": 6,
   "metadata": {},
   "outputs": [],
   "source": [
    "df.loc[(df['edible-poisonous'] == 'edible'),'edible'] = 'edible'\n",
    "df.loc[(df['edible-poisonous'] == 'poisonous'),'edible'] = 'inedible'"
   ]
  },
  {
   "cell_type": "code",
   "execution_count": 7,
   "metadata": {},
   "outputs": [
    {
     "data": {
      "text/plain": [
       "Index(['edible-poisonous', 'cap-shape', 'cap-surface', 'cap-color', 'bruises',\n",
       "       'odor', 'colony', 'edible'],\n",
       "      dtype='object')"
      ]
     },
     "execution_count": 7,
     "metadata": {},
     "output_type": "execute_result"
    }
   ],
   "source": [
    "df.columns"
   ]
  },
  {
   "cell_type": "markdown",
   "metadata": {},
   "source": [
    "Partition the data into a training set and a test set using a 80/20 split."
   ]
  },
  {
   "cell_type": "code",
   "execution_count": 8,
   "metadata": {},
   "outputs": [],
   "source": [
    "X = df.drop(columns=['edible','edible-poisonous'])\n",
    "Y = df[['edible']]\n",
    "X_train, X_test, Y_train, Y_test = train_test_split(X, Y, train_size = 0.80,random_state=123)"
   ]
  },
  {
   "cell_type": "code",
   "execution_count": 9,
   "metadata": {},
   "outputs": [
    {
     "data": {
      "text/html": [
       "<div>\n",
       "<style scoped>\n",
       "    .dataframe tbody tr th:only-of-type {\n",
       "        vertical-align: middle;\n",
       "    }\n",
       "\n",
       "    .dataframe tbody tr th {\n",
       "        vertical-align: top;\n",
       "    }\n",
       "\n",
       "    .dataframe thead th {\n",
       "        text-align: right;\n",
       "    }\n",
       "</style>\n",
       "<table border=\"1\" class=\"dataframe\">\n",
       "  <thead>\n",
       "    <tr style=\"text-align: right;\">\n",
       "      <th></th>\n",
       "      <th>edible</th>\n",
       "    </tr>\n",
       "  </thead>\n",
       "  <tbody>\n",
       "    <tr>\n",
       "      <th>0</th>\n",
       "      <td>inedible</td>\n",
       "    </tr>\n",
       "    <tr>\n",
       "      <th>1</th>\n",
       "      <td>edible</td>\n",
       "    </tr>\n",
       "    <tr>\n",
       "      <th>2</th>\n",
       "      <td>edible</td>\n",
       "    </tr>\n",
       "    <tr>\n",
       "      <th>3</th>\n",
       "      <td>inedible</td>\n",
       "    </tr>\n",
       "    <tr>\n",
       "      <th>4</th>\n",
       "      <td>edible</td>\n",
       "    </tr>\n",
       "    <tr>\n",
       "      <th>...</th>\n",
       "      <td>...</td>\n",
       "    </tr>\n",
       "    <tr>\n",
       "      <th>8119</th>\n",
       "      <td>inedible</td>\n",
       "    </tr>\n",
       "    <tr>\n",
       "      <th>8120</th>\n",
       "      <td>edible</td>\n",
       "    </tr>\n",
       "    <tr>\n",
       "      <th>8121</th>\n",
       "      <td>inedible</td>\n",
       "    </tr>\n",
       "    <tr>\n",
       "      <th>8122</th>\n",
       "      <td>edible</td>\n",
       "    </tr>\n",
       "    <tr>\n",
       "      <th>8123</th>\n",
       "      <td>edible</td>\n",
       "    </tr>\n",
       "  </tbody>\n",
       "</table>\n",
       "<p>8124 rows × 1 columns</p>\n",
       "</div>"
      ],
      "text/plain": [
       "        edible\n",
       "0     inedible\n",
       "1       edible\n",
       "2       edible\n",
       "3     inedible\n",
       "4       edible\n",
       "...        ...\n",
       "8119  inedible\n",
       "8120    edible\n",
       "8121  inedible\n",
       "8122    edible\n",
       "8123    edible\n",
       "\n",
       "[8124 rows x 1 columns]"
      ]
     },
     "execution_count": 9,
     "metadata": {},
     "output_type": "execute_result"
    }
   ],
   "source": [
    "Y"
   ]
  },
  {
   "cell_type": "markdown",
   "metadata": {},
   "source": [
    "## Exploratory Data Analysis:\n",
    "Looking into what type of measure the attributes are."
   ]
  },
  {
   "cell_type": "code",
   "execution_count": 10,
   "metadata": {},
   "outputs": [
    {
     "data": {
      "text/html": [
       "<div>\n",
       "<style scoped>\n",
       "    .dataframe tbody tr th:only-of-type {\n",
       "        vertical-align: middle;\n",
       "    }\n",
       "\n",
       "    .dataframe tbody tr th {\n",
       "        vertical-align: top;\n",
       "    }\n",
       "\n",
       "    .dataframe thead th {\n",
       "        text-align: right;\n",
       "    }\n",
       "</style>\n",
       "<table border=\"1\" class=\"dataframe\">\n",
       "  <thead>\n",
       "    <tr style=\"text-align: right;\">\n",
       "      <th></th>\n",
       "      <th>edible-poisonous</th>\n",
       "      <th>cap-shape</th>\n",
       "      <th>cap-surface</th>\n",
       "      <th>cap-color</th>\n",
       "      <th>bruises</th>\n",
       "      <th>odor</th>\n",
       "      <th>colony</th>\n",
       "      <th>edible</th>\n",
       "    </tr>\n",
       "  </thead>\n",
       "  <tbody>\n",
       "    <tr>\n",
       "      <th>count</th>\n",
       "      <td>8124</td>\n",
       "      <td>8124</td>\n",
       "      <td>8124</td>\n",
       "      <td>8124</td>\n",
       "      <td>8124</td>\n",
       "      <td>8124</td>\n",
       "      <td>8124</td>\n",
       "      <td>8124</td>\n",
       "    </tr>\n",
       "    <tr>\n",
       "      <th>unique</th>\n",
       "      <td>2</td>\n",
       "      <td>6</td>\n",
       "      <td>4</td>\n",
       "      <td>10</td>\n",
       "      <td>2</td>\n",
       "      <td>9</td>\n",
       "      <td>410</td>\n",
       "      <td>2</td>\n",
       "    </tr>\n",
       "    <tr>\n",
       "      <th>top</th>\n",
       "      <td>edible</td>\n",
       "      <td>convex</td>\n",
       "      <td>scaly</td>\n",
       "      <td>brown</td>\n",
       "      <td>no</td>\n",
       "      <td>none</td>\n",
       "      <td>1</td>\n",
       "      <td>edible</td>\n",
       "    </tr>\n",
       "    <tr>\n",
       "      <th>freq</th>\n",
       "      <td>4208</td>\n",
       "      <td>3656</td>\n",
       "      <td>3244</td>\n",
       "      <td>2284</td>\n",
       "      <td>4748</td>\n",
       "      <td>3528</td>\n",
       "      <td>3768</td>\n",
       "      <td>4208</td>\n",
       "    </tr>\n",
       "  </tbody>\n",
       "</table>\n",
       "</div>"
      ],
      "text/plain": [
       "       edible-poisonous cap-shape cap-surface cap-color bruises  odor colony  \\\n",
       "count              8124      8124        8124      8124    8124  8124   8124   \n",
       "unique                2         6           4        10       2     9    410   \n",
       "top              edible    convex       scaly     brown      no  none      1   \n",
       "freq               4208      3656        3244      2284    4748  3528   3768   \n",
       "\n",
       "        edible  \n",
       "count     8124  \n",
       "unique       2  \n",
       "top     edible  \n",
       "freq      4208  "
      ]
     },
     "execution_count": 10,
     "metadata": {},
     "output_type": "execute_result"
    }
   ],
   "source": [
    "df.describe()"
   ]
  },
  {
   "cell_type": "code",
   "execution_count": 11,
   "metadata": {},
   "outputs": [
    {
     "data": {
      "text/plain": [
       "Text(0, 0.5, 'Count')"
      ]
     },
     "execution_count": 11,
     "metadata": {},
     "output_type": "execute_result"
    },
    {
     "data": {
      "image/png": "[encoded data removed]",
      "text/plain": [
       "<Figure size 1008x576 with 1 Axes>"
      ]
     },
     "metadata": {
      "needs_background": "light"
     },
     "output_type": "display_data"
    }
   ],
   "source": [
    "#Cap Shape\n",
    "plot = X_train['cap-shape'].value_counts().plot(kind='bar',\n",
    "                                    figsize=(14,8),\n",
    "                                    title=\"Count of Cap Shape\")\n",
    "plot.set_xlabel(\"Cap Shape\")\n",
    "plot.set_ylabel(\"Count\")"
   ]
  },
  {
   "cell_type": "code",
   "execution_count": 12,
   "metadata": {},
   "outputs": [
    {
     "data": {
      "text/plain": [
       "Text(0, 0.5, 'Count')"
      ]
     },
     "execution_count": 12,
     "metadata": {},
     "output_type": "execute_result"
    },
    {
     "data": {
      "image/png": "[encoded data removed]",
      "text/plain": [
       "<Figure size 1008x576 with 1 Axes>"
      ]
     },
     "metadata": {
      "needs_background": "light"
     },
     "output_type": "display_data"
    }
   ],
   "source": [
    "#Cap Surface\n",
    "plot = X_train['cap-surface'].value_counts().plot(kind='bar',\n",
    "                                    figsize=(14,8),\n",
    "                                    title=\"Count of Cap Surface\")\n",
    "plot.set_xlabel(\"Cap Surface\")\n",
    "plot.set_ylabel(\"Count\")"
   ]
  },
  {
   "cell_type": "code",
   "execution_count": 13,
   "metadata": {},
   "outputs": [
    {
     "data": {
      "text/plain": [
       "Text(0, 0.5, 'Count')"
      ]
     },
     "execution_count": 13,
     "metadata": {},
     "output_type": "execute_result"
    },
    {
     "data": {
      "image/png": "[encoded data removed]",
      "text/plain": [
       "<Figure size 1008x576 with 1 Axes>"
      ]
     },
     "metadata": {
      "needs_background": "light"
     },
     "output_type": "display_data"
    }
   ],
   "source": [
    "#Cap Color\n",
    "plot = X_train['cap-color'].value_counts().plot(kind='bar',\n",
    "                                    figsize=(14,8),\n",
    "                                    title=\"Count of Cap Color\")\n",
    "plot.set_xlabel(\"Cap Color\")\n",
    "plot.set_ylabel(\"Count\")"
   ]
  },
  {
   "cell_type": "code",
   "execution_count": 14,
   "metadata": {},
   "outputs": [
    {
     "data": {
      "text/plain": [
       "Text(0, 0.5, 'Count')"
      ]
     },
     "execution_count": 14,
     "metadata": {},
     "output_type": "execute_result"
    },
    {
     "data": {
      "image/png": "[encoded data removed]",
      "text/plain": [
       "<Figure size 1008x576 with 1 Axes>"
      ]
     },
     "metadata": {
      "needs_background": "light"
     },
     "output_type": "display_data"
    }
   ],
   "source": [
    "#Bruises\n",
    "plot = X_train['bruises'].value_counts().plot(kind='bar',\n",
    "                                    figsize=(14,8),\n",
    "                                    title=\"Count of Bruises\")\n",
    "plot.set_xlabel(\"Bruises\")\n",
    "plot.set_ylabel(\"Count\")"
   ]
  },
  {
   "cell_type": "code",
   "execution_count": 15,
   "metadata": {},
   "outputs": [
    {
     "data": {
      "text/plain": [
       "Text(0, 0.5, 'Count')"
      ]
     },
     "execution_count": 15,
     "metadata": {},
     "output_type": "execute_result"
    },
    {
     "data": {
      "image/png": "[encoded data removed]",
      "text/plain": [
       "<Figure size 1008x576 with 1 Axes>"
      ]
     },
     "metadata": {
      "needs_background": "light"
     },
     "output_type": "display_data"
    }
   ],
   "source": [
    "#Cap Shape\n",
    "plot = X_train['odor'].value_counts().plot(kind='bar',\n",
    "                                    figsize=(14,8),\n",
    "                                    title=\"Count of Odor\")\n",
    "plot.set_xlabel(\"Cap Odor\")\n",
    "plot.set_ylabel(\"Count\")"
   ]
  },
  {
   "cell_type": "code",
   "execution_count": 16,
   "metadata": {},
   "outputs": [
    {
     "data": {
      "text/plain": [
       "Text(0, 0.5, 'Count')"
      ]
     },
     "execution_count": 16,
     "metadata": {},
     "output_type": "execute_result"
    },
    {
     "data": {
      "image/png": "[encoded data removed]",
      "text/plain": [
       "<Figure size 1008x576 with 1 Axes>"
      ]
     },
     "metadata": {
      "needs_background": "light"
     },
     "output_type": "display_data"
    }
   ],
   "source": [
    "#Colony\n",
    "plot = X_train['colony'].value_counts().plot(kind='bar',\n",
    "                                    figsize=(14,8),\n",
    "                                    title=\"Count of Colony\")\n",
    "plot.set_xlabel(\"Colony\")\n",
    "plot.set_ylabel(\"Count\")"
   ]
  },
  {
   "cell_type": "code",
   "execution_count": 17,
   "metadata": {},
   "outputs": [
    {
     "data": {
      "text/plain": [
       "count     6499\n",
       "unique     360\n",
       "top          1\n",
       "freq      3007\n",
       "Name: colony, dtype: object"
      ]
     },
     "execution_count": 17,
     "metadata": {},
     "output_type": "execute_result"
    }
   ],
   "source": [
    "X_train['colony'].describe()"
   ]
  },
  {
   "cell_type": "code",
   "execution_count": 18,
   "metadata": {},
   "outputs": [
    {
     "name": "stderr",
     "output_type": "stream",
     "text": [
      "<ipython-input-18-5e62faaf4f5a>:1: SettingWithCopyWarning: \n",
      "A value is trying to be set on a copy of a slice from a DataFrame.\n",
      "Try using .loc[row_indexer,col_indexer] = value instead\n",
      "\n",
      "See the caveats in the documentation: https://pandas.pydata.org/pandas-docs/stable/user_guide/indexing.html#returning-a-view-versus-a-copy\n",
      "  X_train['colony'] = X_train['colony'].astype('int')\n",
      "c:\\users\\owner\\appdata\\local\\programs\\python\\python38\\lib\\site-packages\\pandas\\core\\indexing.py:1599: SettingWithCopyWarning: \n",
      "A value is trying to be set on a copy of a slice from a DataFrame.\n",
      "Try using .loc[row_indexer,col_indexer] = value instead\n",
      "\n",
      "See the caveats in the documentation: https://pandas.pydata.org/pandas-docs/stable/user_guide/indexing.html#returning-a-view-versus-a-copy\n",
      "  self.obj[key] = infer_fill_value(value)\n",
      "c:\\users\\owner\\appdata\\local\\programs\\python\\python38\\lib\\site-packages\\pandas\\core\\indexing.py:1720: SettingWithCopyWarning: \n",
      "A value is trying to be set on a copy of a slice from a DataFrame.\n",
      "Try using .loc[row_indexer,col_indexer] = value instead\n",
      "\n",
      "See the caveats in the documentation: https://pandas.pydata.org/pandas-docs/stable/user_guide/indexing.html#returning-a-view-versus-a-copy\n",
      "  self._setitem_single_column(loc, value, pi)\n",
      "c:\\users\\owner\\appdata\\local\\programs\\python\\python38\\lib\\site-packages\\pandas\\core\\indexing.py:1720: SettingWithCopyWarning: \n",
      "A value is trying to be set on a copy of a slice from a DataFrame.\n",
      "Try using .loc[row_indexer,col_indexer] = value instead\n",
      "\n",
      "See the caveats in the documentation: https://pandas.pydata.org/pandas-docs/stable/user_guide/indexing.html#returning-a-view-versus-a-copy\n",
      "  self._setitem_single_column(loc, value, pi)\n",
      "<ipython-input-18-5e62faaf4f5a>:6: SettingWithCopyWarning: \n",
      "A value is trying to be set on a copy of a slice from a DataFrame.\n",
      "Try using .loc[row_indexer,col_indexer] = value instead\n",
      "\n",
      "See the caveats in the documentation: https://pandas.pydata.org/pandas-docs/stable/user_guide/indexing.html#returning-a-view-versus-a-copy\n",
      "  X_test['colony'] = X_test['colony'].astype('int')\n",
      "c:\\users\\owner\\appdata\\local\\programs\\python\\python38\\lib\\site-packages\\pandas\\core\\indexing.py:1599: SettingWithCopyWarning: \n",
      "A value is trying to be set on a copy of a slice from a DataFrame.\n",
      "Try using .loc[row_indexer,col_indexer] = value instead\n",
      "\n",
      "See the caveats in the documentation: https://pandas.pydata.org/pandas-docs/stable/user_guide/indexing.html#returning-a-view-versus-a-copy\n",
      "  self.obj[key] = infer_fill_value(value)\n",
      "c:\\users\\owner\\appdata\\local\\programs\\python\\python38\\lib\\site-packages\\pandas\\core\\indexing.py:1720: SettingWithCopyWarning: \n",
      "A value is trying to be set on a copy of a slice from a DataFrame.\n",
      "Try using .loc[row_indexer,col_indexer] = value instead\n",
      "\n",
      "See the caveats in the documentation: https://pandas.pydata.org/pandas-docs/stable/user_guide/indexing.html#returning-a-view-versus-a-copy\n",
      "  self._setitem_single_column(loc, value, pi)\n",
      "c:\\users\\owner\\appdata\\local\\programs\\python\\python38\\lib\\site-packages\\pandas\\core\\indexing.py:1720: SettingWithCopyWarning: \n",
      "A value is trying to be set on a copy of a slice from a DataFrame.\n",
      "Try using .loc[row_indexer,col_indexer] = value instead\n",
      "\n",
      "See the caveats in the documentation: https://pandas.pydata.org/pandas-docs/stable/user_guide/indexing.html#returning-a-view-versus-a-copy\n",
      "  self._setitem_single_column(loc, value, pi)\n"
     ]
    }
   ],
   "source": [
    "X_train['colony'] = X_train['colony'].astype('int')\n",
    "X_train.loc[(X_train['colony'] <=2 ),'dcolony'] = 'single'\n",
    "X_train.loc[(X_train['colony'] > 2 ),'dcolony'] = 'colony'\n",
    "X_train = X_train.drop(columns=['colony'])\n",
    "\n",
    "X_test['colony'] = X_test['colony'].astype('int')\n",
    "X_test.loc[(X_test['colony'] <=2 ),'dcolony'] = 'single'\n",
    "X_test.loc[(X_test['colony'] >2 ),'dcolony'] = 'colony'\n",
    "X_test = X_test.drop(columns=['colony'])"
   ]
  },
  {
   "cell_type": "markdown",
   "metadata": {},
   "source": [
    "## Mining or Analytics:\n",
    "Using two way tables to get frequency of attribute per class."
   ]
  },
  {
   "cell_type": "code",
   "execution_count": 19,
   "metadata": {},
   "outputs": [
    {
     "data": {
      "text/html": [
       "<div>\n",
       "<style scoped>\n",
       "    .dataframe tbody tr th:only-of-type {\n",
       "        vertical-align: middle;\n",
       "    }\n",
       "\n",
       "    .dataframe tbody tr th {\n",
       "        vertical-align: top;\n",
       "    }\n",
       "\n",
       "    .dataframe thead th {\n",
       "        text-align: right;\n",
       "    }\n",
       "</style>\n",
       "<table border=\"1\" class=\"dataframe\">\n",
       "  <thead>\n",
       "    <tr style=\"text-align: right;\">\n",
       "      <th>edible</th>\n",
       "      <th>edible</th>\n",
       "      <th>inedible</th>\n",
       "      <th>All</th>\n",
       "    </tr>\n",
       "    <tr>\n",
       "      <th>cap-shape</th>\n",
       "      <th></th>\n",
       "      <th></th>\n",
       "      <th></th>\n",
       "    </tr>\n",
       "  </thead>\n",
       "  <tbody>\n",
       "    <tr>\n",
       "      <th>bell</th>\n",
       "      <td>329</td>\n",
       "      <td>37</td>\n",
       "      <td>366</td>\n",
       "    </tr>\n",
       "    <tr>\n",
       "      <th>conical</th>\n",
       "      <td>0</td>\n",
       "      <td>4</td>\n",
       "      <td>4</td>\n",
       "    </tr>\n",
       "    <tr>\n",
       "      <th>convex</th>\n",
       "      <td>1534</td>\n",
       "      <td>1381</td>\n",
       "      <td>2915</td>\n",
       "    </tr>\n",
       "    <tr>\n",
       "      <th>flat</th>\n",
       "      <td>1287</td>\n",
       "      <td>1233</td>\n",
       "      <td>2520</td>\n",
       "    </tr>\n",
       "    <tr>\n",
       "      <th>knobbed</th>\n",
       "      <td>177</td>\n",
       "      <td>494</td>\n",
       "      <td>671</td>\n",
       "    </tr>\n",
       "    <tr>\n",
       "      <th>sunken</th>\n",
       "      <td>23</td>\n",
       "      <td>0</td>\n",
       "      <td>23</td>\n",
       "    </tr>\n",
       "    <tr>\n",
       "      <th>All</th>\n",
       "      <td>3350</td>\n",
       "      <td>3149</td>\n",
       "      <td>6499</td>\n",
       "    </tr>\n",
       "  </tbody>\n",
       "</table>\n",
       "</div>"
      ],
      "text/plain": [
       "edible     edible  inedible   All\n",
       "cap-shape                        \n",
       "bell          329        37   366\n",
       "conical         0         4     4\n",
       "convex       1534      1381  2915\n",
       "flat         1287      1233  2520\n",
       "knobbed       177       494   671\n",
       "sunken         23         0    23\n",
       "All          3350      3149  6499"
      ]
     },
     "execution_count": 19,
     "metadata": {},
     "output_type": "execute_result"
    }
   ],
   "source": [
    "cap_shape = pd.crosstab(index=X_train[\"cap-shape\"],columns=Y_train[\"edible\"],margins=True)\n",
    "cap_shape"
   ]
  },
  {
   "cell_type": "markdown",
   "metadata": {},
   "source": [
    "Base on the frequency of edible and inedible, we would generate the following rule set for the Cap Shape attribute:\n",
    "\n",
    "bell -> Edible     \n",
    "conical\t-> Inedible  \n",
    "convex -> Edible   \n",
    "flat -> Edible     \n",
    "knobbed\t-> Inedible  \n",
    "sunken -> Edible  \n",
    "\n",
    "Now we determine the error rate of the Cap Shape rules."
   ]
  },
  {
   "cell_type": "code",
   "execution_count": 20,
   "metadata": {},
   "outputs": [
    {
     "data": {
      "text/plain": [
       "0.43514386828742885"
      ]
     },
     "execution_count": 20,
     "metadata": {},
     "output_type": "execute_result"
    }
   ],
   "source": [
    "errors = 0\n",
    "errors += cap_shape.loc['bell','inedible'] \n",
    "errors += cap_shape.loc['conical','edible']\n",
    "errors += cap_shape.loc['convex','inedible']\n",
    "errors += cap_shape.loc['flat','inedible']\n",
    "errors += cap_shape.loc['knobbed','edible']\n",
    "errors += cap_shape.loc['sunken','inedible']\n",
    "\n",
    "error_rate = errors/cap_shape.loc['All','All']\n",
    "error_rate"
   ]
  },
  {
   "cell_type": "code",
   "execution_count": 21,
   "metadata": {},
   "outputs": [
    {
     "data": {
      "text/html": [
       "<div>\n",
       "<style scoped>\n",
       "    .dataframe tbody tr th:only-of-type {\n",
       "        vertical-align: middle;\n",
       "    }\n",
       "\n",
       "    .dataframe tbody tr th {\n",
       "        vertical-align: top;\n",
       "    }\n",
       "\n",
       "    .dataframe thead th {\n",
       "        text-align: right;\n",
       "    }\n",
       "</style>\n",
       "<table border=\"1\" class=\"dataframe\">\n",
       "  <thead>\n",
       "    <tr style=\"text-align: right;\">\n",
       "      <th>edible</th>\n",
       "      <th>edible</th>\n",
       "      <th>inedible</th>\n",
       "      <th>All</th>\n",
       "    </tr>\n",
       "    <tr>\n",
       "      <th>cap-surface</th>\n",
       "      <th></th>\n",
       "      <th></th>\n",
       "      <th></th>\n",
       "    </tr>\n",
       "  </thead>\n",
       "  <tbody>\n",
       "    <tr>\n",
       "      <th>fibrous</th>\n",
       "      <td>1264</td>\n",
       "      <td>612</td>\n",
       "      <td>1876</td>\n",
       "    </tr>\n",
       "    <tr>\n",
       "      <th>grooves</th>\n",
       "      <td>0</td>\n",
       "      <td>2</td>\n",
       "      <td>2</td>\n",
       "    </tr>\n",
       "    <tr>\n",
       "      <th>scaly</th>\n",
       "      <td>1196</td>\n",
       "      <td>1397</td>\n",
       "      <td>2593</td>\n",
       "    </tr>\n",
       "    <tr>\n",
       "      <th>smooth</th>\n",
       "      <td>890</td>\n",
       "      <td>1138</td>\n",
       "      <td>2028</td>\n",
       "    </tr>\n",
       "    <tr>\n",
       "      <th>All</th>\n",
       "      <td>3350</td>\n",
       "      <td>3149</td>\n",
       "      <td>6499</td>\n",
       "    </tr>\n",
       "  </tbody>\n",
       "</table>\n",
       "</div>"
      ],
      "text/plain": [
       "edible       edible  inedible   All\n",
       "cap-surface                        \n",
       "fibrous        1264       612  1876\n",
       "grooves           0         2     2\n",
       "scaly          1196      1397  2593\n",
       "smooth          890      1138  2028\n",
       "All            3350      3149  6499"
      ]
     },
     "execution_count": 21,
     "metadata": {},
     "output_type": "execute_result"
    }
   ],
   "source": [
    "cap_surface = pd.crosstab(index=X_train[\"cap-surface\"],columns=Y_train[\"edible\"],margins=True)\n",
    "cap_surface"
   ]
  },
  {
   "cell_type": "markdown",
   "metadata": {},
   "source": [
    "Base on the frequency of edible and inedible, we would generate the following rule set for the Cap Surface attribute:\n",
    "\n",
    "fibrous -> Edible  \n",
    "grooves\t-> Inedible  \n",
    "scaly -> Inedible  \n",
    "smooth -> Inedible \n",
    "\n",
    "Now we determine the error rate of the Cap Surface rules."
   ]
  },
  {
   "cell_type": "code",
   "execution_count": 22,
   "metadata": {},
   "outputs": [
    {
     "data": {
      "text/plain": [
       "0.4151407908909063"
      ]
     },
     "execution_count": 22,
     "metadata": {},
     "output_type": "execute_result"
    }
   ],
   "source": [
    "errors = 0\n",
    "errors += cap_surface.loc['fibrous','inedible'] \n",
    "errors += cap_surface.loc['grooves','edible']\n",
    "errors += cap_surface.loc['scaly','edible']\n",
    "errors += cap_surface.loc['smooth','edible']\n",
    "\n",
    "error_rate = errors/cap_surface.loc['All','All']\n",
    "error_rate"
   ]
  },
  {
   "cell_type": "code",
   "execution_count": 23,
   "metadata": {},
   "outputs": [
    {
     "data": {
      "text/html": [
       "<div>\n",
       "<style scoped>\n",
       "    .dataframe tbody tr th:only-of-type {\n",
       "        vertical-align: middle;\n",
       "    }\n",
       "\n",
       "    .dataframe tbody tr th {\n",
       "        vertical-align: top;\n",
       "    }\n",
       "\n",
       "    .dataframe thead th {\n",
       "        text-align: right;\n",
       "    }\n",
       "</style>\n",
       "<table border=\"1\" class=\"dataframe\">\n",
       "  <thead>\n",
       "    <tr style=\"text-align: right;\">\n",
       "      <th>edible</th>\n",
       "      <th>edible</th>\n",
       "      <th>inedible</th>\n",
       "      <th>All</th>\n",
       "    </tr>\n",
       "    <tr>\n",
       "      <th>cap-color</th>\n",
       "      <th></th>\n",
       "      <th></th>\n",
       "      <th></th>\n",
       "    </tr>\n",
       "  </thead>\n",
       "  <tbody>\n",
       "    <tr>\n",
       "      <th>brown</th>\n",
       "      <td>1024</td>\n",
       "      <td>820</td>\n",
       "      <td>1844</td>\n",
       "    </tr>\n",
       "    <tr>\n",
       "      <th>buff</th>\n",
       "      <td>35</td>\n",
       "      <td>92</td>\n",
       "      <td>127</td>\n",
       "    </tr>\n",
       "    <tr>\n",
       "      <th>cinnamon</th>\n",
       "      <td>23</td>\n",
       "      <td>10</td>\n",
       "      <td>33</td>\n",
       "    </tr>\n",
       "    <tr>\n",
       "      <th>green</th>\n",
       "      <td>15</td>\n",
       "      <td>0</td>\n",
       "      <td>15</td>\n",
       "    </tr>\n",
       "    <tr>\n",
       "      <th>grey</th>\n",
       "      <td>824</td>\n",
       "      <td>645</td>\n",
       "      <td>1469</td>\n",
       "    </tr>\n",
       "    <tr>\n",
       "      <th>pink</th>\n",
       "      <td>49</td>\n",
       "      <td>70</td>\n",
       "      <td>119</td>\n",
       "    </tr>\n",
       "    <tr>\n",
       "      <th>purple</th>\n",
       "      <td>12</td>\n",
       "      <td>0</td>\n",
       "      <td>12</td>\n",
       "    </tr>\n",
       "    <tr>\n",
       "      <th>red</th>\n",
       "      <td>482</td>\n",
       "      <td>720</td>\n",
       "      <td>1202</td>\n",
       "    </tr>\n",
       "    <tr>\n",
       "      <th>white</th>\n",
       "      <td>562</td>\n",
       "      <td>262</td>\n",
       "      <td>824</td>\n",
       "    </tr>\n",
       "    <tr>\n",
       "      <th>yellow</th>\n",
       "      <td>324</td>\n",
       "      <td>530</td>\n",
       "      <td>854</td>\n",
       "    </tr>\n",
       "    <tr>\n",
       "      <th>All</th>\n",
       "      <td>3350</td>\n",
       "      <td>3149</td>\n",
       "      <td>6499</td>\n",
       "    </tr>\n",
       "  </tbody>\n",
       "</table>\n",
       "</div>"
      ],
      "text/plain": [
       "edible     edible  inedible   All\n",
       "cap-color                        \n",
       "brown        1024       820  1844\n",
       "buff           35        92   127\n",
       "cinnamon       23        10    33\n",
       "green          15         0    15\n",
       "grey          824       645  1469\n",
       "pink           49        70   119\n",
       "purple         12         0    12\n",
       "red           482       720  1202\n",
       "white         562       262   824\n",
       "yellow        324       530   854\n",
       "All          3350      3149  6499"
      ]
     },
     "execution_count": 23,
     "metadata": {},
     "output_type": "execute_result"
    }
   ],
   "source": [
    "cap_color = pd.crosstab(index=X_train[\"cap-color\"],columns=Y_train[\"edible\"],margins=True)\n",
    "cap_color"
   ]
  },
  {
   "cell_type": "markdown",
   "metadata": {},
   "source": [
    "Base on the frequency of edible and inedible, we would generate the following rule set for the Cap Color attribute:        \n",
    "\n",
    "brown -> Edible  \n",
    "buff  -> Inedible  \n",
    "cinnamon -> Edible  \n",
    "green -> Edible  \n",
    "grey -> Edible  \n",
    "pink  -> Inedible  \n",
    "purple  -> Edible  \n",
    "red  -> Inedible  \n",
    "white  -> Edible  \n",
    "yellow -> Inedible  \n",
    "\n",
    "Now we determine the error rate of the Cap Color rules."
   ]
  },
  {
   "cell_type": "code",
   "execution_count": 24,
   "metadata": {},
   "outputs": [
    {
     "data": {
      "text/plain": [
       "0.40421603323588245"
      ]
     },
     "execution_count": 24,
     "metadata": {},
     "output_type": "execute_result"
    }
   ],
   "source": [
    "errors = 0\n",
    "errors += cap_color.loc['brown','inedible'] \n",
    "errors += cap_color.loc['buff','edible']\n",
    "errors += cap_color.loc['cinnamon','inedible']\n",
    "errors += cap_color.loc['green','inedible']\n",
    "errors += cap_color.loc['grey','inedible']\n",
    "errors += cap_color.loc['pink','edible']\n",
    "errors += cap_color.loc['purple','inedible']\n",
    "errors += cap_color.loc['red','edible']\n",
    "errors += cap_color.loc['white','inedible']\n",
    "errors += cap_color.loc['yellow','edible']\n",
    "\n",
    "\n",
    "error_rate = errors/cap_color.loc['All','All']\n",
    "error_rate"
   ]
  },
  {
   "cell_type": "code",
   "execution_count": 25,
   "metadata": {},
   "outputs": [
    {
     "data": {
      "text/html": [
       "<div>\n",
       "<style scoped>\n",
       "    .dataframe tbody tr th:only-of-type {\n",
       "        vertical-align: middle;\n",
       "    }\n",
       "\n",
       "    .dataframe tbody tr th {\n",
       "        vertical-align: top;\n",
       "    }\n",
       "\n",
       "    .dataframe thead th {\n",
       "        text-align: right;\n",
       "    }\n",
       "</style>\n",
       "<table border=\"1\" class=\"dataframe\">\n",
       "  <thead>\n",
       "    <tr style=\"text-align: right;\">\n",
       "      <th>edible</th>\n",
       "      <th>edible</th>\n",
       "      <th>inedible</th>\n",
       "      <th>All</th>\n",
       "    </tr>\n",
       "    <tr>\n",
       "      <th>bruises</th>\n",
       "      <th></th>\n",
       "      <th></th>\n",
       "      <th></th>\n",
       "    </tr>\n",
       "  </thead>\n",
       "  <tbody>\n",
       "    <tr>\n",
       "      <th>bruises</th>\n",
       "      <td>2206</td>\n",
       "      <td>497</td>\n",
       "      <td>2703</td>\n",
       "    </tr>\n",
       "    <tr>\n",
       "      <th>no</th>\n",
       "      <td>1144</td>\n",
       "      <td>2652</td>\n",
       "      <td>3796</td>\n",
       "    </tr>\n",
       "    <tr>\n",
       "      <th>All</th>\n",
       "      <td>3350</td>\n",
       "      <td>3149</td>\n",
       "      <td>6499</td>\n",
       "    </tr>\n",
       "  </tbody>\n",
       "</table>\n",
       "</div>"
      ],
      "text/plain": [
       "edible   edible  inedible   All\n",
       "bruises                        \n",
       "bruises    2206       497  2703\n",
       "no         1144      2652  3796\n",
       "All        3350      3149  6499"
      ]
     },
     "execution_count": 25,
     "metadata": {},
     "output_type": "execute_result"
    }
   ],
   "source": [
    "bruises= pd.crosstab(index=X_train[\"bruises\"],columns=Y_train[\"edible\"],margins=True)\n",
    "bruises"
   ]
  },
  {
   "cell_type": "markdown",
   "metadata": {},
   "source": [
    "Base on the frequency of edible and inedible, we would generate the following rule set for the Cap Color attribute:\n",
    "\n",
    "bruises -> Edible    \n",
    "no  -> Inedible  \n",
    "\n",
    "Now we determine the error rate of the Bruises rules."
   ]
  },
  {
   "cell_type": "code",
   "execution_count": 26,
   "metadata": {},
   "outputs": [
    {
     "data": {
      "text/plain": [
       "0.2525003846745653"
      ]
     },
     "execution_count": 26,
     "metadata": {},
     "output_type": "execute_result"
    }
   ],
   "source": [
    "errors = 0\n",
    "errors += bruises.loc['bruises','inedible'] \n",
    "errors += bruises.loc['no','edible']\n",
    "\n",
    "\n",
    "error_rate = errors/bruises.loc['All','All']\n",
    "error_rate"
   ]
  },
  {
   "cell_type": "code",
   "execution_count": 27,
   "metadata": {},
   "outputs": [
    {
     "data": {
      "text/html": [
       "<div>\n",
       "<style scoped>\n",
       "    .dataframe tbody tr th:only-of-type {\n",
       "        vertical-align: middle;\n",
       "    }\n",
       "\n",
       "    .dataframe tbody tr th {\n",
       "        vertical-align: top;\n",
       "    }\n",
       "\n",
       "    .dataframe thead th {\n",
       "        text-align: right;\n",
       "    }\n",
       "</style>\n",
       "<table border=\"1\" class=\"dataframe\">\n",
       "  <thead>\n",
       "    <tr style=\"text-align: right;\">\n",
       "      <th>edible</th>\n",
       "      <th>edible</th>\n",
       "      <th>inedible</th>\n",
       "      <th>All</th>\n",
       "    </tr>\n",
       "    <tr>\n",
       "      <th>odor</th>\n",
       "      <th></th>\n",
       "      <th></th>\n",
       "      <th></th>\n",
       "    </tr>\n",
       "  </thead>\n",
       "  <tbody>\n",
       "    <tr>\n",
       "      <th>almond</th>\n",
       "      <td>329</td>\n",
       "      <td>0</td>\n",
       "      <td>329</td>\n",
       "    </tr>\n",
       "    <tr>\n",
       "      <th>anise</th>\n",
       "      <td>324</td>\n",
       "      <td>0</td>\n",
       "      <td>324</td>\n",
       "    </tr>\n",
       "    <tr>\n",
       "      <th>creosote</th>\n",
       "      <td>0</td>\n",
       "      <td>153</td>\n",
       "      <td>153</td>\n",
       "    </tr>\n",
       "    <tr>\n",
       "      <th>fishy</th>\n",
       "      <td>0</td>\n",
       "      <td>470</td>\n",
       "      <td>470</td>\n",
       "    </tr>\n",
       "    <tr>\n",
       "      <th>foul</th>\n",
       "      <td>0</td>\n",
       "      <td>1729</td>\n",
       "      <td>1729</td>\n",
       "    </tr>\n",
       "    <tr>\n",
       "      <th>musty</th>\n",
       "      <td>0</td>\n",
       "      <td>25</td>\n",
       "      <td>25</td>\n",
       "    </tr>\n",
       "    <tr>\n",
       "      <th>none</th>\n",
       "      <td>2697</td>\n",
       "      <td>93</td>\n",
       "      <td>2790</td>\n",
       "    </tr>\n",
       "    <tr>\n",
       "      <th>pungent</th>\n",
       "      <td>0</td>\n",
       "      <td>209</td>\n",
       "      <td>209</td>\n",
       "    </tr>\n",
       "    <tr>\n",
       "      <th>spicy</th>\n",
       "      <td>0</td>\n",
       "      <td>470</td>\n",
       "      <td>470</td>\n",
       "    </tr>\n",
       "    <tr>\n",
       "      <th>All</th>\n",
       "      <td>3350</td>\n",
       "      <td>3149</td>\n",
       "      <td>6499</td>\n",
       "    </tr>\n",
       "  </tbody>\n",
       "</table>\n",
       "</div>"
      ],
      "text/plain": [
       "edible    edible  inedible   All\n",
       "odor                            \n",
       "almond       329         0   329\n",
       "anise        324         0   324\n",
       "creosote       0       153   153\n",
       "fishy          0       470   470\n",
       "foul           0      1729  1729\n",
       "musty          0        25    25\n",
       "none        2697        93  2790\n",
       "pungent        0       209   209\n",
       "spicy          0       470   470\n",
       "All         3350      3149  6499"
      ]
     },
     "execution_count": 27,
     "metadata": {},
     "output_type": "execute_result"
    }
   ],
   "source": [
    "odor = pd.crosstab(index=X_train[\"odor\"],columns=Y_train[\"edible\"],margins=True)\n",
    "odor"
   ]
  },
  {
   "cell_type": "markdown",
   "metadata": {},
   "source": [
    "Base on the frequency of edible and inedible, we would generate the following rule set for the Odor attribute:\n",
    "\n",
    "almond -> edible\t\n",
    "anise\t-> edible   \n",
    "creosote ->\tinedible      \t\n",
    "fishy\t-> inedible  \n",
    "foul\t-> inedible\t \n",
    "musty\t-> inedible\t \n",
    "none\t-> edible\t  \n",
    "pungent\t-> inedible\t    \n",
    "spicy\t-> inedible \n",
    "\n",
    "Now we determine the error rate of the Odor rules."
   ]
  },
  {
   "cell_type": "code",
   "execution_count": 28,
   "metadata": {},
   "outputs": [
    {
     "data": {
      "text/plain": [
       "0.014309893829819972"
      ]
     },
     "execution_count": 28,
     "metadata": {},
     "output_type": "execute_result"
    }
   ],
   "source": [
    "errors = 0\n",
    "errors += odor.loc['almond','inedible'] \n",
    "errors += odor.loc['anise','inedible']\n",
    "errors += odor.loc['creosote','edible']\n",
    "errors += odor.loc['fishy','edible']\n",
    "errors += odor.loc['foul','edible']\n",
    "errors += odor.loc['musty','edible']\n",
    "errors += odor.loc['none','inedible']\n",
    "errors += odor.loc['pungent','edible']\n",
    "errors += odor.loc['spicy','edible']\n",
    "\n",
    "\n",
    "error_rate = errors/odor.loc['All','All']\n",
    "error_rate"
   ]
  },
  {
   "cell_type": "code",
   "execution_count": 29,
   "metadata": {},
   "outputs": [
    {
     "data": {
      "text/html": [
       "<div>\n",
       "<style scoped>\n",
       "    .dataframe tbody tr th:only-of-type {\n",
       "        vertical-align: middle;\n",
       "    }\n",
       "\n",
       "    .dataframe tbody tr th {\n",
       "        vertical-align: top;\n",
       "    }\n",
       "\n",
       "    .dataframe thead th {\n",
       "        text-align: right;\n",
       "    }\n",
       "</style>\n",
       "<table border=\"1\" class=\"dataframe\">\n",
       "  <thead>\n",
       "    <tr style=\"text-align: right;\">\n",
       "      <th>edible</th>\n",
       "      <th>edible</th>\n",
       "      <th>inedible</th>\n",
       "      <th>All</th>\n",
       "    </tr>\n",
       "    <tr>\n",
       "      <th>dcolony</th>\n",
       "      <th></th>\n",
       "      <th></th>\n",
       "      <th></th>\n",
       "    </tr>\n",
       "  </thead>\n",
       "  <tbody>\n",
       "    <tr>\n",
       "      <th>colony</th>\n",
       "      <td>1553</td>\n",
       "      <td>332</td>\n",
       "      <td>1885</td>\n",
       "    </tr>\n",
       "    <tr>\n",
       "      <th>single</th>\n",
       "      <td>1797</td>\n",
       "      <td>2817</td>\n",
       "      <td>4614</td>\n",
       "    </tr>\n",
       "    <tr>\n",
       "      <th>All</th>\n",
       "      <td>3350</td>\n",
       "      <td>3149</td>\n",
       "      <td>6499</td>\n",
       "    </tr>\n",
       "  </tbody>\n",
       "</table>\n",
       "</div>"
      ],
      "text/plain": [
       "edible   edible  inedible   All\n",
       "dcolony                        \n",
       "colony     1553       332  1885\n",
       "single     1797      2817  4614\n",
       "All        3350      3149  6499"
      ]
     },
     "execution_count": 29,
     "metadata": {},
     "output_type": "execute_result"
    }
   ],
   "source": [
    "dcolony = pd.crosstab(index=X_train[\"dcolony\"],columns=Y_train[\"edible\"],margins=True)\n",
    "dcolony"
   ]
  },
  {
   "cell_type": "markdown",
   "metadata": {},
   "source": [
    "Base on the frequency of edible and inedible, we would generate the following rule set for the Discretized Colony attribute:\n",
    "\n",
    "colony -> edible\n",
    "single -> inedible\n",
    "\n",
    "Now we determine the error rate of the Colony rules."
   ]
  },
  {
   "cell_type": "code",
   "execution_count": 30,
   "metadata": {},
   "outputs": [
    {
     "data": {
      "text/plain": [
       "0.3275888598245884"
      ]
     },
     "execution_count": 30,
     "metadata": {},
     "output_type": "execute_result"
    }
   ],
   "source": [
    "errors = 0\n",
    "errors += dcolony.loc['colony','inedible'] \n",
    "errors += dcolony.loc['single','edible']\n",
    "\n",
    "error_rate = errors/dcolony.loc['All','All']\n",
    "error_rate"
   ]
  },
  {
   "cell_type": "markdown",
   "metadata": {},
   "source": [
    "The Rule Set with the best error rate is the Odor Rules Set, which has an error rate of 0.0143.\n",
    "\n",
    "So we choose the the Odor Rules Set as out One Rule."
   ]
  },
  {
   "cell_type": "markdown",
   "metadata": {},
   "source": [
    "## Evaluation:"
   ]
  },
  {
   "cell_type": "markdown",
   "metadata": {},
   "source": [
    "After selecting the Odor Rules Set we want to evalues the model with our test data set to see if our model could be generalizable.\n",
    "\n",
    "almond -> edible\t\n",
    "anise\t-> edible   \n",
    "creosote ->\tinedible      \t\n",
    "fishy\t-> inedible  \n",
    "foul\t-> inedible\t \n",
    "musty\t-> inedible\t \n",
    "none\t-> edible\t  \n",
    "pungent\t-> inedible\t    \n",
    "spicy\t-> inedible "
   ]
  },
  {
   "cell_type": "code",
   "execution_count": 31,
   "metadata": {},
   "outputs": [],
   "source": [
    "# Determine predicted values\n",
    "prediction = pd.DataFrame(X_test['odor'])\n",
    "prediction = prediction.rename(columns={'odor': 'prediction'})\n",
    "\n",
    "prediction[prediction['prediction'] ==  'almond'] = 'edible'\n",
    "prediction[prediction['prediction'] ==  'anise'] = 'edible'\n",
    "prediction[prediction['prediction'] ==  'creosote'] = 'inedible'\n",
    "prediction[prediction['prediction'] ==  'fishy'] = 'inedible'\n",
    "prediction[prediction['prediction'] ==  'foul'] = 'inedible'\n",
    "prediction[prediction['prediction'] ==  'musty'] = 'inedible'\n",
    "prediction[prediction['prediction'] ==  'none'] = 'edible'\n",
    "prediction[prediction['prediction'] ==  'pungent'] = 'inedible'\n",
    "prediction[prediction['prediction'] ==  'spicy'] = 'inedible'"
   ]
  },
  {
   "cell_type": "code",
   "execution_count": 32,
   "metadata": {},
   "outputs": [
    {
     "data": {
      "text/html": [
       "<div>\n",
       "<style scoped>\n",
       "    .dataframe tbody tr th:only-of-type {\n",
       "        vertical-align: middle;\n",
       "    }\n",
       "\n",
       "    .dataframe tbody tr th {\n",
       "        vertical-align: top;\n",
       "    }\n",
       "\n",
       "    .dataframe thead th {\n",
       "        text-align: right;\n",
       "    }\n",
       "</style>\n",
       "<table border=\"1\" class=\"dataframe\">\n",
       "  <thead>\n",
       "    <tr style=\"text-align: right;\">\n",
       "      <th></th>\n",
       "      <th>edible</th>\n",
       "    </tr>\n",
       "  </thead>\n",
       "  <tbody>\n",
       "    <tr>\n",
       "      <th>186</th>\n",
       "      <td>edible</td>\n",
       "    </tr>\n",
       "    <tr>\n",
       "      <th>2883</th>\n",
       "      <td>edible</td>\n",
       "    </tr>\n",
       "    <tr>\n",
       "      <th>5769</th>\n",
       "      <td>inedible</td>\n",
       "    </tr>\n",
       "    <tr>\n",
       "      <th>4363</th>\n",
       "      <td>inedible</td>\n",
       "    </tr>\n",
       "    <tr>\n",
       "      <th>2889</th>\n",
       "      <td>edible</td>\n",
       "    </tr>\n",
       "    <tr>\n",
       "      <th>...</th>\n",
       "      <td>...</td>\n",
       "    </tr>\n",
       "    <tr>\n",
       "      <th>5129</th>\n",
       "      <td>inedible</td>\n",
       "    </tr>\n",
       "    <tr>\n",
       "      <th>4895</th>\n",
       "      <td>inedible</td>\n",
       "    </tr>\n",
       "    <tr>\n",
       "      <th>6744</th>\n",
       "      <td>inedible</td>\n",
       "    </tr>\n",
       "    <tr>\n",
       "      <th>896</th>\n",
       "      <td>edible</td>\n",
       "    </tr>\n",
       "    <tr>\n",
       "      <th>3646</th>\n",
       "      <td>edible</td>\n",
       "    </tr>\n",
       "  </tbody>\n",
       "</table>\n",
       "<p>1625 rows × 1 columns</p>\n",
       "</div>"
      ],
      "text/plain": [
       "        edible\n",
       "186     edible\n",
       "2883    edible\n",
       "5769  inedible\n",
       "4363  inedible\n",
       "2889    edible\n",
       "...        ...\n",
       "5129  inedible\n",
       "4895  inedible\n",
       "6744  inedible\n",
       "896     edible\n",
       "3646    edible\n",
       "\n",
       "[1625 rows x 1 columns]"
      ]
     },
     "execution_count": 32,
     "metadata": {},
     "output_type": "execute_result"
    }
   ],
   "source": [
    "Y_test"
   ]
  },
  {
   "cell_type": "code",
   "execution_count": 33,
   "metadata": {},
   "outputs": [
    {
     "name": "stdout",
     "output_type": "stream",
     "text": [
      "[[858   0]\n",
      " [ 27 740]]\n"
     ]
    }
   ],
   "source": [
    "# Confusion Matrix\n",
    "\n",
    "cm = confusion_matrix(Y_test['edible'], prediction['prediction'])\n",
    "print(cm)"
   ]
  },
  {
   "cell_type": "code",
   "execution_count": 34,
   "metadata": {},
   "outputs": [
    {
     "name": "stdout",
     "output_type": "stream",
     "text": [
      "Accuracy Score :\n",
      "0.9833846153846154\n",
      "\n",
      "\n",
      "Report :\n",
      "              precision    recall  f1-score   support\n",
      "\n",
      "      edible       0.97      1.00      0.98       858\n",
      "    inedible       1.00      0.96      0.98       767\n",
      "\n",
      "    accuracy                           0.98      1625\n",
      "   macro avg       0.98      0.98      0.98      1625\n",
      "weighted avg       0.98      0.98      0.98      1625\n",
      "\n"
     ]
    }
   ],
   "source": [
    "print(\"Accuracy Score :\")\n",
    "print(accuracy_score(Y_test['edible'], prediction['prediction']))\n",
    "print(\"\\n\")\n",
    "print(\"Report :\")\n",
    "print(classification_report(Y_test['edible'], prediction['prediction'])) "
   ]
  },
  {
   "cell_type": "markdown",
   "metadata": {},
   "source": [
    "After validating the model against the test data, we found the accuracy of the model to be 0.98.  This is enough to make us comfortable with models."
   ]
  },
  {
   "cell_type": "markdown",
   "metadata": {},
   "source": [
    "## Results:\n",
    "\n",
    "After a successfull validation, we feel that the Odor Rules Set would make a good model to determine whether a mushroom is edible or non-edible. The Odor Rules Set are as follows:\n",
    "\n",
    "almond -> edible  \n",
    "anise -> edible  \n",
    "creosote -> inedible  \n",
    "fishy -> inedible  \n",
    "foul -> inedible  \n",
    "musty -> inedible  \n",
    "none -> edible  \n",
    "pungent -> inedible  \n",
    "spicy -> inedible  "
   ]
  },
  {
   "cell_type": "markdown",
   "metadata": {},
   "source": [
    "## References:\n",
    "    \n",
    "Stack Overflow. (2015). Pandas DataFrame: replace all values in a column, based on condition. Retrieved (2020, June 22) from https://stackoverflow.com/questions/31511997/pandas-dataframe-replace-all-values-in-a-column-based-on-condition\n",
    "\n",
    "\n",
    "https://stackoverflow.com/questions/2161752/how-to-count-the-frequency-of-the-elements-in-an-unordered-list\n",
    "\n",
    "https://stackoverflow.com/questions/48939795/how-to-plot-a-count-bar-chart-with-a-pandas-df-grouping-by-one-categorical-colu\n",
    "\n",
    "http://hamelg.blogspot.com/2015/11/python-for-data-analysis-part-19_17.html\n",
    "\n",
    "https://www.geeksforgeeks.org/creating-a-dataframe-from-pandas-series/\n",
    "\n",
    "https://www.geeksforgeeks.org/confusion-matrix-machine-learning/"
   ]
  }
 ],
 "metadata": {
  "kernelspec": {
   "display_name": "Python 3",
   "language": "python",
   "name": "python3"
  },
  "language_info": {
   "codemirror_mode": {
    "name": "ipython",
    "version": 3
   },
   "file_extension": ".py",
   "mimetype": "text/x-python",
   "name": "python",
   "nbconvert_exporter": "python",
   "pygments_lexer": "ipython3",
   "version": "3.8.5"
  }
 },
 "nbformat": 4,
 "nbformat_minor": 4
}
